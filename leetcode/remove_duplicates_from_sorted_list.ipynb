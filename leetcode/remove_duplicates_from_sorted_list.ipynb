{
 "cells": [
  {
   "cell_type": "code",
   "execution_count": 1,
   "metadata": {},
   "outputs": [],
   "source": [
    "# 83.删除排序链表中的重复元素\n",
    "#\n",
    "# 难度：简单\n",
    "#\n",
    "# 给定一个排序链表，删除所有重复的元素，使得每个元素只出现一次。\n",
    "#\n",
    "# 示例 1:\n",
    "# 输入: 1->1->2\n",
    "# 输出: 1->2\n",
    "#\n",
    "# 示例 2:\n",
    "# 输入: 1->1->2->3->3\n",
    "# 输出: 1->2->3"
   ]
  },
  {
   "cell_type": "code",
   "execution_count": 2,
   "metadata": {},
   "outputs": [],
   "source": [
    "# Definition for singly-linked list.\n",
    "class ListNode:\n",
    "    def __init__(self, x):\n",
    "        self.val = x\n",
    "        self.next = None\n",
    "        \n",
    "def make_linked_list(values):\n",
    "    \"\"\"转换列表到链表\n",
    "    \"\"\"\n",
    "    n = None\n",
    "    for v in values:\n",
    "        if n is None:\n",
    "            n = ListNode(v)\n",
    "            t = n\n",
    "        else:\n",
    "            t.next = ListNode(v)\n",
    "            t = t.next\n",
    "    return n\n",
    "\n",
    "def print_linked_list(l):\n",
    "    \"\"\"打印链表\n",
    "    \"\"\"\n",
    "    assert(l is None or isinstance(l, ListNode))\n",
    "    while l is not None:\n",
    "        print(l, l.__dict__)\n",
    "        l = l.next"
   ]
  },
  {
   "cell_type": "code",
   "execution_count": 3,
   "metadata": {},
   "outputs": [],
   "source": [
    "class Solution:\n",
    "    \"\"\"直接法\n",
    "        复杂度分析：\n",
    "            时间复杂度：O(n)，因为列表中的每个结点都检查一次以确定它是否重复，所以总运行时间为O(n)，其中n是列表中的结点数。\n",
    "            空间复杂度：O(1)，没有使用额外的空间。\n",
    "    \"\"\"\n",
    "    def delete_duplicates(self, head):\n",
    "        current = head\n",
    "        while current != None and current.next != None:\n",
    "            if current.next.val == current.val:\n",
    "                current.next = current.next.next\n",
    "            else:\n",
    "                current = current.next\n",
    "        return head"
   ]
  },
  {
   "cell_type": "code",
   "execution_count": 4,
   "metadata": {},
   "outputs": [
    {
     "name": "stdout",
     "output_type": "stream",
     "text": [
      "<__main__.ListNode object at 0x7f02a88cdd30> {'val': 1, 'next': <__main__.ListNode object at 0x7f02a88cdcc0>}\n",
      "<__main__.ListNode object at 0x7f02a88cdcc0> {'val': 2, 'next': None}\n",
      "<__main__.ListNode object at 0x7f02a88cd940> {'val': 1, 'next': <__main__.ListNode object at 0x7f02a88cdc18>}\n",
      "<__main__.ListNode object at 0x7f02a88cdc18> {'val': 2, 'next': <__main__.ListNode object at 0x7f02a88cd5c0>}\n",
      "<__main__.ListNode object at 0x7f02a88cd5c0> {'val': 3, 'next': None}\n"
     ]
    }
   ],
   "source": [
    "l1 = make_linked_list([1, 1, 2])\n",
    "l2 = make_linked_list([1, 1, 2, 3, 3])\n",
    "\n",
    "s = Solution()\n",
    "ret1 = s.delete_duplicates(l1)\n",
    "ret2 = s.delete_duplicates(l2)\n",
    "\n",
    "print_linked_list(ret1)\n",
    "print_linked_list(ret2)"
   ]
  }
 ],
 "metadata": {
  "kernelspec": {
   "display_name": "Python 3",
   "language": "python",
   "name": "python3"
  },
  "language_info": {
   "codemirror_mode": {
    "name": "ipython",
    "version": 3
   },
   "file_extension": ".py",
   "mimetype": "text/x-python",
   "name": "python",
   "nbconvert_exporter": "python",
   "pygments_lexer": "ipython3",
   "version": "3.7.0"
  }
 },
 "nbformat": 4,
 "nbformat_minor": 2
}
