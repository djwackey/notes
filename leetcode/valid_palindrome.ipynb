{
 "cells": [
  {
   "cell_type": "code",
   "execution_count": 1,
   "metadata": {},
   "outputs": [],
   "source": [
    "# 125.验证回文串\n",
    "#\n",
    "# 难度：简单\n",
    "#\n",
    "# 给定一个字符串，验证它是否是回文串，只考虑字母和数字字符，可以忽略字母的大小写。\n",
    "#\n",
    "# 说明：本题中，我们将空字符串定义为有效的回文串。\n",
    "#\n",
    "# 示例 1:\n",
    "# 输入: \"A man, a plan, a canal: Panama\"\n",
    "# 输出: true\n",
    "#\n",
    "# 示例 2:\n",
    "# 输入: \"race a car\"\n",
    "# 输出: false"
   ]
  },
  {
   "cell_type": "code",
   "execution_count": 2,
   "metadata": {},
   "outputs": [],
   "source": [
    "class Solution:\n",
    "    def is_palindrome(self, s):\n",
    "        left, right = 0, len(s) - 1\n",
    "        case = abs(ord('a') - ord('A'))\n",
    "        while left < right:\n",
    "            while left < right and self.not_letters_digits(s[left]):\n",
    "                left += 1\n",
    "            while left < right and self.not_letters_digits(s[right]):\n",
    "                right -= 1 \n",
    "            sl = ord(s[left]) - case if s[left] >= 'a' else ord(s[left])\n",
    "            sr = ord(s[right]) - case if s[right] >= 'a' else ord(s[right])\n",
    "            if sl != sr:\n",
    "                return False\n",
    "            left += 1\n",
    "            right -= 1\n",
    "        return True\n",
    "    \n",
    "    def not_letters_digits(self, c):\n",
    "        return not 'A' <= c <= 'Z' and not 'a' <= c <= 'z' and not '0' <= c <= '9'"
   ]
  },
  {
   "cell_type": "code",
   "execution_count": 3,
   "metadata": {},
   "outputs": [
    {
     "name": "stdout",
     "output_type": "stream",
     "text": [
      "A man, a plan, a canal: Panama => True\n",
      "race a car => False\n"
     ]
    }
   ],
   "source": [
    "testcases = [\n",
    "    (\"A man, a plan, a canal: Panama\", True),\n",
    "    (\"race a car\", False)\n",
    "]\n",
    "\n",
    "obj = Solution()\n",
    "for s, val in testcases:\n",
    "    assert(obj.is_palindrome(s) == val)\n",
    "    print('{} => {}'.format(s, val))"
   ]
  }
 ],
 "metadata": {
  "kernelspec": {
   "display_name": "Python 3",
   "language": "python",
   "name": "python3"
  },
  "language_info": {
   "codemirror_mode": {
    "name": "ipython",
    "version": 3
   },
   "file_extension": ".py",
   "mimetype": "text/x-python",
   "name": "python",
   "nbconvert_exporter": "python",
   "pygments_lexer": "ipython3",
   "version": "3.7.0"
  }
 },
 "nbformat": 4,
 "nbformat_minor": 2
}
