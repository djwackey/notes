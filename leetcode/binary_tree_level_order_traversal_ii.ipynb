{
 "cells": [
  {
   "cell_type": "code",
   "execution_count": 1,
   "metadata": {},
   "outputs": [],
   "source": [
    "# 107.二叉树的层次遍历 II\n",
    "#\n",
    "# 难度：简单\n",
    "#\n",
    "# 给定一个二叉树，返回其节点值自底向上的层次遍历。 （即按从叶子节点所在层到根节点所在的层，逐层从左向右遍历）\n",
    "#\n",
    "# 例如：\n",
    "# 给定二叉树 [3,9,20,null,null,15,7],\n",
    "#\n",
    "#    3\n",
    "#   / \\\n",
    "#  9  20\n",
    "#    /  \\\n",
    "#   15   7\n",
    "# 返回其自底向上的层次遍历为：\n",
    "#\n",
    "# [\n",
    "#   [15,7],\n",
    "#   [9,20],\n",
    "#   [3]\n",
    "# ]"
   ]
  },
  {
   "cell_type": "code",
   "execution_count": 2,
   "metadata": {},
   "outputs": [],
   "source": [
    "# Definition for a binary tree node.\n",
    "class TreeNode:\n",
    "    def __init__(self, x):\n",
    "        self.val = x\n",
    "        self.left = None\n",
    "        self.right = None"
   ]
  },
  {
   "cell_type": "code",
   "execution_count": 3,
   "metadata": {},
   "outputs": [],
   "source": [
    "class Solution:\n",
    "    def level_order_bottom(self, root):\n",
    "        queue = []\n",
    "        cur = [root]\n",
    "        while cur:\n",
    "            cur_layer_val = []\n",
    "            next_layer_node = []\n",
    "            for node in cur:\n",
    "                if node:\n",
    "                    cur_layer_val.append(node.val)\n",
    "                    next_layer_node.extend([node.left, node.right])\n",
    "            if cur_layer_val:\n",
    "                queue.insert(0, cur_layer_val)\n",
    "            cur = next_layer_node\n",
    "        return queue"
   ]
  }
 ],
 "metadata": {
  "kernelspec": {
   "display_name": "Python 3",
   "language": "python",
   "name": "python3"
  },
  "language_info": {
   "codemirror_mode": {
    "name": "ipython",
    "version": 3
   },
   "file_extension": ".py",
   "mimetype": "text/x-python",
   "name": "python",
   "nbconvert_exporter": "python",
   "pygments_lexer": "ipython3",
   "version": "3.7.0"
  }
 },
 "nbformat": 4,
 "nbformat_minor": 2
}
