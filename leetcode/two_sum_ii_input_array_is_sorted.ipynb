{
 "cells": [
  {
   "cell_type": "code",
   "execution_count": 1,
   "metadata": {},
   "outputs": [],
   "source": [
    "# 167.两数之和 II - 输入有序数组\n",
    "#\n",
    "# 难度：简单\n",
    "#\n",
    "# 给定一个已按照升序排列 的有序数组，找到两个数使得它们相加之和等于目标数。\n",
    "#\n",
    "# 函数应该返回这两个下标值 index1 和 index2，其中 index1 必须小于 index2。\n",
    "#\n",
    "# 说明:\n",
    "# 返回的下标值（index1 和 index2）不是从零开始的。\n",
    "# 你可以假设每个输入只对应唯一的答案，而且你不可以重复使用相同的元素。\n",
    "#\n",
    "# 示例:\n",
    "# 输入: numbers = [2, 7, 11, 15], target = 9\n",
    "# 输出: [1,2]\n",
    "# 解释: 2 与 7 之和等于目标数 9 。因此 index1 = 1, index2 = 2 。"
   ]
  },
  {
   "cell_type": "code",
   "execution_count": 2,
   "metadata": {},
   "outputs": [],
   "source": [
    "class Solution:\n",
    "    \"\"\"双指针\n",
    "        复杂度分析：\n",
    "            时间复杂度：O(n)。每个元素最多被访问一次，共有 n 个元素。\n",
    "            空间复杂度：O(1)。只是用了两个指针。\n",
    "    \"\"\"\n",
    "    def two_sum(self, numbers, target):\n",
    "        low, high = 0, len(numbers) - 1\n",
    "        while low < high:\n",
    "            sums = numbers[low] + numbers[high]\n",
    "            if sums == target:\n",
    "                return low + 1, high + 1\n",
    "            elif sums < target:\n",
    "                low += 1\n",
    "            else:\n",
    "                high -= 1\n",
    "        return -1, -1"
   ]
  },
  {
   "cell_type": "code",
   "execution_count": 3,
   "metadata": {},
   "outputs": [
    {
     "data": {
      "text/plain": [
       "(1, 2)"
      ]
     },
     "execution_count": 4,
     "metadata": {},
     "output_type": "execute_result"
    }
   ],
   "source": [
    "numbers, target = [2, 7, 11, 15], 9\n",
    "\n",
    "s = Solution()\n",
    "s.two_sum(numbers, target)"
   ]
  }
 ],
 "metadata": {
  "kernelspec": {
   "display_name": "Python 3",
   "language": "python",
   "name": "python3"
  },
  "language_info": {
   "codemirror_mode": {
    "name": "ipython",
    "version": 3
   },
   "file_extension": ".py",
   "mimetype": "text/x-python",
   "name": "python",
   "nbconvert_exporter": "python",
   "pygments_lexer": "ipython3",
   "version": "3.7.0"
  }
 },
 "nbformat": 4,
 "nbformat_minor": 2
}
