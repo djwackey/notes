{
 "cells": [
  {
   "cell_type": "code",
   "execution_count": 1,
   "metadata": {},
   "outputs": [],
   "source": [
    "# 171.Excel表列序号\n",
    "#\n",
    "# 难度：简单\n",
    "#\n",
    "# 给定一个Excel表格中的列名称，返回其相应的列序号。\n",
    "#\n",
    "# 例如，\n",
    "#\n",
    "#     A -> 1\n",
    "#     B -> 2\n",
    "#     C -> 3\n",
    "#     ...\n",
    "#     Z -> 26\n",
    "#     AA -> 27\n",
    "#     AB -> 28 \n",
    "#     ...\n",
    "#\n",
    "# 示例 1:\n",
    "# 输入: \"A\"\n",
    "# 输出: 1\n",
    "#\n",
    "# 示例 2:\n",
    "# 输入: \"AB\"\n",
    "# 输出: 28\n",
    "#\n",
    "# 示例 3:\n",
    "# 输入: \"ZY\"\n",
    "# 输出: 701"
   ]
  },
  {
   "cell_type": "code",
   "execution_count": 2,
   "metadata": {},
   "outputs": [],
   "source": [
    "class Solution:\n",
    "    def title_to_number(self, s):\n",
    "        ans = 0\n",
    "        for c in s:\n",
    "            n = ord(c) - ord('A') + 1\n",
    "            ans = ans * 26 + n\n",
    "        return ans"
   ]
  },
  {
   "cell_type": "code",
   "execution_count": 3,
   "metadata": {},
   "outputs": [
    {
     "name": "stdout",
     "output_type": "stream",
     "text": [
      "A => 1\n",
      "AB => 28\n",
      "ZY => 701\n"
     ]
    }
   ],
   "source": [
    "testcases = [\n",
    "    ('A', 1),\n",
    "    ('AB', 28),\n",
    "    ('ZY', 701)\n",
    "]\n",
    "\n",
    "s = Solution()\n",
    "for strs, val in testcases:\n",
    "    assert(s.title_to_number(strs) == val)\n",
    "    print('{} => {}'.format(strs, val))"
   ]
  }
 ],
 "metadata": {
  "kernelspec": {
   "display_name": "Python 3",
   "language": "python",
   "name": "python3"
  },
  "language_info": {
   "codemirror_mode": {
    "name": "ipython",
    "version": 3
   },
   "file_extension": ".py",
   "mimetype": "text/x-python",
   "name": "python",
   "nbconvert_exporter": "python",
   "pygments_lexer": "ipython3",
   "version": "3.7.0"
  }
 },
 "nbformat": 4,
 "nbformat_minor": 2
}
