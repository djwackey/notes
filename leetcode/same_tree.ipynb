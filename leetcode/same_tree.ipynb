{
 "cells": [
  {
   "cell_type": "code",
   "execution_count": 1,
   "metadata": {},
   "outputs": [],
   "source": [
    "# 100.相同的树\n",
    "#\n",
    "# 难度：简单\n",
    "#\n",
    "# 给定两个二叉树，编写一个函数来检验它们是否相同。\n",
    "#\n",
    "# 如果两个树在结构上相同，并且节点具有相同的值，则认为它们是相同的。\n",
    "#\n",
    "# 示例 1:\n",
    "# 输入:       1         1\n",
    "#           / \\       / \\\n",
    "#          2   3     2   3\n",
    "#\n",
    "#         [1,2,3],   [1,2,3]\n",
    "# 输出: true\n",
    "#\n",
    "# 示例 2:\n",
    "# 输入:      1          1\n",
    "#           /           \\\n",
    "#          2             2\n",
    "#\n",
    "#         [1,2],     [1,null,2]\n",
    "# 输出: false\n",
    "#\n",
    "# 示例 3:\n",
    "# 输入:       1         1\n",
    "#           / \\       / \\\n",
    "#          2   1     1   2\n",
    "#\n",
    "#         [1,2,1],   [1,1,2]\n",
    "# 输出: false"
   ]
  },
  {
   "cell_type": "code",
   "execution_count": 2,
   "metadata": {},
   "outputs": [],
   "source": [
    "# Definition for a binary tree node.\n",
    "class TreeNode:\n",
    "    def __init__(self, x):\n",
    "        self.val = x\n",
    "        self.left = None\n",
    "        self.right = None\n",
    "        \n",
    "tree1 = TreeNode(1)\n",
    "tree1.left = TreeNode(2)\n",
    "tree1.right = TreeNode(3)\n",
    "\n",
    "tree2 = TreeNode(1)\n",
    "tree2.left = TreeNode(2)\n",
    "\n",
    "tree3 = TreeNode(1)\n",
    "tree3.right = TreeNode(2)\n",
    "\n",
    "tree4 = TreeNode(1)\n",
    "tree4.left = TreeNode(2)\n",
    "tree4.right = TreeNode(1)\n",
    "\n",
    "tree5 = TreeNode(1)\n",
    "tree5.left = TreeNode(1)\n",
    "tree5.right = TreeNode(2)"
   ]
  },
  {
   "cell_type": "code",
   "execution_count": 3,
   "metadata": {},
   "outputs": [],
   "source": [
    "class Solution1:\n",
    "    \"\"\"方法一：递归\n",
    "        复杂度分析：\n",
    "            时间复杂度: O(N)，其中N是树的结点数，因为每个结点都访问一次。\n",
    "            空间复杂度: 最优情况（完全平衡二叉树）时为O(log(N))，最坏情况下（完全不平衡二叉树）时为O(N)，用于维护递归栈。\n",
    "    \"\"\"\n",
    "    def is_same_tree(self, p, q):\n",
    "        # p and q are both None\n",
    "        if not p and not q:\n",
    "            return True\n",
    "        # one of p and q is None\n",
    "        if not q or not p:\n",
    "            return False\n",
    "        if p.val != q.val:\n",
    "            return False\n",
    "        return self.is_same_tree(p.right, q.right) and self.is_same_tree(p.left, q.left)"
   ]
  },
  {
   "cell_type": "code",
   "execution_count": 4,
   "metadata": {},
   "outputs": [],
   "source": [
    "testcases = [\n",
    "    (tree1, tree1, True),\n",
    "    (tree2, tree3, False),\n",
    "    (tree4, tree5, False)\n",
    "]\n",
    "\n",
    "s = Solution1()\n",
    "for tree1, tree2, val in testcases:\n",
    "    assert(s.is_same_tree(tree1, tree2) == val)\n",
    "    # print(val)"
   ]
  },
  {
   "cell_type": "code",
   "execution_count": 5,
   "metadata": {},
   "outputs": [],
   "source": [
    "from collections import deque\n",
    "class Solution2:\n",
    "    \"\"\"方法二：迭代\n",
    "        复杂度分析：：\n",
    "            时间复杂度: O(N)，其中N是树的结点数，因为每个结点都访问一次。\n",
    "            空间复杂度: 最优情况（完全平衡二叉树）时为O(log(N))，最坏情况下（完全不平衡二叉树）时为O(N)，用于维护双向队列。\n",
    "    \"\"\"\n",
    "    def is_same_tree(self, p, q):    \n",
    "        def check(p, q):\n",
    "            # if both are None\n",
    "            if not p and not q:\n",
    "                return True\n",
    "            # one of p and q is None\n",
    "            if not q or not p:\n",
    "                return False\n",
    "            if p.val != q.val:\n",
    "                return False\n",
    "            return True\n",
    "        \n",
    "        deq = deque([(p, q),])\n",
    "        while deq:\n",
    "            p, q = deq.popleft()\n",
    "            if not check(p, q):\n",
    "                return False\n",
    "            \n",
    "            if p:\n",
    "                deq.append((p.left, q.left))\n",
    "                deq.append((p.right, q.right))\n",
    "                    \n",
    "        return True"
   ]
  },
  {
   "cell_type": "code",
   "execution_count": 6,
   "metadata": {},
   "outputs": [
    {
     "name": "stdout",
     "output_type": "stream",
     "text": [
      "1 1\n",
      "2 2\n",
      "3 3\n"
     ]
    },
    {
     "ename": "AttributeError",
     "evalue": "'NoneType' object has no attribute 'val'",
     "output_type": "error",
     "traceback": [
      "\u001b[0;31m---------------------------------------------------------------------------\u001b[0m",
      "\u001b[0;31mAttributeError\u001b[0m                            Traceback (most recent call last)",
      "\u001b[0;32m<ipython-input-44-72ffa1f40262>\u001b[0m in \u001b[0;36m<module>\u001b[0;34m\u001b[0m\n\u001b[1;32m      1\u001b[0m \u001b[0ms\u001b[0m \u001b[0;34m=\u001b[0m \u001b[0mSolution2\u001b[0m\u001b[0;34m(\u001b[0m\u001b[0;34m)\u001b[0m\u001b[0;34m\u001b[0m\u001b[0m\n\u001b[1;32m      2\u001b[0m \u001b[0;32mfor\u001b[0m \u001b[0mtree1\u001b[0m\u001b[0;34m,\u001b[0m \u001b[0mtree2\u001b[0m\u001b[0;34m,\u001b[0m \u001b[0mval\u001b[0m \u001b[0;32min\u001b[0m \u001b[0mtestcases\u001b[0m\u001b[0;34m:\u001b[0m\u001b[0;34m\u001b[0m\u001b[0m\n\u001b[0;32m----> 3\u001b[0;31m     \u001b[0;32massert\u001b[0m\u001b[0;34m(\u001b[0m\u001b[0ms\u001b[0m\u001b[0;34m.\u001b[0m\u001b[0mis_same_tree\u001b[0m\u001b[0;34m(\u001b[0m\u001b[0mtree1\u001b[0m\u001b[0;34m,\u001b[0m \u001b[0mtree2\u001b[0m\u001b[0;34m)\u001b[0m \u001b[0;34m==\u001b[0m \u001b[0mval\u001b[0m\u001b[0;34m)\u001b[0m\u001b[0;34m\u001b[0m\u001b[0m\n\u001b[0m\u001b[1;32m      4\u001b[0m     \u001b[0;31m# print(val)\u001b[0m\u001b[0;34m\u001b[0m\u001b[0;34m\u001b[0m\u001b[0m\n",
      "\u001b[0;32m<ipython-input-43-7fb7dc3252d3>\u001b[0m in \u001b[0;36mis_same_tree\u001b[0;34m(self, p, q)\u001b[0m\n\u001b[1;32m     21\u001b[0m         \u001b[0;32mwhile\u001b[0m \u001b[0mdeq\u001b[0m\u001b[0;34m:\u001b[0m\u001b[0;34m\u001b[0m\u001b[0m\n\u001b[1;32m     22\u001b[0m             \u001b[0mp\u001b[0m\u001b[0;34m,\u001b[0m \u001b[0mq\u001b[0m \u001b[0;34m=\u001b[0m \u001b[0mdeq\u001b[0m\u001b[0;34m.\u001b[0m\u001b[0mpopleft\u001b[0m\u001b[0;34m(\u001b[0m\u001b[0;34m)\u001b[0m\u001b[0;34m\u001b[0m\u001b[0m\n\u001b[0;32m---> 23\u001b[0;31m             \u001b[0mprint\u001b[0m\u001b[0;34m(\u001b[0m\u001b[0mp\u001b[0m\u001b[0;34m.\u001b[0m\u001b[0mval\u001b[0m\u001b[0;34m,\u001b[0m \u001b[0mq\u001b[0m\u001b[0;34m.\u001b[0m\u001b[0mval\u001b[0m\u001b[0;34m)\u001b[0m\u001b[0;34m\u001b[0m\u001b[0m\n\u001b[0m\u001b[1;32m     24\u001b[0m             \u001b[0;32mif\u001b[0m \u001b[0;32mnot\u001b[0m \u001b[0mcheck\u001b[0m\u001b[0;34m(\u001b[0m\u001b[0mp\u001b[0m\u001b[0;34m,\u001b[0m \u001b[0mq\u001b[0m\u001b[0;34m)\u001b[0m\u001b[0;34m:\u001b[0m\u001b[0;34m\u001b[0m\u001b[0m\n\u001b[1;32m     25\u001b[0m                 \u001b[0;32mreturn\u001b[0m \u001b[0;32mFalse\u001b[0m\u001b[0;34m\u001b[0m\u001b[0m\n",
      "\u001b[0;31mAttributeError\u001b[0m: 'NoneType' object has no attribute 'val'"
     ]
    }
   ],
   "source": [
    "s = Solution2()\n",
    "for tree1, tree2, val in testcases:\n",
    "    assert(s.is_same_tree(tree1, tree2) == val)\n",
    "    # print(val)"
   ]
  }
 ],
 "metadata": {
  "kernelspec": {
   "display_name": "Python 3",
   "language": "python",
   "name": "python3"
  },
  "language_info": {
   "codemirror_mode": {
    "name": "ipython",
    "version": 3
   },
   "file_extension": ".py",
   "mimetype": "text/x-python",
   "name": "python",
   "nbconvert_exporter": "python",
   "pygments_lexer": "ipython3",
   "version": "3.7.0"
  }
 },
 "nbformat": 4,
 "nbformat_minor": 2
}
