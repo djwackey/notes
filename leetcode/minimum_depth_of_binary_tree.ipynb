{
 "cells": [
  {
   "cell_type": "code",
   "execution_count": 1,
   "metadata": {},
   "outputs": [],
   "source": [
    "# 111.二叉树的最小深度\n",
    "#\n",
    "# 难度：简单\n",
    "#\n",
    "# 给定一个二叉树，找出其最小深度。\n",
    "#\n",
    "# 最小深度是从根节点到最近叶子节点的最短路径上的节点数量。\n",
    "#\n",
    "# 说明: 叶子节点是指没有子节点的节点。\n",
    "#\n",
    "# 示例:\n",
    "#\n",
    "# 给定二叉树 [3,9,20,null,null,15,7],\n",
    "#\n",
    "#    3\n",
    "#   / \\\n",
    "#  9  20\n",
    "#    /  \\\n",
    "#   15   7\n",
    "# 返回它的最小深度  2."
   ]
  },
  {
   "cell_type": "code",
   "execution_count": 2,
   "metadata": {},
   "outputs": [],
   "source": [
    "# Definition for a binary tree node.\n",
    "class TreeNode:\n",
    "    def __init__(self, x):\n",
    "        self.val = x\n",
    "        self.left = None\n",
    "        self.right = None"
   ]
  },
  {
   "cell_type": "code",
   "execution_count": 3,
   "metadata": {},
   "outputs": [],
   "source": [
    "class Solution1:\n",
    "    \"\"\"方法一：递归\n",
    "        复杂度分析：\n",
    "            时间复杂度：我们访问每个节点一次，时间复杂度为O(N) ，其中N是节点个数。\n",
    "            空间复杂度：最坏情况下，整棵树是非平衡的，例如每个节点都只有一个孩子，递归会调用N（树的高度）次，\n",
    "                因此栈的空间开销是O(N)。但在最好情况下，树是完全平衡的，高度只有log(N)，\n",
    "                因此在这种情况下空间复杂度只有O(log(N)) 。\n",
    "    \"\"\"\n",
    "    def min_depth(self, root):\n",
    "        if not root: \n",
    "            return 0 \n",
    "        \n",
    "        children = [root.left, root.right]\n",
    "        # if we're at leaf node\n",
    "        if not any(children):\n",
    "            return 1\n",
    "        \n",
    "        min_depth = float('inf')\n",
    "        for c in children:\n",
    "            if c:\n",
    "                min_depth = min(self.minDepth(c), min_depth)\n",
    "        return min_depth + 1 "
   ]
  },
  {
   "cell_type": "code",
   "execution_count": 4,
   "metadata": {},
   "outputs": [],
   "source": [
    "class Solution2:\n",
    "    \"\"\"方法二：深度优先\n",
    "        复杂度分析：\n",
    "            时间复杂度：每个节点恰好被访问一遍，复杂度为O(N)。\n",
    "            空间复杂度：最坏情况下我们会在栈中保存整棵树，此时空间复杂度为O(N)。\n",
    "    \"\"\"\n",
    "    def min_depth(self, root):\n",
    "        if not root:\n",
    "            return 0\n",
    "        \n",
    "        stack, min_depth = [(1, root),], float('inf')\n",
    "        while stack:\n",
    "            depth, root = stack.pop()\n",
    "            children = [root.left, root.right]\n",
    "            if not any(children):\n",
    "                min_depth = min(depth, min_depth)\n",
    "            for c in children:\n",
    "                if c:\n",
    "                    stack.append((depth + 1, c))\n",
    "        \n",
    "        return min_depth"
   ]
  },
  {
   "cell_type": "code",
   "execution_count": 5,
   "metadata": {},
   "outputs": [],
   "source": [
    "from collections import deque\n",
    "class Solution3:\n",
    "    \"\"\"方法三：广度优先\n",
    "        复杂度分析：\n",
    "            时间复杂度：最坏情况下，这是一棵平衡树，我们需要按照树的层次一层一层的访问完所有节点，\n",
    "                除去最后一层的节点。这样访问了N/2个节点，因此复杂度是O(N)。\n",
    "            空间复杂度：和时间复杂度相同，也是O(N)。\n",
    "    \"\"\"\n",
    "    def min_depth(self, root):\n",
    "        if not root:\n",
    "            return 0\n",
    "        \n",
    "        node_deque = deque([(1, root),])\n",
    "        while node_deque:\n",
    "            depth, root = node_deque.popleft()\n",
    "            children = [root.left, root.right]\n",
    "            if not any(children):\n",
    "                return depth\n",
    "            for c in children:\n",
    "                if c:\n",
    "                    node_deque.append((depth + 1, c))"
   ]
  }
 ],
 "metadata": {
  "kernelspec": {
   "display_name": "Python 3",
   "language": "python",
   "name": "python3"
  },
  "language_info": {
   "codemirror_mode": {
    "name": "ipython",
    "version": 3
   },
   "file_extension": ".py",
   "mimetype": "text/x-python",
   "name": "python",
   "nbconvert_exporter": "python",
   "pygments_lexer": "ipython3",
   "version": "3.7.0"
  }
 },
 "nbformat": 4,
 "nbformat_minor": 2
}
