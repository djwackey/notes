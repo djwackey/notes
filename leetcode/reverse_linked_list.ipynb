{
 "cells": [
  {
   "cell_type": "code",
   "execution_count": 1,
   "metadata": {},
   "outputs": [],
   "source": [
    "# 206.反转链表\n",
    "#\n",
    "# 难度：简单\n",
    "#\n",
    "# 反转一个单链表。\n",
    "#\n",
    "# 示例:\n",
    "# 输入: 1->2->3->4->5->NULL\n",
    "# 输出: 5->4->3->2->1->NULL\n",
    "# 进阶:\n",
    "# 你可以迭代或递归地反转链表。你能否用两种方法解决这道题？"
   ]
  },
  {
   "cell_type": "code",
   "execution_count": 2,
   "metadata": {},
   "outputs": [],
   "source": [
    "# Definition for singly-linked list.\n",
    "class ListNode:\n",
    "    def __init__(self, x):\n",
    "        self.val = x\n",
    "        self.next = None"
   ]
  },
  {
   "cell_type": "code",
   "execution_count": 3,
   "metadata": {},
   "outputs": [],
   "source": [
    "class Solution1:\n",
    "    \"\"\"方法一：迭代\n",
    "        复杂度分析：\n",
    "            时间复杂度：O(n)，假设 n 是列表的长度，时间复杂度是 O(n)。\n",
    "            空间复杂度：O(1)。\n",
    "    \"\"\"\n",
    "    def reverse_list(self, head):\n",
    "        prev, curr = None, head\n",
    "        while curr != None:\n",
    "            temp = curr.next\n",
    "            curr.next = prev\n",
    "            prev = curr\n",
    "            curr = temp\n",
    "        return prev"
   ]
  },
  {
   "cell_type": "code",
   "execution_count": 4,
   "metadata": {},
   "outputs": [],
   "source": [
    "class Solution2:\n",
    "    \"\"\"方法二：递归\n",
    "        复杂度分析：\n",
    "            时间复杂度：O(n)，假设 n 是列表的长度，那么时间复杂度为 O(n)。\n",
    "            空间复杂度：O(n)，由于使用递归，将会使用隐式栈空间。递归深度可能会达到 n 层。\n",
    "    \"\"\"\n",
    "    def reverse_list(self, head):\n",
    "        if head == None or head.next == None:\n",
    "            return head\n",
    "        p = reverse_list(head.next)\n",
    "        head.next.next = head\n",
    "        head.next = null\n",
    "        return p"
   ]
  }
 ],
 "metadata": {
  "kernelspec": {
   "display_name": "Python 3",
   "language": "python",
   "name": "python3"
  },
  "language_info": {
   "codemirror_mode": {
    "name": "ipython",
    "version": 3
   },
   "file_extension": ".py",
   "mimetype": "text/x-python",
   "name": "python",
   "nbconvert_exporter": "python",
   "pygments_lexer": "ipython3",
   "version": "3.7.0"
  }
 },
 "nbformat": 4,
 "nbformat_minor": 2
}
