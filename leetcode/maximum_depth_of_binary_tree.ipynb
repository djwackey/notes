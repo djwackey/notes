{
 "cells": [
  {
   "cell_type": "code",
   "execution_count": 1,
   "metadata": {},
   "outputs": [],
   "source": [
    "# 104.二叉树的最大深度\n",
    "#\n",
    "# 难度：简单\n",
    "#\n",
    "# 给定一个二叉树，找出其最大深度。\n",
    "#\n",
    "# 二叉树的深度为根节点到最远叶子节点的最长路径上的节点数。\n",
    "#\n",
    "# 说明: 叶子节点是指没有子节点的节点。\n",
    "#\n",
    "# 示例：\n",
    "# 给定二叉树 [3,9,20,null,null,15,7]，\n",
    "#\n",
    "#    3\n",
    "#   / \\\n",
    "#  9  20\n",
    "#    /  \\\n",
    "#   15   7\n",
    "# 返回它的最大深度 3 。"
   ]
  },
  {
   "cell_type": "code",
   "execution_count": 2,
   "metadata": {},
   "outputs": [],
   "source": [
    "class TreeNode(object):\n",
    "    \"\"\" Definition of a binary tree node.\"\"\"\n",
    "    def __init__(self, x):\n",
    "        self.val = x\n",
    "        self.left = None\n",
    "        self.right = None"
   ]
  },
  {
   "cell_type": "code",
   "execution_count": 3,
   "metadata": {},
   "outputs": [],
   "source": [
    "class Solution1:\n",
    "    \"\"\"方法一：递归\n",
    "        复杂度分析：\n",
    "            时间复杂度：我们每个结点只访问一次，因此时间复杂度为O(N)，其中N是结点的数量。\n",
    "            空间复杂度：在最糟糕的情况下，树是完全不平衡的，例如每个结点只剩下左子结点，递归将会被调用N次（树的高度），\n",
    "                因此保持调用栈的存储将是O(N)。但在最好的情况下（树是完全平衡的），树的高度将是log(N)。\n",
    "                因此，在这种情况下的空间复杂度将是O(log(N))。\n",
    "    \"\"\"\n",
    "    def max_depth(self, root):\n",
    "        if root is None: \n",
    "            return 0 \n",
    "        else: \n",
    "            left_height = self.max_depth(root.left) \n",
    "            right_height = self.max_depth(root.right) \n",
    "            return max(left_height, right_height) + 1 "
   ]
  },
  {
   "cell_type": "code",
   "execution_count": 4,
   "metadata": {},
   "outputs": [],
   "source": [
    "class Solution2:\n",
    "    \"\"\"迭代\n",
    "        复杂度分析：\n",
    "            时间复杂度：O(N)\n",
    "            空间复杂度：O(N)\n",
    "    \"\"\"\n",
    "    def max_depth(self, root):\n",
    "        stack = []\n",
    "        if root is not None:\n",
    "            stack.append((1, root))\n",
    "        \n",
    "        depth = 0\n",
    "        while stack != []:\n",
    "            current_depth, root = stack.pop()\n",
    "            if root is not None:\n",
    "                depth = max(depth, current_depth)\n",
    "                stack.append((current_depth + 1, root.left))\n",
    "                stack.append((current_depth + 1, root.right))\n",
    "        \n",
    "        return depth"
   ]
  }
 ],
 "metadata": {
  "kernelspec": {
   "display_name": "Python 3",
   "language": "python",
   "name": "python3"
  },
  "language_info": {
   "codemirror_mode": {
    "name": "ipython",
    "version": 3
   },
   "file_extension": ".py",
   "mimetype": "text/x-python",
   "name": "python",
   "nbconvert_exporter": "python",
   "pygments_lexer": "ipython3",
   "version": "3.7.0"
  }
 },
 "nbformat": 4,
 "nbformat_minor": 2
}
