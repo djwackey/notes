{
 "cells": [
  {
   "cell_type": "code",
   "execution_count": 1,
   "metadata": {},
   "outputs": [],
   "source": [
    "# 7.整数反转\n",
    "#\n",
    "# 难度：简单\n",
    "#\n",
    "# 给出一个 32 位的有符号整数，你需要将这个整数中每位上的数字进行反转。\n",
    "#\n",
    "# 示例1:\n",
    "# 输入：123\n",
    "# 输出：321\n",
    "#\n",
    "# 示例2：\n",
    "# 输入：-123\n",
    "# 输出：-321\n",
    "#\n",
    "# 示例3：\n",
    "# 输入：120\n",
    "# 输出：21\n",
    "#\n",
    "# 注意：\n",
    "# 假设我们的环境只能存储得下 32 位的有符号整数，则其数值范围为 [−231,  231 − 1]。\n",
    "# 请根据这个假设，如果反转后整数溢出那么就返回 0。"
   ]
  },
  {
   "cell_type": "code",
   "execution_count": 2,
   "metadata": {},
   "outputs": [],
   "source": [
    "if 'INT_MAX' not in locals():\n",
    "    INT_MAX = 2**31 - 1\n",
    "if 'INT_MIN' not in locals():\n",
    "    INT_MIN = -2**31"
   ]
  },
  {
   "cell_type": "code",
   "execution_count": 3,
   "metadata": {},
   "outputs": [],
   "source": [
    "class Solution1(object):\n",
    "    def reverse(self, v):\n",
    "        assert(isinstance(v, int))\n",
    "        sv = str(v)[::-1]\n",
    "        if '-' == sv[-1]:\n",
    "            sv = '-{}'.format(sv[:-1])\n",
    "            return int(sv) if int(sv) >= INT_MIN else 0\n",
    "        return int(sv) if int(sv) <= INT_MAX else 0"
   ]
  },
  {
   "cell_type": "code",
   "execution_count": 4,
   "metadata": {},
   "outputs": [
    {
     "name": "stdout",
     "output_type": "stream",
     "text": [
      "321\n",
      "-321\n",
      "21\n"
     ]
    }
   ],
   "source": [
    "testcases = [(123, 321), (-123, -321), (120, 21)]\n",
    "s = Solution1()\n",
    "for tc, val in testcases:\n",
    "    assert(s.reverse(tc) == val)\n",
    "    print(val)"
   ]
  },
  {
   "cell_type": "code",
   "execution_count": 5,
   "metadata": {},
   "outputs": [],
   "source": [
    "class Solution2(object):\n",
    "    \"\"\"弹出和推入数字 & 溢出前进行检查\n",
    "        复杂度分析：\n",
    "            时间复杂度：O(log(x))，x中大约有log(x)位数字。\n",
    "            空间复杂度：O(1)。\n",
    "    \"\"\"\n",
    "    def reverse(self, v):\n",
    "        assert(isinstance(v, int))\n",
    "        recv, x = 0, abs(v)\n",
    "        while x != 0:\n",
    "            pop = x % 10\n",
    "            x = x // 10\n",
    "            if recv > INT_MAX // 10 or (recv == INT_MAX // 10 and pop > INT_MAX % 10):\n",
    "                recv = 0\n",
    "                break\n",
    "            elif recv < INT_MIN // 10 or (recv == INT_MIN // 10 and pop < -(abs(INT_MIN) % 10)):\n",
    "                recv = 0\n",
    "                break\n",
    "            recv = recv * 10 + pop\n",
    "        return recv if v > 0 else -recv"
   ]
  },
  {
   "cell_type": "code",
   "execution_count": 6,
   "metadata": {},
   "outputs": [
    {
     "name": "stdout",
     "output_type": "stream",
     "text": [
      "-2147483648 2147483647 -8 7\n"
     ]
    }
   ],
   "source": [
    "print(INT_MIN, INT_MAX, -(abs(INT_MIN) % 10), INT_MAX % 10)"
   ]
  },
  {
   "cell_type": "code",
   "execution_count": 7,
   "metadata": {},
   "outputs": [
    {
     "name": "stdout",
     "output_type": "stream",
     "text": [
      "321\n",
      "-321\n",
      "21\n",
      "0\n"
     ]
    }
   ],
   "source": [
    "testcases = [(123, 321), (-123, -321), (120, 21), (8463847412, 0)]\n",
    "s = Solution2()\n",
    "for tc, val in testcases:\n",
    "    assert(s.reverse(tc) == val)\n",
    "    print(val)"
   ]
  },
  {
   "cell_type": "code",
   "execution_count": null,
   "metadata": {},
   "outputs": [],
   "source": []
  }
 ],
 "metadata": {
  "kernelspec": {
   "display_name": "Python 3",
   "language": "python",
   "name": "python3"
  },
  "language_info": {
   "codemirror_mode": {
    "name": "ipython",
    "version": 3
   },
   "file_extension": ".py",
   "mimetype": "text/x-python",
   "name": "python",
   "nbconvert_exporter": "python",
   "pygments_lexer": "ipython3",
   "version": "3.7.0"
  }
 },
 "nbformat": 4,
 "nbformat_minor": 2
}
