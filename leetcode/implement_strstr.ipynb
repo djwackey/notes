{
 "cells": [
  {
   "cell_type": "code",
   "execution_count": 1,
   "metadata": {},
   "outputs": [],
   "source": [
    "# 28.实现 strStr()\n",
    "#\n",
    "# 难度：简单\n",
    "#\n",
    "# 实现 strStr() 函数。\n",
    "#\n",
    "# 给定一个 haystack 字符串和一个 needle 字符串，在 haystack 字符串中找出 needle 字符串出现的第一个位置 (从0开始)。如果不存在，则返回 -1。\n",
    "#\n",
    "# 示例 1:\n",
    "# 输入: haystack = \"hello\", needle = \"ll\"\n",
    "# 输出: 2\n",
    "#\n",
    "# 示例 2:\n",
    "# 输入: haystack = \"aaaaa\", needle = \"bba\"\n",
    "# 输出: -1\n",
    "# 说明:\n",
    "# 当 needle 是空字符串时，我们应当返回什么值呢？这是一个在面试中很好的问题。\n",
    "#\n",
    "# 对于本题而言，当 needle 是空字符串时我们应当返回 0 。这与C语言的 strstr() 以及 Java的 indexOf() 定义相符。"
   ]
  },
  {
   "cell_type": "code",
   "execution_count": 2,
   "metadata": {},
   "outputs": [],
   "source": [
    "class Solution:\n",
    "    \"\"\"Sunday 算法\n",
    "    \"\"\"\n",
    "    def strstr(self, haystack, needle):\n",
    "        def cal_shift_mat(st):\n",
    "            \"\"\"计算偏移表\n",
    "            \"\"\"\n",
    "            dic = {}\n",
    "            for i in range(len(st)-1, -1, -1):\n",
    "                if not dic.get(st[i]):\n",
    "                    dic[st[i]] = len(st) - i\n",
    "            dic[\"ot\"] = len(st) + 1\n",
    "            return dic\n",
    "        \n",
    "        # 其他情况判断\n",
    "        if len(needle) > len(haystack):\n",
    "            return -1\n",
    "        if needle == \"\":\n",
    "            return 0\n",
    "       \n",
    "        # 偏移表预处理    \n",
    "        dic = cal_shift_mat(needle)\n",
    "        idx = 0\n",
    "    \n",
    "        while idx + len(needle) <= len(haystack):\n",
    "            # 待匹配字符串\n",
    "            str_cut = haystack[idx:idx+len(needle)]\n",
    "            \n",
    "            # 判断是否匹配\n",
    "            if str_cut == needle:\n",
    "                return idx\n",
    "            else:\n",
    "                # 边界处理\n",
    "                if idx + len(needle) >= len(haystack):\n",
    "                    return -1\n",
    "                # 不匹配情况下，根据下一个字符的偏移，移动idx\n",
    "                cur_c = haystack[idx+len(needle)]\n",
    "                if dic.get(cur_c):\n",
    "                    idx += dic[cur_c]\n",
    "                else:\n",
    "                    idx += dic[\"ot\"]\n",
    "                    \n",
    "        return -1 if idx + len(needle) >= len(haystack) else idx"
   ]
  },
  {
   "cell_type": "code",
   "execution_count": 3,
   "metadata": {},
   "outputs": [
    {
     "data": {
      "text/plain": [
       "5"
      ]
     },
     "execution_count": 4,
     "metadata": {},
     "output_type": "execute_result"
    }
   ],
   "source": [
    "haystack, needle = 'checkthisout', 'this'\n",
    "s = Solution()\n",
    "s.strstr(haystack, needle)"
   ]
  }
 ],
 "metadata": {
  "kernelspec": {
   "display_name": "Python 3",
   "language": "python",
   "name": "python3"
  },
  "language_info": {
   "codemirror_mode": {
    "name": "ipython",
    "version": 3
   },
   "file_extension": ".py",
   "mimetype": "text/x-python",
   "name": "python",
   "nbconvert_exporter": "python",
   "pygments_lexer": "ipython3",
   "version": "3.7.0"
  }
 },
 "nbformat": 4,
 "nbformat_minor": 2
}
