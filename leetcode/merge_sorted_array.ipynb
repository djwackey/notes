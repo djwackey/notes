{
 "cells": [
  {
   "cell_type": "code",
   "execution_count": 1,
   "metadata": {},
   "outputs": [],
   "source": [
    "# 88.合并两个有序数组\n",
    "#\n",
    "# 难度：简单\n",
    "#\n",
    "# 给你两个有序整数数组 nums1 和 nums2，请你将 nums2 合并到 nums1 中，使 num1 成为一个有序数组。\n",
    "#\n",
    "# 说明:\n",
    "# 初始化 nums1 和 nums2 的元素数量分别为 m 和 n 。\n",
    "# 你可以假设 nums1 有足够的空间（空间大小大于或等于 m + n）来保存 nums2 中的元素。\n",
    "#\n",
    "# 示例:\n",
    "# 输入:\n",
    "# nums1 = [1,2,3,0,0,0], m = 3\n",
    "# nums2 = [2,5,6],       n = 3\n",
    "# 输出: [1,2,2,3,5,6]"
   ]
  },
  {
   "cell_type": "code",
   "execution_count": 2,
   "metadata": {},
   "outputs": [],
   "source": [
    "class Solution1:\n",
    "    \"\"\"方法一：合并后排序\n",
    "        复杂度分析：\n",
    "            时间复杂度: O((n+m)log(n+m))。\n",
    "            空间复杂度: O(1)。\n",
    "    \"\"\"\n",
    "    def merge(self, nums1, m, nums2, n):\n",
    "        nums1[:] = sorted(nums1[:m] + nums2)"
   ]
  },
  {
   "cell_type": "code",
   "execution_count": 3,
   "metadata": {},
   "outputs": [
    {
     "name": "stdout",
     "output_type": "stream",
     "text": [
      "[1, 2, 2, 3, 5, 6]\n"
     ]
    }
   ],
   "source": [
    "nums1, m = [1, 2, 3, 0, 0, 0], 3\n",
    "nums2, n = [2, 5, 6], 3\n",
    "\n",
    "s = Solution1()\n",
    "s.merge(nums1, m, nums2, n)\n",
    "print(nums1)"
   ]
  },
  {
   "cell_type": "code",
   "execution_count": 4,
   "metadata": {},
   "outputs": [],
   "source": [
    "class Solution2:\n",
    "    \"\"\"方法二：双指针 / 从前往后\n",
    "        复杂度分析：\n",
    "            时间复杂度: O(n+m)。\n",
    "            空间复杂度: O(m)。\n",
    "    \"\"\"\n",
    "    def merge(self, nums1, m, nums2, n):\n",
    "        # Make a copy of nums1.\n",
    "        nums1_copy = nums1[:m] \n",
    "        nums1[:] = []\n",
    "\n",
    "        # Two get pointers for nums1_copy and nums2.\n",
    "        p1 = 0 \n",
    "        p2 = 0\n",
    "        \n",
    "        # Compare elements from nums1_copy and nums2\n",
    "        # and add the smallest one into nums1.\n",
    "        while p1 < m and p2 < n: \n",
    "            if nums1_copy[p1] < nums2[p2]: \n",
    "                nums1.append(nums1_copy[p1])\n",
    "                p1 += 1\n",
    "            else:\n",
    "                nums1.append(nums2[p2])\n",
    "                p2 += 1\n",
    "\n",
    "        # if there are still elements to add\n",
    "        if p1 < m: \n",
    "            nums1[p1 + p2:] = nums1_copy[p1:]\n",
    "        if p2 < n:\n",
    "            nums1[p1 + p2:] = nums2[p2:]"
   ]
  },
  {
   "cell_type": "code",
   "execution_count": 5,
   "metadata": {},
   "outputs": [
    {
     "name": "stdout",
     "output_type": "stream",
     "text": [
      "[1, 2, 2, 3, 5, 6]\n"
     ]
    }
   ],
   "source": [
    "nums1, m = [1, 2, 3, 0, 0, 0], 3\n",
    "nums2, n = [2, 5, 6], 3\n",
    "\n",
    "s = Solution2()\n",
    "s.merge(nums1, m, nums2, n)\n",
    "print(nums1)"
   ]
  },
  {
   "cell_type": "code",
   "execution_count": 6,
   "metadata": {},
   "outputs": [],
   "source": [
    "class Solution3:\n",
    "    \"\"\"方法三：双指针 / 从后往前\n",
    "        复杂度分析：\n",
    "            时间复杂度: O(n+m)。\n",
    "            空间复杂度: O(1)。\n",
    "    \"\"\"\n",
    "    def merge(self, nums1, m, nums2, n):\n",
    "        # two get pointers for nums1 and nums2\n",
    "        p1 = m - 1\n",
    "        p2 = n - 1\n",
    "        # set pointer for nums1\n",
    "        p = m + n - 1\n",
    "        \n",
    "        # while there are still elements to compare\n",
    "        while p1 >= 0 and p2 >= 0:\n",
    "            if nums1[p1] < nums2[p2]:\n",
    "                nums1[p] = nums2[p2]\n",
    "                p2 -= 1\n",
    "            else:\n",
    "                nums1[p] =  nums1[p1]\n",
    "                p1 -= 1\n",
    "            p -= 1\n",
    "        \n",
    "        # add missing elements from nums2\n",
    "        nums1[:p2 + 1] = nums2[:p2 + 1]"
   ]
  },
  {
   "cell_type": "code",
   "execution_count": null,
   "metadata": {},
   "outputs": [],
   "source": [
    "nums1, m = [1, 2, 3, 0, 0, 0], 3\n",
    "nums2, n = [2, 5, 6], 3\n",
    "\n",
    "s = Solution3()\n",
    "s.merge(nums1, m, nums2, n)\n",
    "print(nums1)"
   ]
  }
 ],
 "metadata": {
  "kernelspec": {
   "display_name": "Python 3",
   "language": "python",
   "name": "python3"
  },
  "language_info": {
   "codemirror_mode": {
    "name": "ipython",
    "version": 3
   },
   "file_extension": ".py",
   "mimetype": "text/x-python",
   "name": "python",
   "nbconvert_exporter": "python",
   "pygments_lexer": "ipython3",
   "version": "3.7.0"
  }
 },
 "nbformat": 4,
 "nbformat_minor": 2
}
