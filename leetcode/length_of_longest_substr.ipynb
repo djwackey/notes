{
 "cells": [
  {
   "cell_type": "code",
   "execution_count": 134,
   "metadata": {},
   "outputs": [],
   "source": [
    "# 3.无重复字符的最长子串\n",
    "#\n",
    "# 难度：中\n",
    "# 给定一个字符串，请你找出其中不含有重复字符的 最长子串 的长度。\n",
    "#\n",
    "# 示例 1:\n",
    "#\n",
    "# 输入: \"abcabcbb\"\n",
    "# 输出: 3 \n",
    "# 解释: 因为无重复字符的最长子串是 \"abc\"，所以其长度为 3。\n",
    "# 示例 2:\n",
    "#\n",
    "# 输入: \"bbbbb\"\n",
    "# 输出: 1\n",
    "# 解释: 因为无重复字符的最长子串是 \"b\"，所以其长度为 1。\n",
    "# 示例 3:\n",
    "#\n",
    "# 输入: \"pwwkew\"\n",
    "# 输出: 3\n",
    "# 解释: 因为无重复字符的最长子串是 \"wke\"，所以其长度为 3。请注意，你的答案必须是 子串 的长度，\"pwke\" 是一个子序列，不是子串。"
   ]
  },
  {
   "cell_type": "code",
   "execution_count": 135,
   "metadata": {},
   "outputs": [],
   "source": [
    "class Solution1(object):\n",
    "    \"\"\"暴力法\n",
    "        遍历检查所有的子字符串，找出无重复的子字符串的最大长度。\n",
    "        复杂度分析：\n",
    "            时间复杂度：O(n³)\n",
    "            空间复杂度：O(min(n, m))，我们需要 O(k) 的空间来检查子字符串中是否有重复字符，\n",
    "                其中 k 表示 Set 的大小。而 Set 的大小取决于字符串 n 的大小以及字符集/字母 m 的大小。\n",
    "    \"\"\"\n",
    "    def length_of_longest_substr(self, s):\n",
    "        \"\"\"计算无重复字符的最长子串的长度\n",
    "        \"\"\"\n",
    "        assert(isinstance(s, str))\n",
    "        n, ret = len(s), 0\n",
    "        for i in range(n):\n",
    "            for j in range(i + 1, n + 1):\n",
    "                if self._all_unique(s[i:j]):\n",
    "                    ret = max(ret, j - i)\n",
    "        return ret\n",
    "    \n",
    "    def _all_unique(self, s):\n",
    "        \"\"\"给定字符串是否存在重复的字符\n",
    "        \"\"\"\n",
    "        assert(isinstance(s, str))\n",
    "        d = {}  # using like a set\n",
    "        for ch in s:\n",
    "            if ch in d:\n",
    "                return False\n",
    "            d[ch] = 0\n",
    "        return True"
   ]
  },
  {
   "cell_type": "code",
   "execution_count": 136,
   "metadata": {},
   "outputs": [
    {
     "name": "stdout",
     "output_type": "stream",
     "text": [
      "\"abcabcbb\", it's length of longest substr: 3\n",
      "\"bbbbb\", it's length of longest substr: 1\n",
      "\"pwwkew\", it's length of longest substr: 3\n"
     ]
    }
   ],
   "source": [
    "l = ['abcabcbb', 'bbbbb', 'pwwkew']\n",
    "obj = Solution1()\n",
    "for s in l:\n",
    "    # ret = %time obj.length_of_longest_substr(s)\n",
    "    ret = obj.length_of_longest_substr(s)\n",
    "    print('\\\"{}\\\", it\\'s length of longest substr: {}'.format(s, ret))"
   ]
  },
  {
   "cell_type": "code",
   "execution_count": 137,
   "metadata": {},
   "outputs": [],
   "source": [
    "class Solution2(object):\n",
    "    \"\"\"滑动窗口\n",
    "        复杂度分析：\n",
    "            时间复杂度：O(2n) = O(n)，最糟糕情况下，每个字符将被 i 和 j 访问两次。\n",
    "            空间复杂度：O(min(n, m))，与之前的方法相同。\n",
    "    \"\"\"\n",
    "    def length_of_longest_substr(self, s):\n",
    "        assert(isinstance(s, str))\n",
    "        d, n, i, j, ret = {}, len(s), 0, 0, 0\n",
    "        while i < n and j < n:\n",
    "            if s[j] not in d:\n",
    "                d[s[j]] = 0\n",
    "                j += 1\n",
    "                ret = max(ret, j - i)\n",
    "            else:\n",
    "                del d[s[i]]\n",
    "                i += 1\n",
    "        return ret\n",
    "            "
   ]
  },
  {
   "cell_type": "code",
   "execution_count": 138,
   "metadata": {},
   "outputs": [
    {
     "name": "stdout",
     "output_type": "stream",
     "text": [
      "\"abcabcbb\", it's length of longest substr: 3\n",
      "\"bbbbb\", it's length of longest substr: 1\n",
      "\"pwwkew\", it's length of longest substr: 3\n"
     ]
    }
   ],
   "source": [
    "l = ['abcabcbb', 'bbbbb', 'pwwkew']\n",
    "obj = Solution2()\n",
    "for s in l:\n",
    "    # ret = %time obj.length_of_longest_substr(s)\n",
    "    ret = obj.length_of_longest_substr(s)\n",
    "    print('\\\"{}\\\", it\\'s length of longest substr: {}'.format(s, ret))"
   ]
  },
  {
   "cell_type": "code",
   "execution_count": 139,
   "metadata": {},
   "outputs": [],
   "source": [
    "class Solution3(object):\n",
    "    \"\"\"优化的滑动窗口1\n",
    "        复杂度分析：\n",
    "            时间复杂度：O(n)，索引j会迭代n次\n",
    "            空间复杂度：O(min(n, m))，与之前的方法相同。\n",
    "    \"\"\"\n",
    "    def length_of_longest_substr(self, s):\n",
    "        assert(isinstance(s, str))\n",
    "        d, n, i, ret = {}, len(s), 0, 0\n",
    "        for j in range(n):\n",
    "            # v = d.get(s[j])\n",
    "            # if v is not None:\n",
    "                # i = max(v, i)\n",
    "            if s[j] in d:\n",
    "                i = max(d[s[j]], i)\n",
    "            ret = max(ret, j - i + 1)\n",
    "            d[s[j]] = j + 1\n",
    "        return ret"
   ]
  },
  {
   "cell_type": "code",
   "execution_count": 140,
   "metadata": {},
   "outputs": [
    {
     "name": "stdout",
     "output_type": "stream",
     "text": [
      "\"abcabcbb\", it's length of longest substr: 3\n",
      "\"bbbbb\", it's length of longest substr: 1\n",
      "\"pwwkew\", it's length of longest substr: 3\n"
     ]
    }
   ],
   "source": [
    "l = ['abcabcbb', 'bbbbb', 'pwwkew']\n",
    "obj = Solution3()\n",
    "for s in l:\n",
    "    # ret = %time obj.length_of_longest_substr(s)\n",
    "    ret = obj.length_of_longest_substr(s)\n",
    "    print('\\\"{}\\\", it\\'s length of longest substr: {}'.format(s, ret))"
   ]
  },
  {
   "cell_type": "code",
   "execution_count": 141,
   "metadata": {},
   "outputs": [],
   "source": [
    "class Solution4(object):\n",
    "    \"\"\"优化的滑动窗口2\n",
    "        复杂度分析：\n",
    "            时间复杂度：O(n)，索引j会迭代n次\n",
    "            空间复杂度：O(m)，m是字符集的大小\n",
    "    \"\"\"\n",
    "    def length_of_longest_substr(self, s):\n",
    "        assert(isinstance(s, str))\n",
    "        array = [0 for _ in range(128)]\n",
    "        n, i, ret = len(s), 0, 0\n",
    "        for j in range(n):\n",
    "            i = max(array[ord(s[j])], i)\n",
    "            ret = max(ret, j - i + 1)\n",
    "            array[ord(s[j])] = j + 1\n",
    "        return ret"
   ]
  },
  {
   "cell_type": "code",
   "execution_count": 142,
   "metadata": {},
   "outputs": [
    {
     "name": "stdout",
     "output_type": "stream",
     "text": [
      "\"abcabcbb\", it's length of longest substr: 3\n",
      "\"bbbbb\", it's length of longest substr: 1\n",
      "\"pwwkew\", it's length of longest substr: 3\n"
     ]
    }
   ],
   "source": [
    "l = ['abcabcbb', 'bbbbb', 'pwwkew']\n",
    "obj = Solution4()\n",
    "for s in l:\n",
    "    # ret = %time obj.length_of_longest_substr(s)\n",
    "    ret = obj.length_of_longest_substr(s)\n",
    "    print('\\\"{}\\\", it\\'s length of longest substr: {}'.format(s, ret))"
   ]
  }
 ],
 "metadata": {
  "kernelspec": {
   "display_name": "Python 3",
   "language": "python",
   "name": "python3"
  },
  "language_info": {
   "codemirror_mode": {
    "name": "ipython",
    "version": 3
   },
   "file_extension": ".py",
   "mimetype": "text/x-python",
   "name": "python",
   "nbconvert_exporter": "python",
   "pygments_lexer": "ipython3",
   "version": "3.7.0"
  }
 },
 "nbformat": 4,
 "nbformat_minor": 2
}
