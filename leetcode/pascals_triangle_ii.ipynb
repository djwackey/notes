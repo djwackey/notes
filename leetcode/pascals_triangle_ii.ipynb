{
 "cells": [
  {
   "cell_type": "code",
   "execution_count": 1,
   "metadata": {},
   "outputs": [],
   "source": [
    "# 119.杨辉三角 II\n",
    "#\n",
    "# 难度：简单\n",
    "#\n",
    "# 给定一个非负索引 k，其中 k ≤ 33，返回杨辉三角的第 k 行。\n",
    "#\n",
    "# 在杨辉三角中，每个数是它左上方和右上方的数的和。\n",
    "#\n",
    "# 示例:\n",
    "# 输入: 3\n",
    "# 输出: [1,3,3,1]\n",
    "#\n",
    "# 进阶：\n",
    "# 你可以优化你的算法到 O(k) 空间复杂度吗？"
   ]
  },
  {
   "cell_type": "code",
   "execution_count": 2,
   "metadata": {},
   "outputs": [],
   "source": [
    "class Solution:\n",
    "    def get_row(self, index):\n",
    "        if index > 33:\n",
    "            raise ValueError('The index value should be less than 34.')\n",
    "        krows = [0 for _ in range(index + 1)]\n",
    "        for i in range(index + 1):\n",
    "            krows[i] = 1\n",
    "            for j in range(i, 1, -1):\n",
    "                krows[j-1] = krows[j-2] + krows[j-1]\n",
    "        return krows"
   ]
  },
  {
   "cell_type": "code",
   "execution_count": 3,
   "metadata": {},
   "outputs": [
    {
     "data": {
      "text/plain": [
       "[1, 3, 3, 1]"
      ]
     },
     "execution_count": 4,
     "metadata": {},
     "output_type": "execute_result"
    }
   ],
   "source": [
    "s = Solution()\n",
    "s.get_row(3)"
   ]
  }
 ],
 "metadata": {
  "kernelspec": {
   "display_name": "Python 3",
   "language": "python",
   "name": "python3"
  },
  "language_info": {
   "codemirror_mode": {
    "name": "ipython",
    "version": 3
   },
   "file_extension": ".py",
   "mimetype": "text/x-python",
   "name": "python",
   "nbconvert_exporter": "python",
   "pygments_lexer": "ipython3",
   "version": "3.7.0"
  }
 },
 "nbformat": 4,
 "nbformat_minor": 2
}
