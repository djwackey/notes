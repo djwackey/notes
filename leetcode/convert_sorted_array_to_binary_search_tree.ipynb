{
 "cells": [
  {
   "cell_type": "code",
   "execution_count": 1,
   "metadata": {},
   "outputs": [],
   "source": [
    "# 108.将有序数组转换为二叉搜索树\n",
    "#\n",
    "# 难度：简单\n",
    "#\n",
    "# 将一个按照升序排列的有序数组，转换为一棵高度平衡二叉搜索树。\n",
    "#\n",
    "# 本题中，一个高度平衡二叉树是指一个二叉树每个节点 的左右两个子树的高度差的绝对值不超过 1。\n",
    "#\n",
    "# 示例:\n",
    "#\n",
    "# 给定有序数组: [-10,-3,0,5,9],\n",
    "#\n",
    "# 一个可能的答案是：[0,-3,9,-10,null,5]，它可以表示下面这个高度平衡二叉搜索树：\n",
    "#\n",
    "#      0\n",
    "#     / \\\n",
    "#   -3   9\n",
    "#   /   /\n",
    "# -10  5"
   ]
  },
  {
   "cell_type": "code",
   "execution_count": 2,
   "metadata": {},
   "outputs": [],
   "source": [
    "# Definition for a binary tree node.\n",
    "class TreeNode:\n",
    "    def __init__(self, x):\n",
    "        self.val = x\n",
    "        self.left = None\n",
    "        self.right = None"
   ]
  },
  {
   "cell_type": "code",
   "execution_count": 3,
   "metadata": {},
   "outputs": [],
   "source": [
    "class Solution1:\n",
    "    \"\"\"方法一：中序遍历：始终选择中间位置左边元素作为根节点\n",
    "        复杂度分析：\n",
    "            时间复杂度：O(N)，每个元素只访问一次。\n",
    "            空间复杂度：O(N)，二叉搜索树空间O(N)，递归栈深度O(logN)。\n",
    "    \"\"\"\n",
    "    def sorted_array_to_bst(self, nums):\n",
    "        def helper(left, right):\n",
    "            if left > right:\n",
    "                return None\n",
    "\n",
    "            # always choose left middle node as a root\n",
    "            p = (left + right) // 2\n",
    "\n",
    "            # inorder traversal: left -> node -> right\n",
    "            root = TreeNode(nums[p])\n",
    "            root.left = helper(left, p - 1)\n",
    "            root.right = helper(p + 1, right)\n",
    "            return root\n",
    "        \n",
    "        return helper(0, len(nums) - 1)"
   ]
  },
  {
   "cell_type": "code",
   "execution_count": 4,
   "metadata": {},
   "outputs": [],
   "source": [
    "class Solution2:\n",
    "    \"\"\"方法二：中序遍历：始终选择中间位置右边元素作为根节点\n",
    "        复杂度分析：\n",
    "            时间复杂度：O(N)，每个元素只访问一次。\n",
    "            空间复杂度：O(N)，二叉搜索树空间O(N)，递归栈深度O(logN)。\n",
    "    \"\"\"\n",
    "    def sorted_array_to_bst(self, nums):        \n",
    "        def helper(left, right):\n",
    "            if left > right:\n",
    "                return None\n",
    "            \n",
    "            # always choose right middle node as a root\n",
    "            p = (left + right) // 2 \n",
    "            if (left + right) % 2:\n",
    "                p += 1 \n",
    "\n",
    "            # inorder traversal: left -> node -> right\n",
    "            root = TreeNode(nums[p])\n",
    "            root.left = helper(left, p - 1)\n",
    "            root.right = helper(p + 1, right)\n",
    "            return root\n",
    "        \n",
    "        return helper(0, len(nums) - 1)"
   ]
  },
  {
   "cell_type": "code",
   "execution_count": 5,
   "metadata": {},
   "outputs": [],
   "source": [
    "from random import randint\n",
    "class Solution3:\n",
    "    \"\"\"方法三：中序遍历：选择任意一个中间位置元素作为根节点\n",
    "        复杂度分析：\n",
    "            时间复杂度：O(N)，每个元素只访问一次。\n",
    "            空间复杂度：O(N)，二叉搜索树空间O(N)，递归栈深度O(logN)。\n",
    "    \"\"\"\n",
    "    def sorted_array_to_bst(self, nums):        \n",
    "        def helper(left, right):\n",
    "            if left > right:\n",
    "                return None\n",
    "            \n",
    "            # choose random middle node as a root\n",
    "            p = (left + right) // 2 \n",
    "            if (left + right) % 2:\n",
    "                p += randint(0, 1) \n",
    "\n",
    "            # inorder traversal: left -> node -> right\n",
    "            root = TreeNode(nums[p])\n",
    "            root.left = helper(left, p - 1)\n",
    "            root.right = helper(p + 1, right)\n",
    "            return root\n",
    "        \n",
    "        return helper(0, len(nums) - 1)"
   ]
  },
  {
   "cell_type": "code",
   "execution_count": 6,
   "metadata": {},
   "outputs": [
    {
     "data": {
      "text/plain": [
       "<__main__.TreeNode at 0x7f570c626208>"
      ]
     },
     "execution_count": 7,
     "metadata": {},
     "output_type": "execute_result"
    }
   ],
   "source": [
    "nums = [-10,-3,0,5,9]\n",
    "\n",
    "s = Solution1()\n",
    "s.sorted_array_to_bst(nums)"
   ]
  }
 ],
 "metadata": {
  "kernelspec": {
   "display_name": "Python 3",
   "language": "python",
   "name": "python3"
  },
  "language_info": {
   "codemirror_mode": {
    "name": "ipython",
    "version": 3
   },
   "file_extension": ".py",
   "mimetype": "text/x-python",
   "name": "python",
   "nbconvert_exporter": "python",
   "pygments_lexer": "ipython3",
   "version": "3.7.0"
  }
 },
 "nbformat": 4,
 "nbformat_minor": 2
}
