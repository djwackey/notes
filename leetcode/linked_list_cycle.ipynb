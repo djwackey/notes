{
 "cells": [
  {
   "cell_type": "code",
   "execution_count": 1,
   "metadata": {},
   "outputs": [],
   "source": [
    "# 141.环形链表\n",
    "#\n",
    "# 难度：简单\n",
    "#\n",
    "# 给定一个链表，判断链表中是否有环。\n",
    "#\n",
    "# 为了表示给定链表中的环，我们使用整数 pos 来表示链表尾连接到链表中的位置（索引从 0 开始）。 如果 pos 是 -1，则在该链表中没有环。\n",
    "#\n",
    "# 示例 1：\n",
    "# 输入：head = [3,2,0,-4], pos = 1\n",
    "# 输出：true\n",
    "# 解释：链表中有一个环，其尾部连接到第二个节点。\n",
    "#\n",
    "# 示例 2：\n",
    "# 输入：head = [1,2], pos = 0\n",
    "# 输出：true\n",
    "# 解释：链表中有一个环，其尾部连接到第一个节点。\n",
    "#\n",
    "# 示例 3：\n",
    "# 输入：head = [1], pos = -1\n",
    "# 输出：false\n",
    "# 解释：链表中没有环。\n",
    "#\n",
    "# 进阶：\n",
    "# 你能用 O(1)（即，常量）内存解决此问题吗？"
   ]
  },
  {
   "cell_type": "code",
   "execution_count": 2,
   "metadata": {},
   "outputs": [],
   "source": [
    "# Definition for singly-linked list.\n",
    "class ListNode:\n",
    "    def __init__(self, x):\n",
    "        self.val = x\n",
    "        self.next = None"
   ]
  },
  {
   "cell_type": "code",
   "execution_count": 3,
   "metadata": {},
   "outputs": [],
   "source": [
    "class Solution1:\n",
    "    \"\"\"方法一：哈希表\n",
    "        复杂度分析：\n",
    "            时间复杂度：O(n)，对于含有n个元素的链表，我们访问每个元素最多一次。添加一个结点到哈希表中只需要花费O(1)的时间。\n",
    "            空间复杂度：O(n)，空间取决于添加到哈希表中的元素数目，最多可以添加n个元素。\n",
    "    \"\"\"\n",
    "    def has_cycle(self, head):\n",
    "        seen_nodes = {}\n",
    "        while head is not None:\n",
    "            if head in seen_nodes:\n",
    "                return True\n",
    "            else:\n",
    "                seen_nodes.add(head)\n",
    "            head = head.next\n",
    "        return False"
   ]
  },
  {
   "cell_type": "code",
   "execution_count": 4,
   "metadata": {},
   "outputs": [],
   "source": [
    "class Solution2:\n",
    "    \"\"\"方法二：双指针\n",
    "        复杂度分析：\n",
    "            时间复杂度：O(n)，让我们将n设为链表中结点的总数。\n",
    "            空间复杂度：O(1)，我们只使用了慢指针和快指针两个结点，所以空间复杂度为O(1)。\n",
    "    \"\"\"\n",
    "    def has_cycle(self, head):\n",
    "        if head is None or head.next is None:\n",
    "            return False\n",
    "        fast, slow = head.next, head\n",
    "        while slow != fast:\n",
    "            if fast is None or fast.next is None:\n",
    "                return False\n",
    "            fast, slow = fast.next.next, slow.next\n",
    "        return True"
   ]
  }
 ],
 "metadata": {
  "kernelspec": {
   "display_name": "Python 3",
   "language": "python",
   "name": "python3"
  },
  "language_info": {
   "codemirror_mode": {
    "name": "ipython",
    "version": 3
   },
   "file_extension": ".py",
   "mimetype": "text/x-python",
   "name": "python",
   "nbconvert_exporter": "python",
   "pygments_lexer": "ipython3",
   "version": "3.7.0"
  }
 },
 "nbformat": 4,
 "nbformat_minor": 2
}
