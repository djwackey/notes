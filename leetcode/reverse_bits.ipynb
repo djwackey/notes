{
 "cells": [
  {
   "cell_type": "code",
   "execution_count": 1,
   "metadata": {},
   "outputs": [],
   "source": [
    "# 190.颠倒二进制位\n",
    "#\n",
    "# 难度：简单\n",
    "#\n",
    "# 颠倒给定的 32 位无符号整数的二进制位。\n",
    "#\n",
    "# 示例 1：\n",
    "# 输入: 00000010100101000001111010011100\n",
    "# 输出: 00111001011110000010100101000000\n",
    "# 解释: 输入的二进制串 00000010100101000001111010011100 表示无符号整数 43261596，\n",
    "#      因此返回 964176192，其二进制表示形式为 00111001011110000010100101000000。\n",
    "#\n",
    "# 示例 2：\n",
    "# 输入：11111111111111111111111111111101\n",
    "# 输出：10111111111111111111111111111111\n",
    "# 解释：输入的二进制串 11111111111111111111111111111101 表示无符号整数 4294967293，\n",
    "#      因此返回 3221225471 其二进制表示形式为 10101111110010110010011101101001。\n",
    "#\n",
    "# 提示：\n",
    "# 请注意，在某些语言（如 Java）中，没有无符号整数类型。在这种情况下，输入和输出都将被指定为有符号整数类型，\n",
    "# 并且不应影响您的实现，因为无论整数是有符号的还是无符号的，其内部的二进制表示形式都是相同的。\n",
    "# 在 Java 中，编译器使用二进制补码记法来表示有符号整数。\n",
    "# 因此，在上面的 示例 2 中，输入表示有符号整数 -3，输出表示有符号整数 -1073741825。\n",
    "#\n",
    "# 进阶:\n",
    "# 如果多次调用这个函数，你将如何优化你的算法？"
   ]
  },
  {
   "cell_type": "code",
   "execution_count": 2,
   "metadata": {},
   "outputs": [],
   "source": [
    "class Solution1:\n",
    "    \"\"\"方法一：逐位颠倒\n",
    "        复杂度分析：\n",
    "            时间复杂度：O(logN)。在算法中，我们有一个循环来迭代输入的最高非零位，即logN。\n",
    "            空间复杂度：O(1)，因为不管输入是什么，内存的消耗是固定的。\n",
    "    \"\"\"\n",
    "    def reverse_bits(self, n):\n",
    "        ret, power = 0, 31\n",
    "        while n:\n",
    "            ret += (n & 1) << power\n",
    "            n = n >> 1\n",
    "            power -= 1\n",
    "        return ret"
   ]
  },
  {
   "cell_type": "code",
   "execution_count": 3,
   "metadata": {},
   "outputs": [],
   "source": [
    "class Solution2:\n",
    "    \"\"\"方法二：带记忆化的按字节颠倒\n",
    "        复杂度分析：\n",
    "            时间复杂度：O(1)。尽管我们在算法中有一个循环，但是无论输入是什么，迭代次数都是固定的，因为在我们的问题中整数是固定大小（32 位）的。\n",
    "            空间复杂度：O(1)，同样，尽管我们使用了缓存来保留反转字节的结果，但缓存中的大小总数限制为 2^8=256。\n",
    "    \"\"\"\n",
    "    def reverse_bits(self, n):\n",
    "        ret, power = 0, 24\n",
    "        cache = dict()\n",
    "        while n:\n",
    "            ret += self.reverse_byte(n & 0xff, cache) << power\n",
    "            n = n >> 8\n",
    "            power -= 8\n",
    "        return ret\n",
    "\n",
    "    def reverse_byte(self, byte, cache):\n",
    "        if byte not in cache:\n",
    "            cache[byte] = (byte * 0x0202020202 & 0x010884422010) % 1023 \n",
    "        return cache[byte]"
   ]
  },
  {
   "cell_type": "code",
   "execution_count": 4,
   "metadata": {},
   "outputs": [],
   "source": [
    "class Solution3:\n",
    "    \"\"\"\n",
    "        算法：\n",
    "            1.首先，我们将原来的 32 位分为 2 个 16 位的块。\n",
    "            2.然后我们将 16 位块分成 2 个 8 位的块。\n",
    "            3.然后我们继续将这些块分成更小的块，直到达到 1 位的块。\n",
    "            4.在上述每个步骤中，我们将中间结果合并为一个整数，作为下一步的输入。\n",
    "        复杂度分析：\n",
    "            时间复杂度：O(1)，没有使用循环。\n",
    "            空间复杂度：O(1)，没有使用变量。\n",
    "    \"\"\"\n",
    "    def reverse_bits(self, n):\n",
    "        n = (n >> 16) | (n << 16)\n",
    "        n = ((n & 0xff00ff00) >> 8) | ((n & 0x00ff00ff) << 8)\n",
    "        n = ((n & 0xf0f0f0f0) >> 4) | ((n & 0x0f0f0f0f) << 4)\n",
    "        n = ((n & 0xcccccccc) >> 2) | ((n & 0x33333333) << 2)\n",
    "        n = ((n & 0xaaaaaaaa) >> 1) | ((n & 0x55555555) << 1)\n",
    "        return n"
   ]
  }
 ],
 "metadata": {
  "kernelspec": {
   "display_name": "Python 3",
   "language": "python",
   "name": "python3"
  },
  "language_info": {
   "codemirror_mode": {
    "name": "ipython",
    "version": 3
   },
   "file_extension": ".py",
   "mimetype": "text/x-python",
   "name": "python",
   "nbconvert_exporter": "python",
   "pygments_lexer": "ipython3",
   "version": "3.7.0"
  }
 },
 "nbformat": 4,
 "nbformat_minor": 2
}
