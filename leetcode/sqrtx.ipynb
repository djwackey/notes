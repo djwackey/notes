{
 "cells": [
  {
   "cell_type": "code",
   "execution_count": 1,
   "metadata": {},
   "outputs": [],
   "source": [
    "# 69.x的平方根\n",
    "#\n",
    "# 难度：简单\n",
    "#\n",
    "# 实现 int sqrt(int x) 函数。\n",
    "#\n",
    "# 计算并返回 x 的平方根，其中 x 是非负整数。\n",
    "#\n",
    "# 由于返回类型是整数，结果只保留整数的部分，小数部分将被舍去。\n",
    "#\n",
    "# 示例 1:\n",
    "# 输入: 4\n",
    "# 输出: 2\n",
    "#\n",
    "# 示例 2:\n",
    "# 输入: 8\n",
    "# 输出: 2\n",
    "# 说明: 8 的平方根是 2.82842...,由于返回类型是整数，小数部分将被舍去。"
   ]
  },
  {
   "cell_type": "code",
   "execution_count": 2,
   "metadata": {},
   "outputs": [],
   "source": [
    "from math import e, log\n",
    "class Solution1:\n",
    "    \"\"\"方法一：袖珍计算器算法\n",
    "        复杂度分析：\n",
    "            时间复杂度：O(1)\n",
    "            空间复杂度：O(1)\n",
    "    \"\"\"\n",
    "    def my_sqrt(self, x):\n",
    "        if x < 2:\n",
    "            return x\n",
    "        \n",
    "        left = int(e**(0.5 * log(x)))\n",
    "        right = left + 1\n",
    "        return left if right * right > x else right"
   ]
  },
  {
   "cell_type": "code",
   "execution_count": 3,
   "metadata": {},
   "outputs": [
    {
     "name": "stdout",
     "output_type": "stream",
     "text": [
      "4 => 2\n",
      "8 => 2\n"
     ]
    }
   ],
   "source": [
    "testcases = [\n",
    "    (4, 2),\n",
    "    (8, 2)\n",
    "]\n",
    "\n",
    "s = Solution1()\n",
    "for tc, val in testcases:\n",
    "    assert(s.my_sqrt(tc) == val)\n",
    "    print('{} => {}'.format(tc, val))"
   ]
  },
  {
   "cell_type": "code",
   "execution_count": 4,
   "metadata": {},
   "outputs": [],
   "source": [
    "class Solution2:\n",
    "    \"\"\"方法二：二分查找法\n",
    "        复杂度分析：\n",
    "            时间复杂度：O(logN)\n",
    "            空间复杂度：O(1)\n",
    "    \"\"\"\n",
    "    def my_sqrt(self, x):\n",
    "        if x < 2:\n",
    "            return x\n",
    "        \n",
    "        left, right = 2, x // 2\n",
    "        \n",
    "        while left <= right:\n",
    "            pivot = left + (right - left) // 2\n",
    "            num = pivot * pivot\n",
    "            if num > x:\n",
    "                right = pivot -1\n",
    "            elif num < x:\n",
    "                left = pivot + 1\n",
    "            else:\n",
    "                return pivot\n",
    "            \n",
    "        return right"
   ]
  },
  {
   "cell_type": "code",
   "execution_count": 5,
   "metadata": {},
   "outputs": [
    {
     "name": "stdout",
     "output_type": "stream",
     "text": [
      "4 => 2\n",
      "8 => 2\n"
     ]
    }
   ],
   "source": [
    "s = Solution2()\n",
    "for tc, val in testcases:\n",
    "    assert(s.my_sqrt(tc) == val)\n",
    "    print('{} => {}'.format(tc, val))"
   ]
  },
  {
   "cell_type": "code",
   "execution_count": 6,
   "metadata": {},
   "outputs": [],
   "source": [
    "class Solution3:\n",
    "    \"\"\"方法三：递归+位操作\n",
    "        复杂度分析：\n",
    "            时间复杂度：O(logN)\n",
    "            空间复杂度：O(logN)，递归栈的深度\n",
    "    \"\"\"\n",
    "    def my_sqrt(self, x):\n",
    "        if x < 2:\n",
    "            return x\n",
    "        \n",
    "        left = self.my_sqrt(x >> 2) << 1\n",
    "        right = left + 1\n",
    "        return left if right * right > x else right"
   ]
  },
  {
   "cell_type": "code",
   "execution_count": 7,
   "metadata": {},
   "outputs": [
    {
     "name": "stdout",
     "output_type": "stream",
     "text": [
      "4 => 2\n",
      "8 => 2\n"
     ]
    }
   ],
   "source": [
    "s = Solution3()\n",
    "for tc, val in testcases:\n",
    "    assert(s.my_sqrt(tc) == val)\n",
    "    print('{} => {}'.format(tc, val))"
   ]
  },
  {
   "cell_type": "code",
   "execution_count": 8,
   "metadata": {},
   "outputs": [],
   "source": [
    "class Solution4:\n",
    "    \"\"\"方法四：牛顿法\n",
    "        复杂度分析：\n",
    "            时间复杂度：O(logN)，此方法是二次收敛的。\n",
    "            空间复杂度：O(1)\n",
    "    \"\"\"\n",
    "    def my_sqrt(self, x):\n",
    "        if x < 2:\n",
    "            return x\n",
    "        \n",
    "        x0 = x\n",
    "        x1 = (x0 + x / x0) / 2\n",
    "        while abs(x0 - x1) >= 1:\n",
    "            x0 = x1\n",
    "            x1 = (x0 + x / x0) / 2        \n",
    "            \n",
    "        return int(x1)"
   ]
  },
  {
   "cell_type": "code",
   "execution_count": 9,
   "metadata": {},
   "outputs": [
    {
     "name": "stdout",
     "output_type": "stream",
     "text": [
      "4 => 2\n",
      "8 => 2\n"
     ]
    }
   ],
   "source": [
    "s = Solution4()\n",
    "for tc, val in testcases:\n",
    "    assert(s.my_sqrt(tc) == val)\n",
    "    print('{} => {}'.format(tc, val))"
   ]
  }
 ],
 "metadata": {
  "kernelspec": {
   "display_name": "Python 3",
   "language": "python",
   "name": "python3"
  },
  "language_info": {
   "codemirror_mode": {
    "name": "ipython",
    "version": 3
   },
   "file_extension": ".py",
   "mimetype": "text/x-python",
   "name": "python",
   "nbconvert_exporter": "python",
   "pygments_lexer": "ipython3",
   "version": "3.7.0"
  }
 },
 "nbformat": 4,
 "nbformat_minor": 2
}
