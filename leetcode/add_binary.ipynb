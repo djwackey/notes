{
 "cells": [
  {
   "cell_type": "code",
   "execution_count": 1,
   "metadata": {},
   "outputs": [],
   "source": [
    "# 67.二进制求和\n",
    "#\n",
    "# 难度：简单\n",
    "#\n",
    "# 给定两个二进制字符串，返回他们的和（用二进制表示）。\n",
    "#\n",
    "# 输入为非空字符串且只包含数字 1 和 0。\n",
    "#\n",
    "# 示例 1:\n",
    "# 输入: a = \"11\", b = \"1\"\n",
    "# 输出: \"100\"\n",
    "#\n",
    "# 示例 2:\n",
    "# 输入: a = \"1010\", b = \"1011\"\n",
    "# 输出: \"10101\""
   ]
  },
  {
   "cell_type": "code",
   "execution_count": 2,
   "metadata": {},
   "outputs": [],
   "source": [
    "class Solution1:\n",
    "    \"\"\"方法一：内置函数\n",
    "        步骤：\n",
    "            1.将 a 和 b 转换为十进制整数。\n",
    "            2.求和。\n",
    "            3.将求和结果转换为二进制整数。\n",
    "        复杂度分析：\n",
    "            时间复杂度：O(N + M)\n",
    "        存在问题：\n",
    "            1.在 Java 中，该方法受输入字符串 a 和 b 的长度限制。字符串长度太大时，不能将其转换为Integer，Long或者BigInteger类型。\n",
    "            2.如果输入的数字很大，该方法的效率非常低。\n",
    "    \"\"\"\n",
    "    def add_binary(self, a, b):\n",
    "        return '{0:b}'.format(int(a, 2) + int(b, 2))"
   ]
  },
  {
   "cell_type": "code",
   "execution_count": 3,
   "metadata": {},
   "outputs": [
    {
     "name": "stdout",
     "output_type": "stream",
     "text": [
      "100\n",
      "10101\n"
     ]
    }
   ],
   "source": [
    "testcases = [\n",
    "    ('11', '1', '100'),\n",
    "    ('1010', '1011', '10101')\n",
    "]\n",
    "\n",
    "s = Solution1()\n",
    "for a, b, val in testcases:\n",
    "    ret = s.add_binary(a, b)\n",
    "    assert(ret == val)\n",
    "    print(ret)"
   ]
  },
  {
   "cell_type": "code",
   "execution_count": 4,
   "metadata": {},
   "outputs": [],
   "source": [
    "class Solution2:\n",
    "    \"\"\"方法二：逐位运算\n",
    "        复杂度分析：\n",
    "            时间复杂度：O(max(N,M))，其中 N 和 M 是输入字符串 a 和 b 的长度。\n",
    "            空间复杂度：O(max(N,M))，存储求和结果。\n",
    "    \"\"\"\n",
    "    def add_binary(self, a, b):\n",
    "        n = max(len(a), len(b))\n",
    "        a, b = a.zfill(n), b.zfill(n)\n",
    "        \n",
    "        carry = 0\n",
    "        answer = []\n",
    "        for i in range(n - 1, -1, -1):\n",
    "            if a[i] == '1':\n",
    "                carry += 1\n",
    "            if b[i] == '1':\n",
    "                carry += 1\n",
    "                \n",
    "            if carry % 2 == 1:\n",
    "                answer.append('1')\n",
    "            else:\n",
    "                answer.append('0')\n",
    "            \n",
    "            carry //= 2\n",
    "        \n",
    "        if carry == 1:\n",
    "            answer.append('1')\n",
    "        answer.reverse()\n",
    "        \n",
    "        return ''.join(answer)"
   ]
  },
  {
   "cell_type": "code",
   "execution_count": 5,
   "metadata": {},
   "outputs": [
    {
     "name": "stdout",
     "output_type": "stream",
     "text": [
      "100\n",
      "10101\n"
     ]
    }
   ],
   "source": [
    "s = Solution2()\n",
    "for a, b, val in testcases:\n",
    "    ret = s.add_binary(a, b)\n",
    "    assert(ret == val)\n",
    "    print(ret)"
   ]
  },
  {
   "cell_type": "code",
   "execution_count": 6,
   "metadata": {},
   "outputs": [],
   "source": [
    "class Solution3:\n",
    "    \"\"\"方法三：位操作\n",
    "        性能分析：\n",
    "            如果输入数字大于2^100，必须使用效率较低的 BigInteger。\n",
    "            在 Java 中，应当首先考虑使用 Integer 或者 Long，而不是 BigInteger。\n",
    "        复杂度分析：\n",
    "            时间复杂度：O(N+M)，其中 N 和 M 是输入字符串 a 和 b 的长度。\n",
    "            空间复杂度：O(max(N,M))，存储计算结果。\n",
    "    \"\"\"\n",
    "    def add_binary(self, a, b):\n",
    "        x, y = int(a, 2), int(b, 2)\n",
    "        while y:\n",
    "            # answer = x ^ y\n",
    "            # carry = (x & y) << 1\n",
    "            x, y = x ^ y, (x & y) << 1\n",
    "        return bin(x)[2:]"
   ]
  },
  {
   "cell_type": "code",
   "execution_count": 7,
   "metadata": {},
   "outputs": [
    {
     "name": "stdout",
     "output_type": "stream",
     "text": [
      "100\n",
      "10101\n"
     ]
    }
   ],
   "source": [
    "s = Solution3()\n",
    "for a, b, val in testcases:\n",
    "    ret = s.add_binary(a, b)\n",
    "    assert(ret == val)\n",
    "    print(ret)"
   ]
  }
 ],
 "metadata": {
  "kernelspec": {
   "display_name": "Python 3",
   "language": "python",
   "name": "python3"
  },
  "language_info": {
   "codemirror_mode": {
    "name": "ipython",
    "version": 3
   },
   "file_extension": ".py",
   "mimetype": "text/x-python",
   "name": "python",
   "nbconvert_exporter": "python",
   "pygments_lexer": "ipython3",
   "version": "3.7.0"
  }
 },
 "nbformat": 4,
 "nbformat_minor": 2
}
