{
 "cells": [
  {
   "cell_type": "code",
   "execution_count": 1,
   "metadata": {},
   "outputs": [],
   "source": [
    "# 226.翻转二叉树\n",
    "#\n",
    "# 难度：简单\n",
    "#\n",
    "# 翻转一棵二叉树。\n",
    "#\n",
    "# 示例：\n",
    "# 输入：\n",
    "#\n",
    "#      4\n",
    "#    /   \\\n",
    "#   2     7\n",
    "#  / \\   / \\\n",
    "# 1   3 6   9\n",
    "#\n",
    "# 输出：\n",
    "#\n",
    "#      4\n",
    "#    /   \\\n",
    "#   7     2\n",
    "#  / \\   / \\\n",
    "# 9   6 3   1\n",
    "#\n",
    "# 备注:\n",
    "# 这个问题是受到 Max Howell 的 原问题 启发的：\n",
    "# 谷歌：我们90％的工程师使用您编写的软件(Homebrew)，但是您却无法在面试时在白板上写出翻转二叉树这道题，这太糟糕了。"
   ]
  },
  {
   "cell_type": "code",
   "execution_count": 2,
   "metadata": {},
   "outputs": [],
   "source": [
    "# Definition for a binary tree node.\n",
    "class TreeNode:\n",
    "    def __init__(self, x):\n",
    "        self.val = x\n",
    "        self.left = None\n",
    "        self.right = None"
   ]
  },
  {
   "cell_type": "code",
   "execution_count": 3,
   "metadata": {},
   "outputs": [],
   "source": [
    "class Solution1:\n",
    "    \"\"\"方法一：递归\n",
    "    \"\"\"\n",
    "    def invert_tree(self, root):\n",
    "        if root is None:\n",
    "            return None\n",
    "        right = self.invert_tree(root.right)\n",
    "        left = self.invert_tree(root.left)\n",
    "        root.left, root.right = right, left\n",
    "        return root"
   ]
  },
  {
   "cell_type": "code",
   "execution_count": 4,
   "metadata": {},
   "outputs": [],
   "source": [
    "from collections import deque\n",
    "class Solution2:\n",
    "    \"\"\"方法二：迭代\n",
    "    \"\"\"\n",
    "    def invert_tree(self, root):\n",
    "        if root is None:\n",
    "            return None\n",
    "        d = deque()\n",
    "        d.append(root)\n",
    "        while len(d) != 0:\n",
    "            current = d.pop()\n",
    "            temp = current.left\n",
    "            current.left = current.right\n",
    "            current.right = temp\n",
    "            if current.left is not None:\n",
    "                d.append(current.left)\n",
    "            if current.right is not None:\n",
    "                d.append(current.right)\n",
    "        return root"
   ]
  }
 ],
 "metadata": {
  "kernelspec": {
   "display_name": "Python 3",
   "language": "python",
   "name": "python3"
  },
  "language_info": {
   "codemirror_mode": {
    "name": "ipython",
    "version": 3
   },
   "file_extension": ".py",
   "mimetype": "text/x-python",
   "name": "python",
   "nbconvert_exporter": "python",
   "pygments_lexer": "ipython3",
   "version": "3.7.0"
  }
 },
 "nbformat": 4,
 "nbformat_minor": 2
}
