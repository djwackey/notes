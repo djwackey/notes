{
 "cells": [
  {
   "cell_type": "code",
   "execution_count": 1,
   "metadata": {},
   "outputs": [],
   "source": [
    "# 121.买卖股票的最佳时机\n",
    "#\n",
    "# 难度：简单\n",
    "#\n",
    "# 给定一个数组，它的第 i 个元素是一支给定股票第 i 天的价格。\n",
    "#\n",
    "# 如果你最多只允许完成一笔交易（即买入和卖出一支股票一次），设计一个算法来计算你所能获取的最大利润。\n",
    "#\n",
    "# 注意：你不能在买入股票前卖出股票。\n",
    "#\n",
    "# 示例 1:\n",
    "# 输入: [7,1,5,3,6,4]\n",
    "# 输出: 5\n",
    "# 解释: 在第 2 天（股票价格 = 1）的时候买入，在第 5 天（股票价格 = 6）的时候卖出，最大利润 = 6-1 = 5 。\n",
    "#      注意利润不能是 7-1 = 6, 因为卖出价格需要大于买入价格。\n",
    "#\n",
    "# 示例 2:\n",
    "# 输入: [7,6,4,3,1]\n",
    "# 输出: 0\n",
    "# 解释: 在这种情况下, 没有交易完成, 所以最大利润为 0。"
   ]
  },
  {
   "cell_type": "code",
   "execution_count": 2,
   "metadata": {},
   "outputs": [],
   "source": [
    "class Solution1:\n",
    "    \"\"\"方法一：暴力法\n",
    "        复杂度分析：\n",
    "            时间复杂度：O(n^2)。循环运行 n*(n-1)/2 次。\n",
    "            空间复杂度：O(1)。只使用了常数个变量。\n",
    "    \"\"\"\n",
    "    def max_profit(self, prices):\n",
    "        ans = 0\n",
    "        for i in range(len(prices)):\n",
    "            for j in range(i + 1, len(prices)):\n",
    "                ans = max(ans, prices[j] - prices[i])\n",
    "        return ans"
   ]
  },
  {
   "cell_type": "code",
   "execution_count": 3,
   "metadata": {},
   "outputs": [
    {
     "name": "stdout",
     "output_type": "stream",
     "text": [
      "[7, 1, 5, 3, 6, 4] => 5\n",
      "[7, 6, 4, 3, 1] => 0\n"
     ]
    }
   ],
   "source": [
    "testcases = [\n",
    "    ([7,1,5,3,6,4], 5),\n",
    "    ([7,6,4,3,1], 0)\n",
    "]\n",
    "\n",
    "s = Solution1()\n",
    "for prices, val in testcases:\n",
    "    assert(s.max_profit(prices) == val)\n",
    "    print('{} => {}'.format(prices, val))"
   ]
  },
  {
   "cell_type": "code",
   "execution_count": 4,
   "metadata": {},
   "outputs": [],
   "source": [
    "class Solution2:\n",
    "    \"\"\"方法二：一次遍历\n",
    "        复杂度分析：\n",
    "            时间复杂度：O(n)，只需要遍历一次。\n",
    "            空间复杂度：O(1)，只使用了常数个变量。\n",
    "    \"\"\"\n",
    "    inf = int(1e9)\n",
    "    def max_profit(self, prices):\n",
    "        min_price, max_profit = self.inf, 0\n",
    "        for price in prices:\n",
    "            max_profit = max(price - min_price, max_profit)\n",
    "            min_price = min(price, min_price)\n",
    "        return max_profit"
   ]
  },
  {
   "cell_type": "code",
   "execution_count": 5,
   "metadata": {},
   "outputs": [
    {
     "name": "stdout",
     "output_type": "stream",
     "text": [
      "[7, 1, 5, 3, 6, 4] => 5\n",
      "[7, 6, 4, 3, 1] => 0\n",
      "1000000000\n"
     ]
    }
   ],
   "source": [
    "s = Solution2()\n",
    "for prices, val in testcases:\n",
    "    assert(s.max_profit(prices) == val)\n",
    "    print('{} => {}'.format(prices, val))"
   ]
  }
 ],
 "metadata": {
  "kernelspec": {
   "display_name": "Python 3",
   "language": "python",
   "name": "python3"
  },
  "language_info": {
   "codemirror_mode": {
    "name": "ipython",
    "version": 3
   },
   "file_extension": ".py",
   "mimetype": "text/x-python",
   "name": "python",
   "nbconvert_exporter": "python",
   "pygments_lexer": "ipython3",
   "version": "3.7.0"
  }
 },
 "nbformat": 4,
 "nbformat_minor": 2
}
