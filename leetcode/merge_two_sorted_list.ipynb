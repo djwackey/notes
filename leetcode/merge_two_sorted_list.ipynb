{
 "cells": [
  {
   "cell_type": "code",
   "execution_count": 1,
   "metadata": {},
   "outputs": [],
   "source": [
    "# 21.合并两个有序列表\n",
    "#\n",
    "# 难度：简单\n",
    "#\n",
    "# 将两个有序链表合并为一个新的有序链表并返回。新链表是通过拼接给定的两个链表的所有节点组成的。 \n",
    "#\n",
    "# 示例：\n",
    "# 输入：1->2->4, 1->3->4\n",
    "# 输出：1->1->2->3->4->4"
   ]
  },
  {
   "cell_type": "code",
   "execution_count": 2,
   "metadata": {},
   "outputs": [],
   "source": [
    "# Definition for singly-linked list.\n",
    "class ListNode:\n",
    "    def __init__(self, x):\n",
    "        self.val = x\n",
    "        self.next = None\n",
    "        \n",
    "def make_linked_list(values):\n",
    "    \"\"\"转换列表到链表\n",
    "    \"\"\"\n",
    "    n = None\n",
    "    for v in values:\n",
    "        if n is None:\n",
    "            n = ListNode(v)\n",
    "            t = n\n",
    "        else:\n",
    "            t.next = ListNode(v)\n",
    "            t = t.next\n",
    "    return n\n",
    "\n",
    "def print_linked_list(l):\n",
    "    \"\"\"打印链表\n",
    "    \"\"\"\n",
    "    assert(l is None or isinstance(l, ListNode))\n",
    "    while l is not None:\n",
    "        print(l, l.__dict__)\n",
    "        l = l.next"
   ]
  },
  {
   "cell_type": "code",
   "execution_count": 3,
   "metadata": {},
   "outputs": [
    {
     "name": "stdout",
     "output_type": "stream",
     "text": [
      "<__main__.ListNode object at 0x7f36ccf35828> {'val': 1, 'next': <__main__.ListNode object at 0x7f36ccf35908>}\n",
      "<__main__.ListNode object at 0x7f36ccf35908> {'val': 2, 'next': <__main__.ListNode object at 0x7f36ccf35390>}\n",
      "<__main__.ListNode object at 0x7f36ccf35390> {'val': 4, 'next': None}\n",
      "<__main__.ListNode object at 0x7f36ccf35eb8> {'val': 1, 'next': <__main__.ListNode object at 0x7f36ccf35940>}\n",
      "<__main__.ListNode object at 0x7f36ccf35940> {'val': 3, 'next': <__main__.ListNode object at 0x7f36ccf350f0>}\n",
      "<__main__.ListNode object at 0x7f36ccf350f0> {'val': 4, 'next': None}\n"
     ]
    }
   ],
   "source": [
    "l1 = make_linked_list([1, 2, 4])\n",
    "l2 = make_linked_list([1, 3, 4])\n",
    "\n",
    "print_linked_list(l1)\n",
    "print_linked_list(l2)"
   ]
  },
  {
   "cell_type": "code",
   "execution_count": 4,
   "metadata": {},
   "outputs": [],
   "source": [
    "class Solution1:\n",
    "    \"\"\"递归\n",
    "        复杂度分析：\n",
    "            时间复杂度：O(n + m)。因为每次调用递归都会去掉 l1 或者 l2 的头元素（直到至少有一个链表为空），\n",
    "                函数 mergeTwoList 中只会遍历每个元素一次。所以，时间复杂度与合并后的链表长度为线性关系。\n",
    "            空间复杂度：O(n + m)。调用 merge_two_lists 退出时 l1 和 l2 中每个元素都一定已经被遍历过了，\n",
    "                所以 n + m 个栈帧会消耗 O(n + m) 的空间。\n",
    "    \"\"\"\n",
    "    def merge_two_lists(self, l1, l2):\n",
    "        if l1 is None:\n",
    "            return l2\n",
    "        elif l2 is None:\n",
    "            return l1\n",
    "        elif l1.val < l2.val:\n",
    "            l1.next = self.merge_two_lists(l1.next, l2)\n",
    "            return l1\n",
    "        else:\n",
    "            l2.next = self.merge_two_lists(l1, l2.next)\n",
    "            return l2"
   ]
  },
  {
   "cell_type": "code",
   "execution_count": 5,
   "metadata": {},
   "outputs": [
    {
     "name": "stdout",
     "output_type": "stream",
     "text": [
      "<__main__.ListNode object at 0x7f36ccf35eb8> {'val': 1, 'next': <__main__.ListNode object at 0x7f36ccf35828>}\n",
      "<__main__.ListNode object at 0x7f36ccf35828> {'val': 1, 'next': <__main__.ListNode object at 0x7f36ccf35908>}\n",
      "<__main__.ListNode object at 0x7f36ccf35908> {'val': 2, 'next': <__main__.ListNode object at 0x7f36ccf35940>}\n",
      "<__main__.ListNode object at 0x7f36ccf35940> {'val': 3, 'next': <__main__.ListNode object at 0x7f36ccf350f0>}\n",
      "<__main__.ListNode object at 0x7f36ccf350f0> {'val': 4, 'next': <__main__.ListNode object at 0x7f36ccf35390>}\n",
      "<__main__.ListNode object at 0x7f36ccf35390> {'val': 4, 'next': None}\n"
     ]
    }
   ],
   "source": [
    "s = Solution1()\n",
    "ret = s.merge_two_lists(l1, l2)\n",
    "print_linked_list(ret)"
   ]
  },
  {
   "cell_type": "code",
   "execution_count": 6,
   "metadata": {},
   "outputs": [],
   "source": [
    "class Solution2:\n",
    "    \"\"\"迭代\n",
    "        复杂度分析：\n",
    "            时间复杂度：O(n + m)。因为每次循环迭代中，l1 和 l2 只有一个元素会被放进合并链表中，\n",
    "                while 循环的次数等于两个链表的总长度。所有其他工作都是常数级别的，所以总的时间复杂度是线性的。\n",
    "            空间复杂度：O(1)。迭代的过程只会产生几个指针，所以它所需要的空间是常数级别的。\n",
    "    \"\"\"\n",
    "    def merge_two_lists(self, l1, l2):\n",
    "        # maintain an unchanging reference to node ahead of the return node.\n",
    "        prehead = ListNode(-1)\n",
    "\n",
    "        prev = prehead\n",
    "        while l1 and l2:\n",
    "            if l1.val <= l2.val:\n",
    "                prev.next = l1\n",
    "                l1 = l1.next\n",
    "            else:\n",
    "                prev.next = l2\n",
    "                l2 = l2.next            \n",
    "            prev = prev.next\n",
    "\n",
    "        # exactly one of l1 and l2 can be non-null at this point, so connect\n",
    "        # the non-null list to the end of the merged list.\n",
    "        prev.next = l1 if l1 is not None else l2\n",
    "\n",
    "        return prehead.next"
   ]
  },
  {
   "cell_type": "code",
   "execution_count": 7,
   "metadata": {},
   "outputs": [
    {
     "name": "stdout",
     "output_type": "stream",
     "text": [
      "<__main__.ListNode object at 0x7f36ccf35fd0> {'val': 1, 'next': <__main__.ListNode object at 0x7f36ccf355c0>}\n",
      "<__main__.ListNode object at 0x7f36ccf355c0> {'val': 1, 'next': <__main__.ListNode object at 0x7f36ccf2fd68>}\n",
      "<__main__.ListNode object at 0x7f36ccf2fd68> {'val': 2, 'next': <__main__.ListNode object at 0x7f36ccf2f9e8>}\n",
      "<__main__.ListNode object at 0x7f36ccf2f9e8> {'val': 3, 'next': <__main__.ListNode object at 0x7f36ccf2f400>}\n",
      "<__main__.ListNode object at 0x7f36ccf2f400> {'val': 4, 'next': <__main__.ListNode object at 0x7f36ccf2f358>}\n",
      "<__main__.ListNode object at 0x7f36ccf2f358> {'val': 4, 'next': None}\n"
     ]
    }
   ],
   "source": [
    "l1 = make_linked_list([1, 2, 4])\n",
    "l2 = make_linked_list([1, 3, 4])\n",
    "\n",
    "s = Solution2()\n",
    "ret = s.merge_two_lists(l1, l2)\n",
    "print_linked_list(ret)"
   ]
  }
 ],
 "metadata": {
  "kernelspec": {
   "display_name": "Python 3",
   "language": "python",
   "name": "python3"
  },
  "language_info": {
   "codemirror_mode": {
    "name": "ipython",
    "version": 3
   },
   "file_extension": ".py",
   "mimetype": "text/x-python",
   "name": "python",
   "nbconvert_exporter": "python",
   "pygments_lexer": "ipython3",
   "version": "3.7.0"
  }
 },
 "nbformat": 4,
 "nbformat_minor": 2
}
