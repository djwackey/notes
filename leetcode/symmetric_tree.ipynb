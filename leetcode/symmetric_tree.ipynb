{
 "cells": [
  {
   "cell_type": "code",
   "execution_count": 1,
   "metadata": {},
   "outputs": [],
   "source": [
    "# 101.对称二叉树\n",
    "#\n",
    "# 难度：简单\n",
    "#\n",
    "# 给定一个二叉树，检查它是否是镜像对称的。\n",
    "#\n",
    "# 例如，二叉树 [1,2,2,3,4,4,3] 是对称的。\n",
    "#\n",
    "#     1\n",
    "#    / \\\n",
    "#   2   2\n",
    "#  / \\ / \\\n",
    "# 3  4 4  3\n",
    "#\n",
    "# 但是下面这个 [1,2,2,null,3,null,3] 则不是镜像对称的:\n",
    "#\n",
    "#    1\n",
    "#   / \\\n",
    "#  2   2\n",
    "#   \\   \\\n",
    "#   3    3\n",
    "# 说明:\n",
    "# 如果你可以运用递归和迭代两种方法解决这个问题，会很加分。"
   ]
  },
  {
   "cell_type": "code",
   "execution_count": 2,
   "metadata": {},
   "outputs": [],
   "source": [
    "class Solution1:\n",
    "    \"\"\"方法一：递归\n",
    "        复杂度分析：\n",
    "            时间复杂度：O(n)，因为我们遍历整个输入树一次，所以总的运行时间为O(n)，其中n是树中结点的总数。\n",
    "            空间复杂度：递归调用的次数受树的高度限制。在最糟糕情况下，树是线性的，其高度为O(n)。\n",
    "                因此，在最糟糕的情况下，由栈上的递归调用造成的空间复杂度为O(n)。\n",
    "    \"\"\"\n",
    "    def is_symmetric(self, root):\n",
    "        return is_mirror(root, root)\n",
    "\n",
    "    def is_mirror(t1, t2):\n",
    "        if t1 is None and t2 is None:\n",
    "            return True\n",
    "        if t1 is None or t2 is None:\n",
    "            return False\n",
    "        return (t1.val == t2.val) and self.is_mirror(t1.right, t2.left) and is_mirror(t1.left, t2.right)"
   ]
  },
  {
   "cell_type": "code",
   "execution_count": 3,
   "metadata": {},
   "outputs": [],
   "source": [
    "from collections import deque\n",
    "class Solution2:\n",
    "    \"\"\"方法二：迭代\n",
    "        复杂度分析：\n",
    "            时间复杂度：O(n)，因为我们遍历整个输入树一次，所以总的运行时间为O(n)，其中n是树中结点的总数。\n",
    "            空间复杂度：搜索队列需要额外的空间。在最糟糕情况下，我们不得不向队列中插入O(n) 个结点。因此，空间复杂度为O(n)。\n",
    "    \"\"\"\n",
    "    def is_symmetric(self, root):\n",
    "        q = deque([])\n",
    "        q.append(root)\n",
    "        q.append(root)\n",
    "        while q:\n",
    "            t1 = q.popleft()\n",
    "            t2 = q.popleft()\n",
    "            if t1 is None and t2 is None:\n",
    "                continue\n",
    "            if t1 is None or t2 is None:\n",
    "                return False\n",
    "            if t1.val != t2.val:\n",
    "                return False\n",
    "            q.append(t1.left)\n",
    "            q.append(t2.right)\n",
    "            q.append(t1.right)\n",
    "            q.append(t2.left)\n",
    "        return True"
   ]
  }
 ],
 "metadata": {
  "kernelspec": {
   "display_name": "Python 3",
   "language": "python",
   "name": "python3"
  },
  "language_info": {
   "codemirror_mode": {
    "name": "ipython",
    "version": 3
   },
   "file_extension": ".py",
   "mimetype": "text/x-python",
   "name": "python",
   "nbconvert_exporter": "python",
   "pygments_lexer": "ipython3",
   "version": "3.7.0"
  }
 },
 "nbformat": 4,
 "nbformat_minor": 2
}
