{
 "cells": [
  {
   "cell_type": "code",
   "execution_count": 1,
   "metadata": {},
   "outputs": [],
   "source": [
    "# 231.2的幂\n",
    "#\n",
    "# 难度：简单\n",
    "#\n",
    "# 给定一个整数，编写一个函数来判断它是否是 2 的幂次方。\n",
    "#\n",
    "# 示例 1:\n",
    "# 输入: 1\n",
    "# 输出: true\n",
    "# 解释: 2^0 = 1\n",
    "#\n",
    "# 示例 2:\n",
    "# 输入: 16\n",
    "# 输出: true\n",
    "# 解释: 2^4 = 16\n",
    "#\n",
    "# 示例 3:\n",
    "# 输入: 218\n",
    "# 输出: false"
   ]
  },
  {
   "cell_type": "code",
   "execution_count": 2,
   "metadata": {},
   "outputs": [],
   "source": [
    "class Solution1:\n",
    "    def is_power_of_two(self, n):\n",
    "        if n == 0:\n",
    "            return False\n",
    "        while n % 2 == 0:\n",
    "            n /= 2\n",
    "        return n == 1"
   ]
  },
  {
   "cell_type": "code",
   "execution_count": 3,
   "metadata": {},
   "outputs": [
    {
     "name": "stdout",
     "output_type": "stream",
     "text": [
      "1 => True\n",
      "16 => True\n",
      "218 => False\n"
     ]
    }
   ],
   "source": [
    "testcases = [\n",
    "    (1, True),\n",
    "    (16, True),\n",
    "    (218, False)\n",
    "]\n",
    "\n",
    "s = Solution1()\n",
    "for n, v in testcases:\n",
    "    assert(s.is_power_of_two(n) == v)\n",
    "    print('{} => {}'.format(n, v))"
   ]
  },
  {
   "cell_type": "code",
   "execution_count": 4,
   "metadata": {},
   "outputs": [],
   "source": [
    "class Solution2:\n",
    "    \"\"\"方法一：位运算：获取二进制中最右边的 1\n",
    "    \"\"\"\n",
    "    def is_power_of_two(self, n):\n",
    "        if n == 0:\n",
    "            return False\n",
    "        return n & (-n) == n"
   ]
  },
  {
   "cell_type": "code",
   "execution_count": 5,
   "metadata": {},
   "outputs": [
    {
     "name": "stdout",
     "output_type": "stream",
     "text": [
      "1 => True\n",
      "16 => True\n",
      "218 => False\n"
     ]
    }
   ],
   "source": [
    "s = Solution2()\n",
    "for n, v in testcases:\n",
    "    assert(s.is_power_of_two(n) == v)\n",
    "    print('{} => {}'.format(n, v))"
   ]
  },
  {
   "cell_type": "code",
   "execution_count": 6,
   "metadata": {},
   "outputs": [],
   "source": [
    "class Solution3:\n",
    "    \"\"\"方法二：位运算：去除二进制中最右边的 1\n",
    "    \"\"\"\n",
    "    def is_power_of_two(self, n):\n",
    "        if n == 0:\n",
    "            return False\n",
    "        return n & (n - 1) == 0"
   ]
  },
  {
   "cell_type": "code",
   "execution_count": 7,
   "metadata": {},
   "outputs": [
    {
     "name": "stdout",
     "output_type": "stream",
     "text": [
      "1 => True\n",
      "16 => True\n",
      "218 => False\n"
     ]
    }
   ],
   "source": [
    "s = Solution3()\n",
    "for n, v in testcases:\n",
    "    assert(s.is_power_of_two(n) == v)\n",
    "    print('{} => {}'.format(n, v))"
   ]
  }
 ],
 "metadata": {
  "kernelspec": {
   "display_name": "Python 3",
   "language": "python",
   "name": "python3"
  },
  "language_info": {
   "codemirror_mode": {
    "name": "ipython",
    "version": 3
   },
   "file_extension": ".py",
   "mimetype": "text/x-python",
   "name": "python",
   "nbconvert_exporter": "python",
   "pygments_lexer": "ipython3",
   "version": "3.7.0"
  }
 },
 "nbformat": 4,
 "nbformat_minor": 2
}
