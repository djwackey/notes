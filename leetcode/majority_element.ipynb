{
 "cells": [
  {
   "cell_type": "code",
   "execution_count": 1,
   "metadata": {},
   "outputs": [],
   "source": [
    "# 169.多数元素\n",
    "#\n",
    "# 难度：简单\n",
    "#\n",
    "# 给定一个大小为 n 的数组，找到其中的多数元素。多数元素是指在数组中出现次数大于 ⌊ n/2 ⌋ 的元素。\n",
    "#\n",
    "# 你可以假设数组是非空的，并且给定的数组总是存在多数元素。\n",
    "#\n",
    "# 示例 1:\n",
    "# 输入: [3,2,3]\n",
    "# 输出: 3\n",
    "#\n",
    "# 示例 2:\n",
    "# 输入: [2,2,1,1,1,2,2]\n",
    "# 输出: 2"
   ]
  },
  {
   "cell_type": "code",
   "execution_count": 2,
   "metadata": {},
   "outputs": [],
   "source": [
    "import collections\n",
    "\n",
    "class Solution1:\n",
    "    \"\"\"方法一：哈希表\n",
    "        复杂度分析：\n",
    "            时间复杂度：O(n)。\n",
    "            空间复杂度：O(n)。\n",
    "    \"\"\"\n",
    "    def majority_element(self, nums):\n",
    "        counts = collections.Counter(nums)\n",
    "        return max(counts.keys(), key=counts.get)"
   ]
  },
  {
   "cell_type": "code",
   "execution_count": 3,
   "metadata": {},
   "outputs": [
    {
     "name": "stdout",
     "output_type": "stream",
     "text": [
      "[3, 2, 3] => 3\n",
      "[2, 2, 1, 1, 1, 2, 2] => 2\n"
     ]
    }
   ],
   "source": [
    "testcases = [\n",
    "    ([3,2,3], 3),\n",
    "    ([2,2,1,1,1,2,2], 2)\n",
    "]\n",
    "\n",
    "s = Solution1()\n",
    "for nums, val in testcases:\n",
    "    assert(s.majority_element(nums) == val)\n",
    "    print('{} => {}'.format(nums, val))"
   ]
  },
  {
   "cell_type": "code",
   "execution_count": 4,
   "metadata": {},
   "outputs": [],
   "source": [
    "class Solution2:\n",
    "    \"\"\"方法二：排序\n",
    "        复杂度分析：\n",
    "            时间复杂度：O(nlogn)。将数组排序的时间复杂度为 O(nlogn)。\n",
    "            空间复杂度：O(logn)。如果使用语言自带的排序算法，需要使用 O(logn) 的栈空间。\n",
    "                如果自己编写堆排序，则只需要使用 O(1) 的额外空间。\n",
    "    \"\"\"\n",
    "    def majority_element(self, nums):\n",
    "        nums.sort()\n",
    "        return nums[len(nums)//2]"
   ]
  },
  {
   "cell_type": "code",
   "execution_count": 5,
   "metadata": {},
   "outputs": [
    {
     "name": "stdout",
     "output_type": "stream",
     "text": [
      "[2, 3, 3] => 3\n",
      "[1, 1, 1, 2, 2, 2, 2] => 2\n"
     ]
    }
   ],
   "source": [
    "s = Solution2()\n",
    "for nums, val in testcases:\n",
    "    assert(s.majority_element(nums) == val)\n",
    "    print('{} => {}'.format(nums, val))"
   ]
  },
  {
   "cell_type": "code",
   "execution_count": 6,
   "metadata": {},
   "outputs": [],
   "source": [
    "import random\n",
    "\n",
    "class Solution3:\n",
    "    \"\"\"方法三：随机化\n",
    "    \"\"\"\n",
    "    def majority_element(self, nums):\n",
    "        majority_count = len(nums)//2\n",
    "        while True:\n",
    "            candidate = random.choice(nums)\n",
    "            if sum(1 for elem in nums if elem == candidate) > majority_count:\n",
    "                return candidate"
   ]
  },
  {
   "cell_type": "code",
   "execution_count": 7,
   "metadata": {},
   "outputs": [
    {
     "name": "stdout",
     "output_type": "stream",
     "text": [
      "[2, 3, 3] => 3\n",
      "[1, 1, 1, 2, 2, 2, 2] => 2\n"
     ]
    }
   ],
   "source": [
    "s = Solution3()\n",
    "for nums, val in testcases:\n",
    "    assert(s.majority_element(nums) == val)\n",
    "    print('{} => {}'.format(nums, val))"
   ]
  },
  {
   "cell_type": "code",
   "execution_count": 8,
   "metadata": {},
   "outputs": [],
   "source": [
    "class Solution4:\n",
    "    \"\"\"方法四：分治\n",
    "        复杂度分析：\n",
    "            时间复杂度：O(nlogn)。\n",
    "            空间复杂度：O(logn)。\n",
    "    \"\"\"\n",
    "    def majority_element(self, nums, lo=0, hi=None):\n",
    "        def majority_element_rec(lo, hi):\n",
    "            # base case; the only element in an array of size 1 is the majority\n",
    "            # element.\n",
    "            if lo == hi:\n",
    "                return nums[lo]\n",
    "\n",
    "            # recurse on left and right halves of this slice.\n",
    "            mid = (hi-lo)//2 + lo\n",
    "            left = majority_element_rec(lo, mid)\n",
    "            right = majority_element_rec(mid+1, hi)\n",
    "\n",
    "            # if the two halves agree on the majority element, return it.\n",
    "            if left == right:\n",
    "                return left\n",
    "\n",
    "            # otherwise, count each element and return the \"winner\".\n",
    "            left_count = sum(1 for i in range(lo, hi+1) if nums[i] == left)\n",
    "            right_count = sum(1 for i in range(lo, hi+1) if nums[i] == right)\n",
    "\n",
    "            return left if left_count > right_count else right\n",
    "\n",
    "        return majority_element_rec(0, len(nums)-1)"
   ]
  },
  {
   "cell_type": "code",
   "execution_count": 9,
   "metadata": {},
   "outputs": [
    {
     "name": "stdout",
     "output_type": "stream",
     "text": [
      "[2, 3, 3] => 3\n",
      "[1, 1, 1, 2, 2, 2, 2] => 2\n"
     ]
    }
   ],
   "source": [
    "s = Solution4()\n",
    "for nums, val in testcases:\n",
    "    assert(s.majority_element(nums) == val)\n",
    "    print('{} => {}'.format(nums, val))"
   ]
  },
  {
   "cell_type": "code",
   "execution_count": 10,
   "metadata": {},
   "outputs": [],
   "source": [
    "class Solution5:\n",
    "    \"\"\"方法五：Boyer-Moore 投票算法\n",
    "        复杂度分析：\n",
    "            时间复杂度：O(n)。Boyer-Moore 算法只对数组进行了一次遍历。\n",
    "            空间复杂度：O(1)。Boyer-Moore 算法只需要常数级别的额外空间。\n",
    "    \"\"\"\n",
    "    def majority_element(self, nums):\n",
    "        candidate, count = None, 0\n",
    "\n",
    "        for num in nums:\n",
    "            if count == 0:\n",
    "                candidate = num\n",
    "            count += (1 if num == candidate else -1)\n",
    "\n",
    "        return candidate"
   ]
  },
  {
   "cell_type": "code",
   "execution_count": 11,
   "metadata": {},
   "outputs": [
    {
     "name": "stdout",
     "output_type": "stream",
     "text": [
      "[2, 3, 3] => 3\n",
      "[1, 1, 1, 2, 2, 2, 2] => 2\n"
     ]
    }
   ],
   "source": [
    "s = Solution5()\n",
    "for nums, val in testcases:\n",
    "    assert(s.majority_element(nums) == val)\n",
    "    print('{} => {}'.format(nums, val))"
   ]
  }
 ],
 "metadata": {
  "kernelspec": {
   "display_name": "Python 3",
   "language": "python",
   "name": "python3"
  },
  "language_info": {
   "codemirror_mode": {
    "name": "ipython",
    "version": 3
   },
   "file_extension": ".py",
   "mimetype": "text/x-python",
   "name": "python",
   "nbconvert_exporter": "python",
   "pygments_lexer": "ipython3",
   "version": "3.7.0"
  }
 },
 "nbformat": 4,
 "nbformat_minor": 2
}
