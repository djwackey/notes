{
 "cells": [
  {
   "cell_type": "code",
   "execution_count": null,
   "metadata": {},
   "outputs": [],
   "source": [
    "# 1.两数之和\n",
    "#\n",
    "# 难度：简单\n",
    "#\n",
    "# 给定一个整数数组 nums 和一个目标值 target，请你在该数组中找出和为目标值的那 两个 整数，并返回他们的数组下标。\n",
    "#\n",
    "# 你可以假设每种输入只会对应一个答案。但是，你不能重复利用这个数组中同样的元素。\n",
    "#\n",
    "# 示例:\n",
    "#\n",
    "# 给定 nums = [2, 7, 11, 15], target = 9\n",
    "#\n",
    "# 因为 nums[0] + nums[1] = 2 + 7 = 9\n",
    "# 所以返回 [0, 1]"
   ]
  },
  {
   "cell_type": "code",
   "execution_count": 1,
   "metadata": {},
   "outputs": [],
   "source": [
    "nums = [2, 7, 11, 15]\n",
    "target = 9"
   ]
  },
  {
   "cell_type": "code",
   "execution_count": 1,
   "metadata": {},
   "outputs": [],
   "source": [
    "def two_sum1(nums, target):\n",
    "    \"\"\"方法一：暴力法\n",
    "        复杂度分析：\n",
    "            时间复杂度：O(n²)\n",
    "            空间复杂度：O(1)\n",
    "    \"\"\"\n",
    "    size = len(nums)\n",
    "    for i, _ in enumerate(nums):\n",
    "        for j in range(i + 1, size):\n",
    "            if nums[i] + nums[j] == target:\n",
    "                return [i, j]\n",
    "    raise Exception('No two sum solution')"
   ]
  },
  {
   "cell_type": "code",
   "execution_count": 1,
   "metadata": {},
   "outputs": [
    {
     "data": {
      "text/plain": [
       "[0, 1]"
      ]
     },
     "execution_count": 1,
     "metadata": {},
     "output_type": "execute_result"
    }
   ],
   "source": [
    "two_sum1(nums, target)"
   ]
  },
  {
   "cell_type": "code",
   "execution_count": 12,
   "metadata": {},
   "outputs": [],
   "source": [
    "def two_sum2(nums, target):\n",
    "    \"\"\"方法二：两遍哈希表\n",
    "        复杂度分析：\n",
    "            时间复杂度：O(n)\n",
    "            空间复杂度：O(n)\n",
    "    \"\"\"\n",
    "    d = {}\n",
    "    for i, n in enumerate(nums):\n",
    "        d[n] = i\n",
    "    for i, _ in enumerate(nums):\n",
    "        complement = target - nums[i]\n",
    "        if complement in d and d.get(complement) != i:\n",
    "            return [i, d.get(complement)]\n",
    "    raise Exception('No two sum solution')"
   ]
  },
  {
   "cell_type": "code",
   "execution_count": 44,
   "metadata": {},
   "outputs": [
    {
     "data": {
      "text/plain": [
       "[0, 1]"
      ]
     },
     "execution_count": 44,
     "metadata": {},
     "output_type": "execute_result"
    }
   ],
   "source": [
    "two_sum2(nums, target)"
   ]
  },
  {
   "cell_type": "code",
   "execution_count": 13,
   "metadata": {},
   "outputs": [],
   "source": [
    "def two_sum3(nums, target):\n",
    "    \"\"\"方法三：一遍哈希表\n",
    "        复杂度分析：\n",
    "            时间复杂度：O(n)\n",
    "            空间复杂度：O(n)\n",
    "    \"\"\"\n",
    "    d = {}\n",
    "    for i, n in enumerate(nums):\n",
    "        v = d.get(target - n) \n",
    "        if v is not None:\n",
    "            return [v, i]\n",
    "        d[n] = i\n",
    "    raise Exception('No two sum solution')"
   ]
  },
  {
   "cell_type": "code",
   "execution_count": 1,
   "metadata": {},
   "outputs": [
    {
     "data": {
      "text/plain": [
       "[0, 1]"
      ]
     },
     "execution_count": 1,
     "metadata": {},
     "output_type": "execute_result"
    }
   ],
   "source": [
    "two_sum3(nums, target)"
   ]
  }
 ],
 "metadata": {
  "kernelspec": {
   "display_name": "Python 3",
   "language": "python",
   "name": "python3"
  },
  "language_info": {
   "codemirror_mode": {
    "name": "ipython",
    "version": 3
   },
   "file_extension": ".py",
   "mimetype": "text/x-python",
   "name": "python",
   "nbconvert_exporter": "python",
   "pygments_lexer": "ipython3",
   "version": "3.7.0"
  }
 },
 "nbformat": 4,
 "nbformat_minor": 2
}
