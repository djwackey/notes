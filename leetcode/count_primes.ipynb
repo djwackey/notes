{
 "cells": [
  {
   "cell_type": "code",
   "execution_count": 1,
   "metadata": {},
   "outputs": [],
   "source": [
    "# 204.计数质数\n",
    "#\n",
    "# 难度：简单\n",
    "#\n",
    "# 统计所有小于非负整数 n 的质数的数量。\n",
    "#\n",
    "# 示例:\n",
    "# 输入: 10\n",
    "# 输出: 4\n",
    "# 解释: 小于 10 的质数一共有 4 个, 它们是 2, 3, 5, 7 。"
   ]
  },
  {
   "cell_type": "code",
   "execution_count": 2,
   "metadata": {},
   "outputs": [],
   "source": [
    "class Solution:\n",
    "    def count_primes(self, n):\n",
    "        if n < 2:\n",
    "            return 0\n",
    "        \n",
    "        is_prime = [1] * n\n",
    "        is_prime[0] = is_prime[1] = 0\n",
    "        \n",
    "        for i in range(2, int(n ** 0.5) + 1):\n",
    "            if is_prime[i]:\n",
    "                is_prime[i * i:n:i] = [0] * ((n - 1 - i * i) // i + 1)\n",
    "                \n",
    "        return sum(is_prime)"
   ]
  },
  {
   "cell_type": "code",
   "execution_count": 3,
   "metadata": {},
   "outputs": [
    {
     "data": {
      "text/plain": [
       "4"
      ]
     },
     "execution_count": 4,
     "metadata": {},
     "output_type": "execute_result"
    }
   ],
   "source": [
    "s = Solution()\n",
    "s.count_primes(10)"
   ]
  }
 ],
 "metadata": {
  "kernelspec": {
   "display_name": "Python 3",
   "language": "python",
   "name": "python3"
  },
  "language_info": {
   "codemirror_mode": {
    "name": "ipython",
    "version": 3
   },
   "file_extension": ".py",
   "mimetype": "text/x-python",
   "name": "python",
   "nbconvert_exporter": "python",
   "pygments_lexer": "ipython3",
   "version": "3.7.0"
  }
 },
 "nbformat": 4,
 "nbformat_minor": 2
}
