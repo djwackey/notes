{
 "cells": [
  {
   "cell_type": "code",
   "execution_count": 1,
   "metadata": {},
   "outputs": [],
   "source": [
    "# 9.回文数\n",
    "#\n",
    "# 难度：简单\n",
    "#\n",
    "# 判断一个整数是否是回文数。回文数是指正序（从左向右）和倒序（从右向左）读都是一样的整数。\n",
    "#\n",
    "# 示例1:\n",
    "# 输入：121\n",
    "# 输出：true\n",
    "#\n",
    "# 示例2：\n",
    "# 输入：-121\n",
    "# 输出：false\n",
    "#\n",
    "# 示例3：\n",
    "# 输入：10\n",
    "# 输出：false\n",
    "#\n",
    "# 进阶：\n",
    "# 你能不将整数转为字符串来解决这个问题吗？"
   ]
  },
  {
   "cell_type": "code",
   "execution_count": 2,
   "metadata": {},
   "outputs": [],
   "source": [
    "class Solution:\n",
    "    \"\"\"反转一半数字\n",
    "        复杂度分析：\n",
    "            时间复杂度：O(log(n))。\n",
    "            空间复杂度：O(1)。\n",
    "    \"\"\"\n",
    "    def is_palindrome(self, x):\n",
    "        if x < 0 or (x % 10 == 0 and x != 0):\n",
    "            return False\n",
    "        nreverted = 0;\n",
    "        while x > nreverted:\n",
    "            nreverted = nreverted * 10 + x % 10\n",
    "            x = x // 10\n",
    "        return x == nreverted or x == nreverted // 10"
   ]
  },
  {
   "cell_type": "code",
   "execution_count": 3,
   "metadata": {},
   "outputs": [
    {
     "name": "stdout",
     "output_type": "stream",
     "text": [
      "True\n",
      "False\n",
      "False\n",
      "True\n"
     ]
    }
   ],
   "source": [
    "testcases = [(121, True), (-121, False), (10, False), (11, True)]\n",
    "s = Solution()\n",
    "for tc, val in testcases:\n",
    "    assert(s.is_palindrome(tc) == val), 'testcase:{},failed'.format(tc)\n",
    "    print(val)"
   ]
  }
 ],
 "metadata": {
  "kernelspec": {
   "display_name": "Python 3",
   "language": "python",
   "name": "python3"
  },
  "language_info": {
   "codemirror_mode": {
    "name": "ipython",
    "version": 3
   },
   "file_extension": ".py",
   "mimetype": "text/x-python",
   "name": "python",
   "nbconvert_exporter": "python",
   "pygments_lexer": "ipython3",
   "version": "3.7.0"
  }
 },
 "nbformat": 4,
 "nbformat_minor": 2
}
