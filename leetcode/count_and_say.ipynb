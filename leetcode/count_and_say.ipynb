{
 "cells": [
  {
   "cell_type": "code",
   "execution_count": 1,
   "metadata": {},
   "outputs": [],
   "source": [
    "# 38.外观数列\n",
    "#\n",
    "# 难度：简单\n",
    "#\n",
    "#「外观数列」是一个整数序列，从数字 1 开始，序列中的每一项都是对前一项的描述。前五项如下：\n",
    "#\n",
    "# 1.     1\n",
    "# 2.     11\n",
    "# 3.     21\n",
    "# 4.     1211\n",
    "# 5.     111221\n",
    "# 1 被读作  \"one 1\"  (\"一个一\") , 即 11。\n",
    "# 11 被读作 \"two 1s\" (\"两个一\"）, 即 21。\n",
    "# 21 被读作 \"one 2\",  \"one 1\" （\"一个二\" ,  \"一个一\") , 即 1211。\n",
    "#\n",
    "# 给定一个正整数 n（1 ≤ n ≤ 30），输出外观数列的第 n 项。\n",
    "#\n",
    "# 注意：整数序列中的每一项将表示为一个字符串。\n",
    "#\n",
    "# 示例 1:\n",
    "# 输入: 1\n",
    "# 输出: \"1\"\n",
    "# 解释：这是一个基本样例。\n",
    "#\n",
    "# 示例 2:\n",
    "# 输入: 4\n",
    "# 输出: \"1211\"\n",
    "# 解释：当 n = 3 时，序列是 \"21\"，其中我们有 \"2\" 和 \"1\" 两组，\"2\" 可以读作 \"12\"，也就是出现频次 = 1 而 值 = 2；\n",
    "#   类似 \"1\" 可以读作 \"11\"。所以答案是 \"12\" 和 \"11\" 组合在一起，也就是 \"1211\"。"
   ]
  },
  {
   "cell_type": "code",
   "execution_count": 2,
   "metadata": {},
   "outputs": [],
   "source": [
    "class Solution:\n",
    "    def count_and_say(self, n):\n",
    "        i, s = 1, '1'\n",
    "\n",
    "        while i < n:\n",
    "            num, tmp = 1, ''\n",
    "            for j in range(1, len(s)):\n",
    "                if s[j-1] == s[j]:\n",
    "                    num += 1\n",
    "                else:\n",
    "                    tmp += str(num)\n",
    "                    tmp += s[j-1]\n",
    "                    num = 1\n",
    "            tmp += str(num)\n",
    "            tmp += s[len(s)-1]\n",
    "            s = tmp\n",
    "            i += 1\n",
    "        return s"
   ]
  },
  {
   "cell_type": "code",
   "execution_count": 3,
   "metadata": {},
   "outputs": [
    {
     "name": "stdout",
     "output_type": "stream",
     "text": [
      "1.\t1\n",
      "2.\t11\n",
      "3.\t21\n",
      "4.\t1211\n",
      "5.\t111221\n"
     ]
    }
   ],
   "source": [
    "n = 5\n",
    "s = Solution()\n",
    "for i in range(1, n + 1):\n",
    "    ret = s.count_and_say(i)\n",
    "    print('{}.\\t{}'.format(i, ret))"
   ]
  }
 ],
 "metadata": {
  "kernelspec": {
   "display_name": "Python 3",
   "language": "python",
   "name": "python3"
  },
  "language_info": {
   "codemirror_mode": {
    "name": "ipython",
    "version": 3
   },
   "file_extension": ".py",
   "mimetype": "text/x-python",
   "name": "python",
   "nbconvert_exporter": "python",
   "pygments_lexer": "ipython3",
   "version": "3.7.0"
  }
 },
 "nbformat": 4,
 "nbformat_minor": 2
}
