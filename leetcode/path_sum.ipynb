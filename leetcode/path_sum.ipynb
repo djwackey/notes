{
 "cells": [
  {
   "cell_type": "code",
   "execution_count": 1,
   "metadata": {},
   "outputs": [],
   "source": [
    "# 112.路径总和\n",
    "#\n",
    "# 难度：简单\n",
    "#\n",
    "# 给定一个二叉树和一个目标和，判断该树中是否存在根节点到叶子节点的路径，这条路径上所有节点值相加等于目标和。\n",
    "#\n",
    "# 说明: 叶子节点是指没有子节点的节点。\n",
    "#\n",
    "# 示例: \n",
    "# 给定如下二叉树，以及目标和 sums = 22，\n",
    "#\n",
    "#              5\n",
    "#             / \\\n",
    "#            4   8\n",
    "#           /   / \\\n",
    "#          11  13  4\n",
    "#         /  \\      \\\n",
    "#        7    2      1\n",
    "# 返回 true, 因为存在目标和为 22 的根节点到叶子节点的路径 5->4->11->2。"
   ]
  },
  {
   "cell_type": "code",
   "execution_count": 2,
   "metadata": {},
   "outputs": [],
   "source": [
    "# Definition for a binary tree node.\n",
    "class TreeNode:\n",
    "    def __init__(self, x):\n",
    "        self.val = x\n",
    "        self.left = None\n",
    "        self.right = None"
   ]
  },
  {
   "cell_type": "code",
   "execution_count": 3,
   "metadata": {},
   "outputs": [],
   "source": [
    "class Solution1:\n",
    "    \"\"\"方法一：递归\n",
    "        复杂度分析：\n",
    "            时间复杂度：我们访问每个节点一次，时间复杂度为O(N) ，其中N是节点个数。\n",
    "            空间复杂度：最坏情况下，整棵树是非平衡的，例如每个节点都只有一个孩子，递归会调用N次（树的高度），因此栈的空间开销是O(N) 。\n",
    "                但在最好情况下，树是完全平衡的，高度只有log(N)，因此在这种情况下空间复杂度只有O(log(N)) 。\n",
    "    \"\"\"\n",
    "    def has_path_sum(self, root, sums):\n",
    "        if not root:\n",
    "            return False\n",
    "\n",
    "        sums -= root.val\n",
    "        if not root.left and not root.right:  # if reach a leaf\n",
    "            return sums == 0\n",
    "        return self.has_path_sum(root.left, sums) or self.has_path_sum(root.right, sums)"
   ]
  },
  {
   "cell_type": "code",
   "execution_count": 4,
   "metadata": {},
   "outputs": [],
   "source": [
    "class Solution2:\n",
    "    \"\"\"方法二：迭代\n",
    "        复杂度分析：\n",
    "            时间复杂度：和递归方法相同是O(N)。\n",
    "            空间复杂度：最坏情况下（树不平衡的）是O(N) 。最好情况下（树是平衡的）是O(logN)。\n",
    "    \"\"\"\n",
    "    def has_path_sum(self, root, sums):\n",
    "        if not root:\n",
    "            return False\n",
    "\n",
    "        de = [(root, sums - root.val), ]\n",
    "        while de:\n",
    "            node, curr_sum = de.pop()\n",
    "            if not node.left and not node.right and curr_sum == 0:  \n",
    "                return True\n",
    "            if node.right:\n",
    "                de.append((node.right, curr_sum - node.right.val))\n",
    "            if node.left:\n",
    "                de.append((node.left, curr_sum - node.left.val))\n",
    "        return False"
   ]
  }
 ],
 "metadata": {
  "kernelspec": {
   "display_name": "Python 3",
   "language": "python",
   "name": "python3"
  },
  "language_info": {
   "codemirror_mode": {
    "name": "ipython",
    "version": 3
   },
   "file_extension": ".py",
   "mimetype": "text/x-python",
   "name": "python",
   "nbconvert_exporter": "python",
   "pygments_lexer": "ipython3",
   "version": "3.7.0"
  }
 },
 "nbformat": 4,
 "nbformat_minor": 2
}
