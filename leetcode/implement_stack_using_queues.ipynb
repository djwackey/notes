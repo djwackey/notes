{
 "cells": [
  {
   "cell_type": "code",
   "execution_count": 1,
   "metadata": {},
   "outputs": [],
   "source": [
    "# 225.用队列实现栈\n",
    "#\n",
    "# 难度：简单\n",
    "#\n",
    "# 使用队列实现栈的下列操作：\n",
    "#\n",
    "# push(x) -- 元素 x 入栈\n",
    "# pop() -- 移除栈顶元素\n",
    "# top() -- 获取栈顶元素\n",
    "# empty() -- 返回栈是否为空\n",
    "#\n",
    "# 注意:\n",
    "# 你只能使用队列的基本操作-- 也就是 push to back, peek/pop from front, size, 和 is empty 这些操作是合法的。\n",
    "# 你所使用的语言也许不支持队列。 你可以使用 list 或者 deque（双端队列）来模拟一个队列 , 只要是标准的队列操作即可。\n",
    "# 你可以假设所有操作都是有效的（例如, 对一个空的栈不会调用 pop 或者 top 操作）。"
   ]
  },
  {
   "cell_type": "code",
   "execution_count": 2,
   "metadata": {},
   "outputs": [],
   "source": [
    "class MyStack1:\n",
    "    \"\"\"方法一：单队列\n",
    "    \"\"\"\n",
    "\n",
    "    def __init__(self):\n",
    "        \"\"\"\n",
    "        Initialize your data structure here.\n",
    "        \"\"\"\n",
    "        self.q = []\n",
    "\n",
    "\n",
    "    def push(self, x: int) -> None:\n",
    "        \"\"\"\n",
    "        Push element x onto stack.\n",
    "        \"\"\"\n",
    "        self.q.append(x)\n",
    "        l = len(self.q)\n",
    "        while l > 1:\n",
    "            self.q.append(self.q.pop(0))\n",
    "            l -= 1\n",
    "\n",
    "\n",
    "    def pop(self) -> int:\n",
    "        \"\"\"\n",
    "        Removes the element on top of the stack and returns that element.\n",
    "        \"\"\"\n",
    "        return self.q.pop(0)\n",
    "\n",
    "\n",
    "    def top(self) -> int:\n",
    "        \"\"\"\n",
    "        Get the top element.\n",
    "        \"\"\"\n",
    "        if len(self.q) == 0:\n",
    "            return None\n",
    "        return self.q[0]\n",
    "\n",
    "\n",
    "    def empty(self) -> bool:\n",
    "        \"\"\"\n",
    "        Returns whether the stack is empty.\n",
    "        \"\"\"\n",
    "        return not self.q"
   ]
  },
  {
   "cell_type": "code",
   "execution_count": 3,
   "metadata": {},
   "outputs": [
    {
     "name": "stdout",
     "output_type": "stream",
     "text": [
      "[9, 8, 7, 6, 5, 4, 3, 2, 1, 0]\n",
      "[8, 7, 6, 5, 4, 3, 2, 1, 0] 9\n",
      "8\n",
      "False\n"
     ]
    }
   ],
   "source": [
    "# Your MyStack object will be instantiated and called as such:\n",
    "obj = MyStack1()\n",
    "for i in range(10):\n",
    "    obj.push(i)\n",
    "print(obj.q)\n",
    "param_2 = obj.pop()\n",
    "print(obj.q, param_2)\n",
    "param_3 = obj.top()\n",
    "print(param_3)\n",
    "param_4 = obj.empty()\n",
    "print(param_4)"
   ]
  },
  {
   "cell_type": "code",
   "execution_count": 4,
   "metadata": {},
   "outputs": [],
   "source": [
    "from collections import deque\n",
    "class MyStack2:\n",
    "    \n",
    "    def __init__(self):\n",
    "        \"\"\"\n",
    "        Initialize your data structure here.\n",
    "        \"\"\"\n",
    "        self.data = deque()\n",
    "        self.help = deque()\n",
    "        \n",
    "    def push(self, x: int) -> None:\n",
    "        \"\"\"\n",
    "        Push element x onto stack.\n",
    "        \"\"\"\n",
    "        self.data.append(x)\n",
    "        \n",
    "    def pop(self) -> int:\n",
    "        \"\"\"\n",
    "        Removes the element on top of the stack and returns that element.\n",
    "        \"\"\"\n",
    "        while len(self.data) > 1:\n",
    "            self.help.append(self.data.popleft())\n",
    "        element = self.data.popleft()        \n",
    "        self.help, self.data = self.data, self.help\n",
    "        return element\n",
    "    \n",
    "    def top(self) -> int:\n",
    "        \"\"\"\n",
    "        Get the top element.\n",
    "        \"\"\"\n",
    "        while len(self.data) != 1:\n",
    "            self.help.append(self.data.popleft())\n",
    "        element = self.data.popleft()\n",
    "        self.help.append(element)\n",
    "        self.help, self.data = self.data, self.help\n",
    "        return element\n",
    "    \n",
    "    def empty(self) -> bool:\n",
    "        \"\"\"\n",
    "        Returns whether the stack is empty.\n",
    "        \"\"\"\n",
    "        return not self.data"
   ]
  },
  {
   "cell_type": "code",
   "execution_count": 5,
   "metadata": {
    "scrolled": true
   },
   "outputs": [
    {
     "name": "stdout",
     "output_type": "stream",
     "text": [
      "deque([0, 1, 2, 3, 4, 5, 6, 7, 8, 9]) deque([])\n",
      "deque([0, 1, 2, 3, 4, 5, 6, 7, 8]) deque([])\n",
      "8\n",
      "False\n"
     ]
    }
   ],
   "source": [
    "# Your MyStack object will be instantiated and called as such:\n",
    "obj = MyStack2()\n",
    "for i in range(10):\n",
    "    obj.push(i)\n",
    "print(obj.data, obj.help)\n",
    "param_2 = obj.pop()\n",
    "print(obj.data, obj.help)\n",
    "param_3 = obj.top()\n",
    "print(param_3)\n",
    "param_4 = obj.empty()\n",
    "print(param_4)"
   ]
  }
 ],
 "metadata": {
  "kernelspec": {
   "display_name": "Python 3",
   "language": "python",
   "name": "python3"
  },
  "language_info": {
   "codemirror_mode": {
    "name": "ipython",
    "version": 3
   },
   "file_extension": ".py",
   "mimetype": "text/x-python",
   "name": "python",
   "nbconvert_exporter": "python",
   "pygments_lexer": "ipython3",
   "version": "3.7.0"
  }
 },
 "nbformat": 4,
 "nbformat_minor": 2
}
