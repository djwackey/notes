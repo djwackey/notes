{
 "cells": [
  {
   "cell_type": "code",
   "execution_count": 1,
   "metadata": {},
   "outputs": [],
   "source": [
    "# 14.最长公共前缀\n",
    "#\n",
    "# 难度：简单\n",
    "#\n",
    "# 编写一个函数来查找字符串数组中的最长公共前缀。\n",
    "#\n",
    "# 如果不存在公共前缀，返回空字符串 \"\"。\n",
    "#\n",
    "# 示例 1:\n",
    "# 输入: [\"flower\",\"flow\",\"flight\"]\n",
    "# 输出: \"fl\"\n",
    "#\n",
    "# 示例 2:\n",
    "# 输入: [\"dog\",\"racecar\",\"car\"]\n",
    "# 输出: \"\"\n",
    "# 解释: 输入不存在公共前缀。\n",
    "#\n",
    "# 说明:\n",
    "# 所有输入只包含小写字母 a-z 。"
   ]
  },
  {
   "cell_type": "code",
   "execution_count": 2,
   "metadata": {},
   "outputs": [],
   "source": [
    "def longest_common_prefix1(strs):\n",
    "    \"\"\"水平扫描\n",
    "        复杂度分析：\n",
    "            时间复杂度：O(S)，S 是所有字符串中字符数量的总和。\n",
    "                最坏的情况下，n个字符串都是相同的。算法会将 S1 与其他字符串 [S2...Sn] 都做一次比较。\n",
    "                这样就会进行 S 次字符比较，其中 S 是输入数据中所有字符数量。\n",
    "            空间复杂度：O(1)\n",
    "    \"\"\"\n",
    "    assert(isinstance(strs, list))\n",
    "    if len(strs) == 0:\n",
    "        return ''\n",
    "    prefix = strs[0]\n",
    "    for s in strs[1:]:\n",
    "        while not s.startswith(prefix):\n",
    "            prefix = prefix[0:len(prefix) - 1]\n",
    "            if not prefix:\n",
    "                return ''\n",
    "    return prefix"
   ]
  },
  {
   "cell_type": "code",
   "execution_count": 3,
   "metadata": {},
   "outputs": [],
   "source": [
    "strs1 = [\"flower\",\"flow\",\"flight\"]\n",
    "strs2 = [\"dog\",\"racecar\",\"car\"]\n",
    "strs3 = [\"ccc\", \"ccc\", \"ccc\"]\n",
    "# print(longest_common_prefix1(strs1))\n",
    "# print(longest_common_prefix1(strs2))"
   ]
  },
  {
   "cell_type": "code",
   "execution_count": 4,
   "metadata": {},
   "outputs": [],
   "source": [
    "def longest_common_prefix2(strs):\n",
    "    \"\"\"水平扫描\n",
    "    \"\"\"\n",
    "    assert(isinstance(strs, list))\n",
    "    slen = len(strs)\n",
    "    if slen == 0:\n",
    "        return ''\n",
    "    for i, c in enumerate(strs[0]):\n",
    "        for j in range(1, slen):\n",
    "            if i == len(strs[j]) or strs[j][i] != c:\n",
    "                return strs[0][0:i]\n",
    "    return strs[0]"
   ]
  },
  {
   "cell_type": "code",
   "execution_count": 5,
   "metadata": {},
   "outputs": [
    {
     "name": "stdout",
     "output_type": "stream",
     "text": [
      "CPU times: user 9 µs, sys: 0 ns, total: 9 µs\n",
      "Wall time: 11.4 µs\n",
      "CPU times: user 77 µs, sys: 0 ns, total: 77 µs\n",
      "Wall time: 25.3 µs\n"
     ]
    },
    {
     "data": {
      "text/plain": [
       "'fl'"
      ]
     },
     "execution_count": 6,
     "metadata": {},
     "output_type": "execute_result"
    }
   ],
   "source": [
    "%time longest_common_prefix1(strs1)\n",
    "%time longest_common_prefix2(strs1)\n",
    "# print(longest_common_prefix2(strs1))\n",
    "# print(longest_common_prefix2(strs2))\n",
    "# print(longest_common_prefix2(strs3))"
   ]
  },
  {
   "cell_type": "code",
   "execution_count": 7,
   "metadata": {},
   "outputs": [],
   "source": [
    "class Solution(object):\n",
    "    def longest_common_prefix(self, strs):\n",
    "        \"\"\"分治法\n",
    "        \"\"\"\n",
    "        assert(isinstance(strs, list))\n",
    "        slen = len(strs)\n",
    "        if slen == 0:\n",
    "            return ''\n",
    "        return self._longest_common_prefix(strs, 0, slen - 1)\n",
    "    \n",
    "    def _longest_common_prefix(self, strs, l, r):\n",
    "        if l == r:\n",
    "            return strs[l]\n",
    "        mid = (l + r) // 2\n",
    "        left = self._longest_common_prefix(strs, l, mid)\n",
    "        right = self._longest_common_prefix(strs, mid + 1, r)\n",
    "        return self._common_prefix(left, right)\n",
    "    \n",
    "    def _common_prefix(self, left, right):\n",
    "        minval = min(len(left), len(right))\n",
    "        for i in range(minval):\n",
    "            if left[i] != right[i]:\n",
    "                return left[0:i]\n",
    "        return left[0:minval]"
   ]
  },
  {
   "cell_type": "code",
   "execution_count": 8,
   "metadata": {},
   "outputs": [
    {
     "name": "stdout",
     "output_type": "stream",
     "text": [
      "fl\n"
     ]
    }
   ],
   "source": [
    "testcases = [strs1, strs2, strs3]\n",
    "s = Solution()\n",
    "for tc in testcases:\n",
    "    val = s.longest_common_prefix(tc)\n",
    "    print(val)\n",
    "    break"
   ]
  },
  {
   "cell_type": "code",
   "execution_count": 9,
   "metadata": {},
   "outputs": [],
   "source": [
    "def longest_common_prefix4(strs):\n",
    "    \"\"\"二分查找法\n",
    "        复杂度分析：\n",
    "            最坏情况下，我们有 n 个长度为 m 的相同字符串。\n",
    "            时间复杂度：O(S*log(n))，其中 S 所有字符串中字符数量的总和。\n",
    "                算法一共会进行 log(n) 次迭代，每次一都会进行 S = m*n 次比较，所以总时间复杂度为 O(S*log(n))。\n",
    "            空间复杂度：O(1)，我们只需要使用常数级别的额外空间。\n",
    "    \"\"\"\n",
    "    assert(isinstance(strs, list))\n",
    "    if len(strs) == 0:\n",
    "        return ''\n",
    "    min_len = 2**31 - 1\n",
    "    for s in strs:\n",
    "        min_len = min(min_len, len(s))\n",
    "    low, high = 1, min_len\n",
    "    while low <= high:\n",
    "        middle = (low + high) // 2\n",
    "        if is_common_prefix(strs, middle):\n",
    "            low = middle + 1\n",
    "        else:\n",
    "            high = middle - 1\n",
    "    return strs[0][0:(low + high) // 2]\n",
    "\n",
    "def is_common_prefix(strs, mid):\n",
    "    s, l = strs[0][0:mid], len(strs)\n",
    "    for i in range(l):\n",
    "        if not strs[i].startswith(s):\n",
    "            return False\n",
    "    return True"
   ]
  },
  {
   "cell_type": "code",
   "execution_count": 10,
   "metadata": {},
   "outputs": [
    {
     "name": "stdout",
     "output_type": "stream",
     "text": [
      "fl\n",
      "\n",
      "ccc\n"
     ]
    }
   ],
   "source": [
    "print(longest_common_prefix4(strs1))\n",
    "print(longest_common_prefix4(strs2))\n",
    "print(longest_common_prefix4(strs3))"
   ]
  }
 ],
 "metadata": {
  "kernelspec": {
   "display_name": "Python 3",
   "language": "python",
   "name": "python3"
  },
  "language_info": {
   "codemirror_mode": {
    "name": "ipython",
    "version": 3
   },
   "file_extension": ".py",
   "mimetype": "text/x-python",
   "name": "python",
   "nbconvert_exporter": "python",
   "pygments_lexer": "ipython3",
   "version": "3.7.0"
  }
 },
 "nbformat": 4,
 "nbformat_minor": 2
}
