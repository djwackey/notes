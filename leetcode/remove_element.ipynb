{
 "cells": [
  {
   "cell_type": "code",
   "execution_count": 1,
   "metadata": {},
   "outputs": [],
   "source": [
    "# 27.移除元素\n",
    "#\n",
    "# 难度：简单\n",
    "#\n",
    "# 给你一个数组 nums 和一个值 val，你需要 原地 移除所有数值等于 val 的元素，并返回移除后数组的新长度。\n",
    "# 不要使用额外的数组空间，你必须仅使用 O(1) 额外空间并 原地 修改输入数组。\n",
    "# 元素的顺序可以改变。你不需要考虑数组中超出新长度后面的元素。\n",
    "#\n",
    "# 示例 1:\n",
    "# 给定 nums = [3,2,2,3], val = 3,\n",
    "# 函数应该返回新的长度 2, 并且 nums 中的前两个元素均为 2。\n",
    "# 你不需要考虑数组中超出新长度后面的元素。\n",
    "# \n",
    "# 示例 2:\n",
    "# 给定 nums = [0,1,2,2,3,0,4,2], val = 2,\n",
    "# 函数应该返回新的长度 5, 并且 nums 中的前五个元素为 0, 1, 3, 0, 4。\n",
    "# 注意这五个元素可为任意顺序。\n",
    "# 你不需要考虑数组中超出新长度后面的元素。\n",
    "#\n",
    "# 说明:\n",
    "# 为什么返回数值是整数，但输出的答案是数组呢?\n",
    "# 请注意，输入数组是以「引用」方式传递的，这意味着在函数里修改输入数组对于调用者是可见的。\n",
    "#\n",
    "# 你可以想象内部操作如下:\n",
    "#\n",
    "# // nums 是以“引用”方式传递的。也就是说，不对实参作任何拷贝\n",
    "# int len = removeElement(nums, val);\n",
    "#\n",
    "# // 在函数里修改输入数组对于调用者是可见的。\n",
    "# // 根据你的函数返回的长度, 它会打印出数组中 该长度范围内 的所有元素。\n",
    "# for (int i = 0; i < len; i++) {\n",
    "#     print(nums[i]);\n",
    "# }"
   ]
  },
  {
   "cell_type": "code",
   "execution_count": 2,
   "metadata": {},
   "outputs": [],
   "source": [
    "def remove_element1(nums, val):\n",
    "    \"\"\"双指针\n",
    "        复杂度分析：\n",
    "            时间复杂度：O(n)，假设数组总共有n个元素，i和j至少遍历2n步。\n",
    "            空间复杂度：O(1)\n",
    "    \"\"\"\n",
    "    i, n = 0, len(nums)\n",
    "    for j in range(n):\n",
    "        if nums[j] != val:\n",
    "            nums[i] = nums[j]\n",
    "            i += 1\n",
    "    return i"
   ]
  },
  {
   "cell_type": "code",
   "execution_count": 3,
   "metadata": {},
   "outputs": [
    {
     "name": "stdout",
     "output_type": "stream",
     "text": [
      "2 [2, 2, 2, 3]\n"
     ]
    }
   ],
   "source": [
    "nums, val = [3, 2, 2, 3], 3\n",
    "ret = remove_element1(nums, val)\n",
    "print(ret, nums)"
   ]
  },
  {
   "cell_type": "code",
   "execution_count": 4,
   "metadata": {},
   "outputs": [
    {
     "name": "stdout",
     "output_type": "stream",
     "text": [
      "5 [0, 1, 3, 0, 4, 0, 4, 2]\n"
     ]
    }
   ],
   "source": [
    "nums, val = [0, 1, 2, 2, 3, 0, 4, 2], 2\n",
    "ret = remove_element1(nums, val)\n",
    "print(ret, nums)"
   ]
  },
  {
   "cell_type": "code",
   "execution_count": 5,
   "metadata": {},
   "outputs": [],
   "source": [
    "def remove_element2(nums, val):\n",
    "    \"\"\"双指针（当删除的元素很少时）\n",
    "        复杂度分析：\n",
    "            时间复杂度：O(n)，i和n最多遍历n步。\n",
    "                在这个方法中，赋值操作的次数等于要删除的元素的数量。因此，如果要移除的元素很少，效率会更高。\n",
    "            空间复杂度：O(1)\n",
    "    \"\"\"\n",
    "    i, n = 0, len(nums)\n",
    "    while i < n:\n",
    "        if nums[i] == val:\n",
    "            nums[i] = nums[n - 1]\n",
    "            # reduce array size by one\n",
    "            n -= 1\n",
    "        else:\n",
    "            i += 1\n",
    "    return n"
   ]
  },
  {
   "cell_type": "code",
   "execution_count": 6,
   "metadata": {},
   "outputs": [
    {
     "name": "stdout",
     "output_type": "stream",
     "text": [
      "2 [2, 2, 2, 3]\n"
     ]
    }
   ],
   "source": [
    "nums, val = [3, 2, 2, 3], 3\n",
    "ret = remove_element2(nums, val)\n",
    "print(ret, nums)"
   ]
  },
  {
   "cell_type": "code",
   "execution_count": 7,
   "metadata": {},
   "outputs": [
    {
     "name": "stdout",
     "output_type": "stream",
     "text": [
      "5 [0, 1, 4, 0, 3, 0, 4, 2]\n"
     ]
    }
   ],
   "source": [
    "nums, val = [0, 1, 2, 2, 3, 0, 4, 2], 2\n",
    "ret = remove_element2(nums, val)\n",
    "print(ret, nums)"
   ]
  }
 ],
 "metadata": {
  "kernelspec": {
   "display_name": "Python 3",
   "language": "python",
   "name": "python3"
  },
  "language_info": {
   "codemirror_mode": {
    "name": "ipython",
    "version": 3
   },
   "file_extension": ".py",
   "mimetype": "text/x-python",
   "name": "python",
   "nbconvert_exporter": "python",
   "pygments_lexer": "ipython3",
   "version": "3.7.0"
  }
 },
 "nbformat": 4,
 "nbformat_minor": 2
}
