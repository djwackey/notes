{
 "cells": [
  {
   "cell_type": "code",
   "execution_count": 1,
   "metadata": {},
   "outputs": [],
   "source": [
    "# 189.旋转数组\n",
    "#\n",
    "# 难度：简单\n",
    "#\n",
    "# 给定一个数组，将数组中的元素向右移动 k 个位置，其中 k 是非负数。\n",
    "#\n",
    "# 示例 1:\n",
    "# 输入: [1,2,3,4,5,6,7] 和 k = 3\n",
    "# 输出: [5,6,7,1,2,3,4]\n",
    "# 解释:\n",
    "# 向右旋转 1 步: [7,1,2,3,4,5,6]\n",
    "# 向右旋转 2 步: [6,7,1,2,3,4,5]\n",
    "# 向右旋转 3 步: [5,6,7,1,2,3,4]\n",
    "#\n",
    "# 示例 2:\n",
    "# 输入: [-1,-100,3,99] 和 k = 2\n",
    "# 输出: [3,99,-1,-100]\n",
    "# 解释: \n",
    "# 向右旋转 1 步: [99,-1,-100,3]\n",
    "# 向右旋转 2 步: [3,99,-1,-100]\n",
    "#\n",
    "# 说明:\n",
    "# 尽可能想出更多的解决方案，至少有三种不同的方法可以解决这个问题。\n",
    "# 要求使用空间复杂度为 O(1) 的 原地 算法。"
   ]
  },
  {
   "cell_type": "code",
   "execution_count": 2,
   "metadata": {},
   "outputs": [],
   "source": [
    "class Solution:\n",
    "    def rotate(self, nums, k):\n",
    "        \"\"\"\n",
    "        Do not return anything, modify nums in-place instead.\n",
    "        \"\"\"\n",
    "        if len(nums) < 2:\n",
    "            return\n",
    "        nums[:] = nums[-k%len(nums):] + nums[:-k%len(nums)]"
   ]
  },
  {
   "cell_type": "code",
   "execution_count": 3,
   "metadata": {},
   "outputs": [
    {
     "name": "stdout",
     "output_type": "stream",
     "text": [
      "[5, 6, 7, 1, 2, 3, 4]\n"
     ]
    }
   ],
   "source": [
    "nums, k = [1,2,3,4,5,6,7], 3\n",
    "\n",
    "s = Solution()\n",
    "s.rotate(nums, k)\n",
    "print(nums)"
   ]
  }
 ],
 "metadata": {
  "kernelspec": {
   "display_name": "Python 3",
   "language": "python",
   "name": "python3"
  },
  "language_info": {
   "codemirror_mode": {
    "name": "ipython",
    "version": 3
   },
   "file_extension": ".py",
   "mimetype": "text/x-python",
   "name": "python",
   "nbconvert_exporter": "python",
   "pygments_lexer": "ipython3",
   "version": "3.7.0"
  }
 },
 "nbformat": 4,
 "nbformat_minor": 2
}
