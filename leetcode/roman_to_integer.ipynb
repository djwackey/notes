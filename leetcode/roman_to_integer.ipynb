{
 "cells": [
  {
   "cell_type": "code",
   "execution_count": 1,
   "metadata": {},
   "outputs": [],
   "source": [
    "# 13.罗马数字转整数\n",
    "#\n",
    "# 难度：简单\n",
    "#\n",
    "# 罗马数字包含以下七种字符: I， V， X， L，C，D 和 M。\n",
    "#\n",
    "# 字符          数值\n",
    "# I             1\n",
    "# V             5\n",
    "# X             10\n",
    "# L             50\n",
    "# C             100\n",
    "# D             500\n",
    "# M             1000\n",
    "# 例如，罗马数字2写做II，即为两个并列的1。12写做XII，即为X+II。27写做XXVII, 即为XX+V+II。\n",
    "#\n",
    "# 通常情况下，罗马数字中小的数字在大的数字的右边。\n",
    "# 但也存在特例，例如4不写做IIII，而是IV。数字1在数字5的左边，所表示的数等于大数5减小数1得到的数值4。\n",
    "# 同样地，数字9表示为IX。这个特殊的规则只适用于以下六种情况：\n",
    "#\n",
    "# I 可以放在 V (5) 和 X (10) 的左边，来表示 4 和 9。\n",
    "# X 可以放在 L (50) 和 C (100) 的左边，来表示 40 和 90。 \n",
    "# C 可以放在 D (500) 和 M (1000) 的左边，来表示 400 和 900。\n",
    "# 给定一个罗马数字，将其转换成整数。输入确保在 1 到 3999 的范围内。\n",
    "#\n",
    "# 示例 1:\n",
    "# 输入: \"III\"\n",
    "# 输出: 3\n",
    "#\n",
    "# 示例 2:\n",
    "# 输入: \"IV\"\n",
    "# 输出: 4\n",
    "#\n",
    "# 示例 3:\n",
    "# 输入: \"IX\"\n",
    "# 输出: 9\n",
    "#\n",
    "# 示例 4:\n",
    "# 输入: \"LVIII\"\n",
    "# 输出: 58\n",
    "# 解释: L = 50, V= 5, III = 3.\n",
    "#\n",
    "# 示例 5:\n",
    "# 输入: \"MCMXCIV\"\n",
    "# 输出: 1994\n",
    "# 解释: M = 1000, CM = 900, XC = 90, IV = 4."
   ]
  },
  {
   "cell_type": "code",
   "execution_count": 2,
   "metadata": {},
   "outputs": [],
   "source": [
    "class Solution(object):\n",
    "    def roman_to_integer(self, s):\n",
    "        total, prev = 0, self.get_val(s[0])\n",
    "        for c in s[1:]:\n",
    "            value = self.get_val(c)\n",
    "            if prev < value:\n",
    "                total -= prev\n",
    "            else:\n",
    "                total += prev\n",
    "            prev = value\n",
    "        total += prev\n",
    "        return total\n",
    "    \n",
    "    def get_val(self, c):\n",
    "        d = {\n",
    "            'I': 1,\n",
    "            'V': 5,\n",
    "            'X': 10,\n",
    "            'L': 50,\n",
    "            'C': 100,\n",
    "            'D': 500,\n",
    "            'M': 1000\n",
    "        }\n",
    "        return d.get(c, 0)"
   ]
  },
  {
   "cell_type": "code",
   "execution_count": 3,
   "metadata": {},
   "outputs": [
    {
     "name": "stdout",
     "output_type": "stream",
     "text": [
      "The roman \"D\" is 500.\n",
      "The roman \"IV\" is 4.\n",
      "The roman \"IX\" is 9.\n",
      "The roman \"III\" is 3.\n",
      "The roman \"LVIII\" is 58.\n",
      "The roman \"MCMXCIV\" is 1994.\n"
     ]
    }
   ],
   "source": [
    "testcases = [('D', 500), (\"IV\", 4), (\"IX\", 9), (\"III\", 3), (\"LVIII\", 58), (\"MCMXCIV\", 1994)]\n",
    "s = Solution()\n",
    "for tc, val in testcases:\n",
    "    assert(s.roman_to_integer(tc) == val)\n",
    "    print('The roman \\\"{}\\\" is {}.'.format(tc, val))"
   ]
  }
 ],
 "metadata": {
  "kernelspec": {
   "display_name": "Python 3",
   "language": "python",
   "name": "python3"
  },
  "language_info": {
   "codemirror_mode": {
    "name": "ipython",
    "version": 3
   },
   "file_extension": ".py",
   "mimetype": "text/x-python",
   "name": "python",
   "nbconvert_exporter": "python",
   "pygments_lexer": "ipython3",
   "version": "3.7.0"
  }
 },
 "nbformat": 4,
 "nbformat_minor": 2
}
