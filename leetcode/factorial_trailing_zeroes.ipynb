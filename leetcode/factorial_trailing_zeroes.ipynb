{
 "cells": [
  {
   "cell_type": "code",
   "execution_count": 1,
   "metadata": {},
   "outputs": [],
   "source": [
    "# 172.阶乘后的零\n",
    "#\n",
    "# 难度：简单\n",
    "#\n",
    "# 给定一个整数 n，返回 n! 结果尾数中零的数量。\n",
    "#\n",
    "# 示例 1:\n",
    "# 输入: 3\n",
    "# 输出: 0\n",
    "# 解释: 3! = 6, 尾数中没有零。\n",
    "#\n",
    "# 示例 2:\n",
    "# 输入: 5\n",
    "# 输出: 1\n",
    "# 解释: 5! = 120, 尾数中有 1 个零.\n",
    "# 说明: 你算法的时间复杂度应为 O(log n) 。"
   ]
  },
  {
   "cell_type": "code",
   "execution_count": 2,
   "metadata": {},
   "outputs": [],
   "source": [
    "class Solution:\n",
    "    def trailing_zeroes(self, n):\n",
    "        count = 0\n",
    "        while n > 0:\n",
    "            n //= 5\n",
    "            count += n\n",
    "        return count"
   ]
  },
  {
   "cell_type": "code",
   "execution_count": 3,
   "metadata": {},
   "outputs": [
    {
     "name": "stdout",
     "output_type": "stream",
     "text": [
      "3 => 0\n",
      "5 => 1\n"
     ]
    }
   ],
   "source": [
    "testcases = [\n",
    "    (3, 0),\n",
    "    (5, 1)\n",
    "]\n",
    "\n",
    "s = Solution()\n",
    "for n, v in testcases:\n",
    "    assert(s.trailing_zeroes(n) == v)\n",
    "    print('{} => {}'.format(n, v))"
   ]
  }
 ],
 "metadata": {
  "kernelspec": {
   "display_name": "Python 3",
   "language": "python",
   "name": "python3"
  },
  "language_info": {
   "codemirror_mode": {
    "name": "ipython",
    "version": 3
   },
   "file_extension": ".py",
   "mimetype": "text/x-python",
   "name": "python",
   "nbconvert_exporter": "python",
   "pygments_lexer": "ipython3",
   "version": "3.7.0"
  }
 },
 "nbformat": 4,
 "nbformat_minor": 2
}
