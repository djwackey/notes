{
 "cells": [
  {
   "cell_type": "code",
   "execution_count": 1,
   "metadata": {},
   "outputs": [],
   "source": [
    "# 219.存在重复元素 II\n",
    "#\n",
    "# 难度：简单\n",
    "#\n",
    "# 给定一个整数数组和一个整数 k，判断数组中是否存在两个不同的索引 i 和 j，使得 nums [i] = nums [j]，\n",
    "# 并且 i 和 j 的差的 绝对值 至多为 k。\n",
    "#\n",
    "# 示例 1:\n",
    "# 输入: nums = [1,2,3,1], k = 3\n",
    "# 输出: true\n",
    "#\n",
    "# 示例 2:\n",
    "# 输入: nums = [1,0,1,1], k = 1\n",
    "# 输出: true\n",
    "#\n",
    "# 示例 3:\n",
    "# 输入: nums = [1,2,3,1,2,3], k = 2\n",
    "# 输出: false"
   ]
  },
  {
   "cell_type": "code",
   "execution_count": 2,
   "metadata": {},
   "outputs": [],
   "source": [
    "class Solution1:\n",
    "    def contains_nearby_duplicate(self, nums, k):\n",
    "        length = len(nums)\n",
    "        for i in range(length):\n",
    "            origin = max(i - k, 0)\n",
    "            for j in range(origin, i):\n",
    "                if nums[i] == nums[j]:\n",
    "                    return True\n",
    "        return False"
   ]
  },
  {
   "cell_type": "code",
   "execution_count": 3,
   "metadata": {},
   "outputs": [
    {
     "name": "stdout",
     "output_type": "stream",
     "text": [
      "nums = [1, 2, 3, 1], k = 3 => True\n",
      "nums = [1, 0, 1, 1], k = 1 => True\n",
      "nums = [1, 2, 3, 1, 2, 3], k = 2 => False\n"
     ]
    }
   ],
   "source": [
    "testcases = [\n",
    "    ([1, 2, 3, 1], 3, True),\n",
    "    ([1, 0, 1, 1], 1, True),\n",
    "    ([1, 2, 3, 1, 2, 3], 2, False)\n",
    "]\n",
    "\n",
    "s = Solution1()\n",
    "for nums, k, value in testcases:\n",
    "    assert(s.contains_nearby_duplicate(nums, k) == value)\n",
    "    print('nums = {}, k = {} => {}'.format(nums, k, value))"
   ]
  },
  {
   "cell_type": "code",
   "execution_count": 4,
   "metadata": {},
   "outputs": [],
   "source": [
    "class Solution2:\n",
    "    \"\"\"方法二：哈希表\n",
    "        复杂度分析：\n",
    "            时间复杂度：O(n)，我们会做 n 次 搜索，删除，插入 操作，每次操作都耗费常数时间。\n",
    "            空间复杂度：O(min(n,k))，开辟的额外空间取决于散列表中存储的元素的个数，也就是滑动窗口的大小 O(min(n,k))。\n",
    "    \"\"\"\n",
    "    def contains_nearby_duplicate(self, nums, k):\n",
    "        d = {}\n",
    "        length = len(nums)\n",
    "        for i in range(length):\n",
    "            if nums[i] in d:\n",
    "                return True\n",
    "            d[nums[i]] = 0\n",
    "            if len(d) > k:\n",
    "                del d[nums[i - k]]\n",
    "        return False"
   ]
  },
  {
   "cell_type": "code",
   "execution_count": 5,
   "metadata": {},
   "outputs": [
    {
     "name": "stdout",
     "output_type": "stream",
     "text": [
      "nums = [1, 2, 3, 1], k = 3 => True\n",
      "nums = [1, 0, 1, 1], k = 1 => True\n",
      "nums = [1, 2, 3, 1, 2, 3], k = 2 => False\n"
     ]
    }
   ],
   "source": [
    "s = Solution2()\n",
    "for nums, k, value in testcases:\n",
    "    assert(s.contains_nearby_duplicate(nums, k) == value)\n",
    "    print('nums = {}, k = {} => {}'.format(nums, k, value))"
   ]
  }
 ],
 "metadata": {
  "kernelspec": {
   "display_name": "Python 3",
   "language": "python",
   "name": "python3"
  },
  "language_info": {
   "codemirror_mode": {
    "name": "ipython",
    "version": 3
   },
   "file_extension": ".py",
   "mimetype": "text/x-python",
   "name": "python",
   "nbconvert_exporter": "python",
   "pygments_lexer": "ipython3",
   "version": "3.7.0"
  }
 },
 "nbformat": 4,
 "nbformat_minor": 2
}
