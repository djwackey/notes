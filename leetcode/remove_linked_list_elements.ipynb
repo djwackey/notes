{
 "cells": [
  {
   "cell_type": "code",
   "execution_count": 1,
   "metadata": {},
   "outputs": [],
   "source": [
    "# 203.移除链表元素\n",
    "#\n",
    "# 难度：简单\n",
    "#\n",
    "# 删除链表中等于给定值 val 的所有节点。\n",
    "#\n",
    "# 示例:\n",
    "# 输入: 1->2->6->3->4->5->6, val = 6\n",
    "# 输出: 1->2->3->4->5"
   ]
  },
  {
   "cell_type": "code",
   "execution_count": 2,
   "metadata": {},
   "outputs": [],
   "source": [
    "# Definition for singly-linked list.\n",
    "class ListNode:\n",
    "    def __init__(self, x):\n",
    "        self.val = x\n",
    "        self.next = None"
   ]
  },
  {
   "cell_type": "code",
   "execution_count": 3,
   "metadata": {},
   "outputs": [],
   "source": [
    "class Solution:\n",
    "    def remove_elements(self, head: ListNode, val: int) -> ListNode:\n",
    "        sentinel = ListNode(0)\n",
    "        sentinel.next = head\n",
    "        \n",
    "        prev, curr = sentinel, head\n",
    "        while curr:\n",
    "            if curr.val == val:\n",
    "                prev.next = curr.next\n",
    "            else:\n",
    "                prev = curr\n",
    "            curr = curr.next\n",
    "        \n",
    "        return sentinel.next"
   ]
  }
 ],
 "metadata": {
  "kernelspec": {
   "display_name": "Python 3",
   "language": "python",
   "name": "python3"
  },
  "language_info": {
   "codemirror_mode": {
    "name": "ipython",
    "version": 3
   },
   "file_extension": ".py",
   "mimetype": "text/x-python",
   "name": "python",
   "nbconvert_exporter": "python",
   "pygments_lexer": "ipython3",
   "version": "3.7.0"
  }
 },
 "nbformat": 4,
 "nbformat_minor": 2
}
