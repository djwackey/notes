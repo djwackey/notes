{
 "cells": [
  {
   "cell_type": "code",
   "execution_count": 1,
   "metadata": {},
   "outputs": [],
   "source": [
    "# 66.加一\n",
    "#\n",
    "# 难度：简单\n",
    "#\n",
    "# 给定一个由整数组成的非空数组所表示的非负整数，在该数的基础上加一。\n",
    "#\n",
    "# 最高位数字存放在数组的首位， 数组中每个元素只存储单个数字。\n",
    "#\n",
    "# 你可以假设除了整数 0 之外，这个整数不会以零开头。\n",
    "#\n",
    "# 示例 1:\n",
    "# 输入: [1,2,3]\n",
    "# 输出: [1,2,4]\n",
    "# 解释: 输入数组表示数字 123。\n",
    "#\n",
    "# 示例 2:\n",
    "# 输入: [4,3,2,1]\n",
    "# 输出: [4,3,2,2]\n",
    "# 解释: 输入数组表示数字 4321。"
   ]
  },
  {
   "cell_type": "code",
   "execution_count": 2,
   "metadata": {},
   "outputs": [],
   "source": [
    "class Solution:\n",
    "    \"\"\"方法：数组遍历\n",
    "        复杂度分析：\n",
    "            时间复杂度：O(N)\n",
    "    \"\"\"\n",
    "    def plus_one(self, digits):\n",
    "        ndigits = len(digits)\n",
    "        for i in range(ndigits-1, -1, -1):\n",
    "            digits[i] += 1\n",
    "            digits[i] = digits[i] % 10\n",
    "            if digits[i] != 0:\n",
    "                return digits\n",
    "        digits = [0 for i in range(ndigits + 1)]\n",
    "        digits[0] = 1\n",
    "        return digits"
   ]
  },
  {
   "cell_type": "code",
   "execution_count": 3,
   "metadata": {},
   "outputs": [
    {
     "name": "stdout",
     "output_type": "stream",
     "text": [
      "[1, 2, 3] => [1, 2, 4]\n",
      "[1, 2, 9] => [1, 3, 0]\n",
      "[4, 3, 2, 1] => [4, 3, 2, 2]\n"
     ]
    }
   ],
   "source": [
    "testcases = [\n",
    "    ([1, 2, 3], [1, 2, 4]),\n",
    "    ([1, 2, 9], [1, 3, 0]),\n",
    "    ([4, 3, 2, 1], [4, 3, 2, 2])\n",
    "]\n",
    "s = Solution()\n",
    "for tc, val in testcases:\n",
    "    digits = tuple(tc)\n",
    "    assert(s.plus_one(tc) == val)\n",
    "    print('{} => {}'.format(list(digits), val))"
   ]
  }
 ],
 "metadata": {
  "kernelspec": {
   "display_name": "Python 3",
   "language": "python",
   "name": "python3"
  },
  "language_info": {
   "codemirror_mode": {
    "name": "ipython",
    "version": 3
   },
   "file_extension": ".py",
   "mimetype": "text/x-python",
   "name": "python",
   "nbconvert_exporter": "python",
   "pygments_lexer": "ipython3",
   "version": "3.7.0"
  }
 },
 "nbformat": 4,
 "nbformat_minor": 2
}
