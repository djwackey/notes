{
 "cells": [
  {
   "cell_type": "code",
   "execution_count": 1,
   "metadata": {},
   "outputs": [],
   "source": [
    "# 122.买卖股票的最佳时机 II\n",
    "#\n",
    "# 难度：简单\n",
    "#\n",
    "# 给定一个数组，它的第 i 个元素是一支给定股票第 i 天的价格。\n",
    "#\n",
    "# 设计一个算法来计算你所能获取的最大利润。你可以尽可能地完成更多的交易（多次买卖一支股票）。\n",
    "#\n",
    "# 注意：你不能同时参与多笔交易（你必须在再次购买前出售掉之前的股票）。\n",
    "#\n",
    "# 示例 1:\n",
    "# 输入: [7,1,5,3,6,4]\n",
    "# 输出: 7\n",
    "# 解释: 在第 2 天（股票价格 = 1）的时候买入，在第 3 天（股票价格 = 5）的时候卖出, 这笔交易所能获得利润 = 5-1 = 4 。\n",
    "#      随后，在第 4 天（股票价格 = 3）的时候买入，在第 5 天（股票价格 = 6）的时候卖出, 这笔交易所能获得利润 = 6-3 = 3 。\n",
    "#\n",
    "# 示例 2:\n",
    "# 输入: [1,2,3,4,5]\n",
    "# 输出: 4\n",
    "# 解释: 在第 1 天（股票价格 = 1）的时候买入，在第 5 天 （股票价格 = 5）的时候卖出, 这笔交易所能获得利润 = 5-1 = 4 。\n",
    "#      注意你不能在第 1 天和第 2 天接连购买股票，之后再将它们卖出。\n",
    "#      因为这样属于同时参与了多笔交易，你必须在再次购买前出售掉之前的股票。\n",
    "#\n",
    "# 示例 3:\n",
    "# 输入: [7,6,4,3,1]\n",
    "# 输出: 0\n",
    "# 解释: 在这种情况下, 没有交易完成, 所以最大利润为 0。"
   ]
  },
  {
   "cell_type": "code",
   "execution_count": 2,
   "metadata": {},
   "outputs": [],
   "source": [
    "class Solution1:\n",
    "    \"\"\"方法一：暴力法\n",
    "        复杂度分析：\n",
    "            时间复杂度：O(n^n)，调用递归函数 n^n 次。\n",
    "            空间复杂度：O(n)，递归的深度为 n。\n",
    "    \"\"\"\n",
    "    def max_profit(self, prices):\n",
    "        return self._calculate(prices, 0)\n",
    "\n",
    "    def _calculate(self, prices, n):\n",
    "        if n >= len(prices):\n",
    "            return 0\n",
    "        nmax = 0\n",
    "        for i in range(n, len(prices)):\n",
    "            max_profit = 0\n",
    "            for j in range(i + 1, len(prices)):\n",
    "                if prices[i] < prices[j]:\n",
    "                    profit = self._calculate(prices, j + 1) + prices[j] - prices[i]\n",
    "                    if profit > max_profit:\n",
    "                        max_profit = profit\n",
    "            if max_profit > nmax:\n",
    "                nmax = max_profit\n",
    "        return nmax"
   ]
  },
  {
   "cell_type": "code",
   "execution_count": 3,
   "metadata": {},
   "outputs": [
    {
     "name": "stdout",
     "output_type": "stream",
     "text": [
      "[7, 1, 5, 3, 6, 4] => 7\n",
      "[1, 2, 3, 4, 5] => 4\n",
      "[7, 6, 4, 3, 1] => 0\n"
     ]
    }
   ],
   "source": [
    "testcases = [\n",
    "    ([7,1,5,3,6,4], 7),\n",
    "    ([1,2,3,4,5], 4),\n",
    "    ([7,6,4,3,1], 0)\n",
    "]\n",
    "\n",
    "s = Solution1()\n",
    "for prices, result in testcases:\n",
    "    assert(s.max_profit(prices) == result)\n",
    "    print('{} => {}'.format(prices, result))"
   ]
  },
  {
   "cell_type": "code",
   "execution_count": 4,
   "metadata": {},
   "outputs": [],
   "source": [
    "class Solution2:\n",
    "    \"\"\"方法二：峰谷法\n",
    "        复杂度分析：\n",
    "            时间复杂度：O(n)。遍历一次。\n",
    "            空间复杂度：O(1)。需要常量的空间。\n",
    "    \"\"\"\n",
    "    def max_profit(self, prices):\n",
    "        i, max_profit, plen = 0, 0, len(prices)\n",
    "        if plen <= 0:\n",
    "            return 0\n",
    "        peak = valley = prices[0]\n",
    "        while i < plen - 1:\n",
    "            while i < plen - 1 and prices[i] >= prices[i + 1]:\n",
    "                i += 1 \n",
    "            valley = prices[i]\n",
    "            while i < plen - 1 and prices[i] <= prices[i + 1]:\n",
    "                i += 1\n",
    "            peak = prices[i]\n",
    "            max_profit += peak - valley\n",
    "        return max_profit"
   ]
  },
  {
   "cell_type": "code",
   "execution_count": 5,
   "metadata": {},
   "outputs": [
    {
     "name": "stdout",
     "output_type": "stream",
     "text": [
      "[7, 1, 5, 3, 6, 4] => 7\n",
      "[1, 2, 3, 4, 5] => 4\n",
      "[7, 6, 4, 3, 1] => 0\n"
     ]
    }
   ],
   "source": [
    "s = Solution2()\n",
    "for prices, result in testcases:\n",
    "    assert(s.max_profit(prices) == result)\n",
    "    print('{} => {}'.format(prices, result))"
   ]
  },
  {
   "cell_type": "code",
   "execution_count": 6,
   "metadata": {},
   "outputs": [],
   "source": [
    "class Solution3:\n",
    "    \"\"\"方法三：一次遍历\n",
    "        复杂度分析：\n",
    "            时间复杂度：O(n)，遍历一次。\n",
    "            空间复杂度：O(1)，需要常量的空间。\n",
    "    \"\"\"\n",
    "    def max_profit(self, prices):\n",
    "        nmax = 0\n",
    "        for i in range(1, len(prices)):\n",
    "            if prices[i] > prices[i - 1]:\n",
    "                nmax += prices[i] - prices[i - 1]\n",
    "        return nmax"
   ]
  },
  {
   "cell_type": "code",
   "execution_count": 7,
   "metadata": {},
   "outputs": [
    {
     "name": "stdout",
     "output_type": "stream",
     "text": [
      "[7, 1, 5, 3, 6, 4] => 7\n",
      "[1, 2, 3, 4, 5] => 4\n",
      "[7, 6, 4, 3, 1] => 0\n"
     ]
    }
   ],
   "source": [
    "s = Solution3()\n",
    "for prices, result in testcases:\n",
    "    assert(s.max_profit(prices) == result)\n",
    "    print('{} => {}'.format(prices, result))"
   ]
  }
 ],
 "metadata": {
  "kernelspec": {
   "display_name": "Python 3",
   "language": "python",
   "name": "python3"
  },
  "language_info": {
   "codemirror_mode": {
    "name": "ipython",
    "version": 3
   },
   "file_extension": ".py",
   "mimetype": "text/x-python",
   "name": "python",
   "nbconvert_exporter": "python",
   "pygments_lexer": "ipython3",
   "version": "3.7.0"
  }
 },
 "nbformat": 4,
 "nbformat_minor": 2
}
