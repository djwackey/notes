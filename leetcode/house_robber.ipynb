{
 "cells": [
  {
   "cell_type": "code",
   "execution_count": 1,
   "metadata": {},
   "outputs": [],
   "source": [
    "# 198.打家劫舍\n",
    "#\n",
    "# 难度：简单\n",
    "#\n",
    "# 你是一个专业的小偷，计划偷窃沿街的房屋。每间房内都藏有一定的现金，影响你偷窃的唯一制约因素就是相邻的房屋装有相互连通的防盗系统，\n",
    "# 如果两间相邻的房屋在同一晚上被小偷闯入，系统会自动报警。\n",
    "#\n",
    "# 给定一个代表每个房屋存放金额的非负整数数组，计算你在不触动警报装置的情况下，能够偷窃到的最高金额。\n",
    "#\n",
    "# 示例 1:\n",
    "# 输入: [1,2,3,1]\n",
    "# 输出: 4\n",
    "# 解释: 偷窃 1 号房屋 (金额 = 1) ，然后偷窃 3 号房屋 (金额 = 3)。\n",
    "#      偷窃到的最高金额 = 1 + 3 = 4 。\n",
    "#\n",
    "# 示例 2:\n",
    "# 输入: [2,7,9,3,1]\n",
    "# 输出: 12\n",
    "# 解释: 偷窃 1 号房屋 (金额 = 2), 偷窃 3 号房屋 (金额 = 9)，接着偷窃 5 号房屋 (金额 = 1)。\n",
    "#      偷窃到的最高金额 = 2 + 9 + 1 = 12 。"
   ]
  },
  {
   "cell_type": "code",
   "execution_count": 2,
   "metadata": {},
   "outputs": [],
   "source": [
    "class Solution:\n",
    "    \"\"\"方法一：动态规划\n",
    "        算法复杂度：\n",
    "            时间复杂度：O(n)。其中 n 为房子的数量。\n",
    "            空间复杂度：O(1)。\n",
    "    \"\"\"\n",
    "    def rob(self, nums):\n",
    "        prev, curr = 0, 0\n",
    "        for i in nums:\n",
    "            prev, curr = curr, max(curr, prev + i)\n",
    "        return curr"
   ]
  },
  {
   "cell_type": "code",
   "execution_count": 3,
   "metadata": {},
   "outputs": [
    {
     "data": {
      "text/plain": [
       "12"
      ]
     },
     "execution_count": 4,
     "metadata": {},
     "output_type": "execute_result"
    }
   ],
   "source": [
    "nums = [2, 7, 9, 3, 1]\n",
    "\n",
    "s = Solution()\n",
    "s.rob(nums)"
   ]
  }
 ],
 "metadata": {
  "kernelspec": {
   "display_name": "Python 3",
   "language": "python",
   "name": "python3"
  },
  "language_info": {
   "codemirror_mode": {
    "name": "ipython",
    "version": 3
   },
   "file_extension": ".py",
   "mimetype": "text/x-python",
   "name": "python",
   "nbconvert_exporter": "python",
   "pygments_lexer": "ipython3",
   "version": "3.7.0"
  }
 },
 "nbformat": 4,
 "nbformat_minor": 2
}
