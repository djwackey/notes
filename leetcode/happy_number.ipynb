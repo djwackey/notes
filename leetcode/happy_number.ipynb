{
 "cells": [
  {
   "cell_type": "code",
   "execution_count": 1,
   "metadata": {},
   "outputs": [],
   "source": [
    "# 202.快乐数\n",
    "#\n",
    "# 难度：简单\n",
    "#\n",
    "# 编写一个算法来判断一个数 n 是不是快乐数。\n",
    "#\n",
    "#「快乐数」定义为：对于一个正整数，每一次将该数替换为它每个位置上的数字的平方和，然后重复这个过程直到这个数变为 1，\n",
    "# 也可能是 无限循环 但始终变不到1。如果 可以变为1，那么这个数就是快乐数。\n",
    "#\n",
    "# 如果 n 是快乐数就返回 True ；不是，则返回 False 。\n",
    "#\n",
    "# 示例：\n",
    "# 输入：19\n",
    "# 输出：true\n",
    "# 解释：\n",
    "# 1² + 9² = 82\n",
    "# 8² + 2² = 68\n",
    "# 6² + 8² = 100\n",
    "# 1² + 0² + 0² = 1"
   ]
  },
  {
   "cell_type": "code",
   "execution_count": 2,
   "metadata": {},
   "outputs": [],
   "source": [
    "class Solution1:\n",
    "    \"\"\"方法一：用 HashSet 检测循环\n",
    "    \"\"\"\n",
    "    def is_happy(self, n):\n",
    "        def get_next(n):\n",
    "            total_sum = 0\n",
    "            while n > 0:\n",
    "                n, digit = divmod(n, 10)\n",
    "                total_sum += digit ** 2\n",
    "            return total_sum\n",
    "    \n",
    "        seen = set()\n",
    "        while n != 1 and n not in seen:\n",
    "            seen.add(n)\n",
    "            n = get_next(n)\n",
    "\n",
    "        return n == 1"
   ]
  },
  {
   "cell_type": "code",
   "execution_count": 3,
   "metadata": {},
   "outputs": [
    {
     "data": {
      "text/plain": [
       "True"
      ]
     },
     "execution_count": 4,
     "metadata": {},
     "output_type": "execute_result"
    }
   ],
   "source": [
    "n = 19\n",
    "\n",
    "s = Solution1()\n",
    "s.is_happy(n)"
   ]
  },
  {
   "cell_type": "code",
   "execution_count": 5,
   "metadata": {},
   "outputs": [],
   "source": [
    "class Solution2:\n",
    "    \"\"\"方法二：弗洛伊德循环查找算法\n",
    "    \"\"\"\n",
    "    def is_happy(self, n):  \n",
    "        def get_next(number):\n",
    "            total_sum = 0\n",
    "            while number > 0:\n",
    "                number, digit = divmod(number, 10)\n",
    "                total_sum += digit ** 2\n",
    "            return total_sum\n",
    "\n",
    "        slow_runner = n\n",
    "        fast_runner = get_next(n)\n",
    "        while fast_runner != 1 and slow_runner != fast_runner:\n",
    "            slow_runner = get_next(slow_runner)\n",
    "            fast_runner = get_next(get_next(fast_runner))\n",
    "        return fast_runner == 1"
   ]
  },
  {
   "cell_type": "code",
   "execution_count": 6,
   "metadata": {},
   "outputs": [
    {
     "data": {
      "text/plain": [
       "True"
      ]
     },
     "execution_count": 7,
     "metadata": {},
     "output_type": "execute_result"
    }
   ],
   "source": [
    "s = Solution2()\n",
    "s.is_happy(n)"
   ]
  },
  {
   "cell_type": "code",
   "execution_count": 8,
   "metadata": {},
   "outputs": [],
   "source": [
    "class Solution3:\n",
    "    \"\"\"方法三：硬编码唯一循环\n",
    "        复杂度分析：\n",
    "            时间复杂度：O(logn)。\n",
    "            空间复杂度：O(1)，我们没有保留我们所遇到的数字的历史记录。硬编码哈希集的大小是固定的。\n",
    "    \"\"\"\n",
    "    def is_happy(self, n):\n",
    "        cycle_members = {4, 16, 37, 58, 89, 145, 42, 20}\n",
    "\n",
    "        def get_next(number):\n",
    "            total_sum = 0\n",
    "            while number > 0:\n",
    "                number, digit = divmod(number, 10)\n",
    "                total_sum += digit ** 2\n",
    "            return total_sum\n",
    "\n",
    "        while n != 1 and n not in cycle_members:\n",
    "            n = get_next(n)\n",
    "\n",
    "        return n == 1"
   ]
  },
  {
   "cell_type": "code",
   "execution_count": 9,
   "metadata": {},
   "outputs": [
    {
     "data": {
      "text/plain": [
       "True"
      ]
     },
     "execution_count": 10,
     "metadata": {},
     "output_type": "execute_result"
    }
   ],
   "source": [
    "s = Solution3()\n",
    "s.is_happy(n)"
   ]
  }
 ],
 "metadata": {
  "kernelspec": {
   "display_name": "Python 3",
   "language": "python",
   "name": "python3"
  },
  "language_info": {
   "codemirror_mode": {
    "name": "ipython",
    "version": 3
   },
   "file_extension": ".py",
   "mimetype": "text/x-python",
   "name": "python",
   "nbconvert_exporter": "python",
   "pygments_lexer": "ipython3",
   "version": "3.7.0"
  }
 },
 "nbformat": 4,
 "nbformat_minor": 2
}
