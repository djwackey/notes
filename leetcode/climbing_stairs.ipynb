{
 "cells": [
  {
   "cell_type": "code",
   "execution_count": 1,
   "metadata": {},
   "outputs": [],
   "source": [
    "# 70.爬楼梯\n",
    "#\n",
    "# 难度：简单\n",
    "#\n",
    "# 假设你正在爬楼梯。需要 n 阶你才能到达楼顶。\n",
    "#\n",
    "# 每次你可以爬 1 或 2 个台阶。你有多少种不同的方法可以爬到楼顶呢？\n",
    "#\n",
    "# 注意：给定 n 是一个正整数。\n",
    "#\n",
    "# 示例 1：\n",
    "# 输入： 2\n",
    "# 输出： 2\n",
    "# 解释： 有两种方法可以爬到楼顶。\n",
    "# 1.  1 阶 + 1 阶\n",
    "# 2.  2 阶\n",
    "#\n",
    "# 示例 2：\n",
    "# 输入： 3\n",
    "# 输出： 3\n",
    "# 解释： 有三种方法可以爬到楼顶。\n",
    "# 1.  1 阶 + 1 阶 + 1 阶\n",
    "# 2.  1 阶 + 2 阶\n",
    "# 3.  2 阶 + 1 阶"
   ]
  },
  {
   "cell_type": "code",
   "execution_count": 2,
   "metadata": {},
   "outputs": [],
   "source": [
    "class Solution1:\n",
    "    \"\"\"方法一：暴力法\n",
    "        复杂度分析：\n",
    "            时间复杂度：O(2^n)，树形递归的大小为 2^n。\n",
    "            空间复杂度：O(n)\n",
    "    \"\"\"\n",
    "    def climb_stairs(self, n):\n",
    "        return self._climb_stairs(0, n)\n",
    "    \n",
    "    def _climb_stairs(self, i, n):\n",
    "        if i > n:\n",
    "            return 0\n",
    "        if i == n:\n",
    "            return 1\n",
    "        return self._climb_stairs(i + 1, n) + self._climb_stairs(i + 2, n)"
   ]
  },
  {
   "cell_type": "code",
   "execution_count": 3,
   "metadata": {},
   "outputs": [
    {
     "name": "stdout",
     "output_type": "stream",
     "text": [
      "2阶楼梯 => 2种方法\n",
      "3阶楼梯 => 3种方法\n"
     ]
    }
   ],
   "source": [
    "testcases = [\n",
    "    (2, 2),\n",
    "    (3, 3)\n",
    "]\n",
    "\n",
    "s = Solution1()\n",
    "for tc, val in testcases:\n",
    "    assert(s.climb_stairs(tc) == val)\n",
    "    print('{}阶楼梯 => {}种方法'.format(tc, val))"
   ]
  },
  {
   "cell_type": "code",
   "execution_count": 4,
   "metadata": {},
   "outputs": [],
   "source": [
    "class Solution2:\n",
    "    \"\"\"记忆化递归\n",
    "        复杂度分析：\n",
    "            时间复杂度：O(n)，树形递归的大小可以达到 n。\n",
    "            空间复杂度：O(n)，递归树的深度可以达到 n。\n",
    "    \"\"\"\n",
    "    def climb_stairs(self, n):\n",
    "        memo = [0 for _ in range(n + 1)]\n",
    "        ret = self._climb_stairs(0, n, memo)\n",
    "        return ret\n",
    "    \n",
    "    def _climb_stairs(self, i, n, memo):\n",
    "        if i > n:\n",
    "            return 0\n",
    "        if i == n:\n",
    "            return 1\n",
    "        if memo[i] > 0:\n",
    "            return memo[i]\n",
    "        memo[i] = self._climb_stairs(i + 1, n, memo) + self._climb_stairs(i + 2, n, memo)\n",
    "        return memo[i]"
   ]
  },
  {
   "cell_type": "code",
   "execution_count": 5,
   "metadata": {},
   "outputs": [
    {
     "name": "stdout",
     "output_type": "stream",
     "text": [
      "2阶楼梯 => 2种方法\n",
      "3阶楼梯 => 3种方法\n"
     ]
    }
   ],
   "source": [
    "s = Solution2()\n",
    "for tc, val in testcases:\n",
    "    assert(s.climb_stairs(tc) == val)\n",
    "    print('{}阶楼梯 => {}种方法'.format(tc, val))"
   ]
  },
  {
   "cell_type": "code",
   "execution_count": 6,
   "metadata": {},
   "outputs": [],
   "source": [
    "class Solution3:\n",
    "    \"\"\"方法三：动态规划\n",
    "        复杂度分析：\n",
    "            时间复杂度：单循环到n。\n",
    "            空间复杂度：dp数组用了n的空间。\n",
    "    \"\"\"\n",
    "    def climb_stairs(self, n):\n",
    "        if n == 1:\n",
    "            return 1\n",
    "        dp = [0 for _ in range(n + 1)]\n",
    "        dp[1] = 1\n",
    "        dp[2] = 2\n",
    "        for i in range(3, n + 1):\n",
    "            dp[i] = dp[i - 1] + dp[i - 2]\n",
    "        return dp[n]"
   ]
  },
  {
   "cell_type": "code",
   "execution_count": 7,
   "metadata": {},
   "outputs": [
    {
     "name": "stdout",
     "output_type": "stream",
     "text": [
      "2阶楼梯 => 2种方法\n",
      "3阶楼梯 => 3种方法\n"
     ]
    }
   ],
   "source": [
    "s = Solution3()\n",
    "for tc, val in testcases:\n",
    "    assert(s.climb_stairs(tc) == val)\n",
    "    print('{}阶楼梯 => {}种方法'.format(tc, val))"
   ]
  },
  {
   "cell_type": "code",
   "execution_count": 8,
   "metadata": {},
   "outputs": [],
   "source": [
    "class Solution4:\n",
    "    \"\"\"方法四：斐波那契数\n",
    "        复杂度分析：\n",
    "            时间复杂度：O(n)，单循环到n，需要计算第n个斐波那契数。\n",
    "            空间复杂度：O(1)，使用常量级空间。\n",
    "    \"\"\"\n",
    "    def climb_stairs(self, n):\n",
    "        if n == 1:\n",
    "            return 1\n",
    "        first, second = 1, 2\n",
    "        for i in range(3, n + 1):\n",
    "            third = first + second\n",
    "            first = second\n",
    "            second = third\n",
    "        return second"
   ]
  },
  {
   "cell_type": "code",
   "execution_count": 9,
   "metadata": {},
   "outputs": [
    {
     "name": "stdout",
     "output_type": "stream",
     "text": [
      "2阶楼梯 => 2种方法\n",
      "3阶楼梯 => 3种方法\n"
     ]
    }
   ],
   "source": [
    "s = Solution4()\n",
    "for tc, val in testcases:\n",
    "    assert(s.climb_stairs(tc) == val)\n",
    "    print('{}阶楼梯 => {}种方法'.format(tc, val))"
   ]
  },
  {
   "cell_type": "code",
   "execution_count": 10,
   "metadata": {},
   "outputs": [],
   "source": [
    "class Solution5:\n",
    "    \"\"\"方法五：Binets方法\n",
    "        复杂度分析：\n",
    "            时间复杂度：O(log(n))，遍历log(n)位。\n",
    "            空间复杂度：O(1)，使用常量级空间。\n",
    "    \"\"\"\n",
    "    def climb_stairs(self, n):\n",
    "        q = [[1, 1], [1, 0]]\n",
    "        res = self.pow(q, n);\n",
    "        return res[0][0]\n",
    "\n",
    "    def pow(self, a, n):\n",
    "        ret = [[1, 0], [0, 1]]\n",
    "        while n > 0:\n",
    "            if (n & 1) == 1:\n",
    "                ret = self.multiply(ret, a)\n",
    "            n >>= 1\n",
    "            a = self.multiply(a, a)\n",
    "        return ret\n",
    "    \n",
    "    def multiply(self, a, b):\n",
    "        c = [[0 for _ in range(2)] for _ in range(2)]\n",
    "        for i in range(2):\n",
    "            for j in range(2):\n",
    "                c[i][j] = a[i][0] * b[0][j] + a[i][1] * b[1][j]\n",
    "        return c"
   ]
  },
  {
   "cell_type": "code",
   "execution_count": 11,
   "metadata": {},
   "outputs": [
    {
     "name": "stdout",
     "output_type": "stream",
     "text": [
      "2阶楼梯 => 2种方法\n",
      "3阶楼梯 => 3种方法\n"
     ]
    }
   ],
   "source": [
    "s = Solution5()\n",
    "for tc, val in testcases:\n",
    "    assert(s.climb_stairs(tc) == val)\n",
    "    print('{}阶楼梯 => {}种方法'.format(tc, val))"
   ]
  },
  {
   "cell_type": "code",
   "execution_count": 12,
   "metadata": {},
   "outputs": [],
   "source": [
    "import math\n",
    "class Solution6:\n",
    "    \"\"\"方法六：斐波那契公式\n",
    "        复杂度分析：\n",
    "            时间复杂度：O(log(n))，pow方法将会用去log(n)的时间。\n",
    "            空间复杂度：O(1)，使用常量级空间。\n",
    "    \"\"\"\n",
    "    def climb_stairs(self, n):\n",
    "        sqrt5 = math.sqrt(5)\n",
    "        fibn = math.pow((1 + sqrt5) / 2, n + 1) - math.pow((1 - sqrt5) / 2, n + 1)\n",
    "        return fibn // sqrt5"
   ]
  },
  {
   "cell_type": "code",
   "execution_count": 13,
   "metadata": {},
   "outputs": [
    {
     "name": "stdout",
     "output_type": "stream",
     "text": [
      "2阶楼梯 => 2种方法\n",
      "3阶楼梯 => 3种方法\n"
     ]
    }
   ],
   "source": [
    "s = Solution6()\n",
    "for tc, val in testcases:\n",
    "    assert(s.climb_stairs(tc) == val)\n",
    "    print('{}阶楼梯 => {}种方法'.format(tc, val))"
   ]
  }
 ],
 "metadata": {
  "kernelspec": {
   "display_name": "Python 3",
   "language": "python",
   "name": "python3"
  },
  "language_info": {
   "codemirror_mode": {
    "name": "ipython",
    "version": 3
   },
   "file_extension": ".py",
   "mimetype": "text/x-python",
   "name": "python",
   "nbconvert_exporter": "python",
   "pygments_lexer": "ipython3",
   "version": "3.7.0"
  }
 },
 "nbformat": 4,
 "nbformat_minor": 2
}
