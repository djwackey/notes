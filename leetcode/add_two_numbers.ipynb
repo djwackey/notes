{
 "cells": [
  {
   "cell_type": "code",
   "execution_count": null,
   "metadata": {},
   "outputs": [],
   "source": [
    "# 2.两数相加\n",
    "#\n",
    "# 难度：中\n",
    "#\n",
    "# 给出两个 非空 的链表用来表示两个非负的整数。其中，它们各自的位数是按照 逆序 的方式存储的，并且它们的每个节点只能存储 一位 数字。\n",
    "#\n",
    "# 如果，我们将这两个数相加起来，则会返回一个新的链表来表示它们的和。\n",
    "#\n",
    "# 您可以假设除了数字 0 之外，这两个数都不会以 0 开头。\n",
    "\n",
    "# 示例：\n",
    "\n",
    "# 输入：(2 -> 4 -> 3) + (5 -> 6 -> 4)\n",
    "# 输出：7 -> 0 -> 8\n",
    "# 原因：342 + 465 = 807"
   ]
  },
  {
   "cell_type": "code",
   "execution_count": 23,
   "metadata": {},
   "outputs": [],
   "source": [
    "# Definition for singly-linked list.\n",
    "class ListNode:\n",
    "    def __init__(self, x):\n",
    "        self.val = x\n",
    "        self.next = None"
   ]
  },
  {
   "cell_type": "code",
   "execution_count": 24,
   "metadata": {},
   "outputs": [],
   "source": [
    "def add_two_numbers(l1, l2):\n",
    "    return []"
   ]
  },
  {
   "cell_type": "code",
   "execution_count": 36,
   "metadata": {},
   "outputs": [],
   "source": [
    "def make_linked_list(values):\n",
    "    n = None\n",
    "    for v in values:\n",
    "        if n is None:\n",
    "            n = ListNode(v)\n",
    "            t = n\n",
    "        else:\n",
    "            t.next = ListNode(v)\n",
    "            t = t.next\n",
    "    return n"
   ]
  },
  {
   "cell_type": "code",
   "execution_count": 45,
   "metadata": {},
   "outputs": [],
   "source": [
    "def print_linked_list(l):\n",
    "    assert isinstance(l, ListNode)\n",
    "    while l is not None:\n",
    "        print(l, l.__dict__)\n",
    "        l = l.next"
   ]
  },
  {
   "cell_type": "code",
   "execution_count": 51,
   "metadata": {},
   "outputs": [
    {
     "name": "stdout",
     "output_type": "stream",
     "text": [
      "<__main__.ListNode object at 0x7fa57c1880f0> {'val': 2, 'next': <__main__.ListNode object at 0x7fa57c1880b8>}\n",
      "<__main__.ListNode object at 0x7fa57c1880b8> {'val': 4, 'next': <__main__.ListNode object at 0x7fa57c188358>}\n",
      "<__main__.ListNode object at 0x7fa57c188358> {'val': 3, 'next': None}\n",
      "----------------------------------------------------------------------------------------------------\n",
      "<__main__.ListNode object at 0x7fa57c188208> {'val': 5, 'next': <__main__.ListNode object at 0x7fa57c188320>}\n",
      "<__main__.ListNode object at 0x7fa57c188320> {'val': 6, 'next': <__main__.ListNode object at 0x7fa57c188128>}\n",
      "<__main__.ListNode object at 0x7fa57c188128> {'val': 4, 'next': None}\n"
     ]
    }
   ],
   "source": [
    "vs1 = [2, 4, 3]\n",
    "vs2 = [5, 6, 4]\n",
    "l1 = make_linked_list(vs1)\n",
    "l2 = make_linked_list(vs2)\n",
    "print_linked_list(l1)\n",
    "print('-' * 100)\n",
    "print_linked_list(l2)"
   ]
  },
  {
   "cell_type": "code",
   "execution_count": null,
   "metadata": {},
   "outputs": [],
   "source": []
  }
 ],
 "metadata": {
  "kernelspec": {
   "display_name": "Python 3",
   "language": "python",
   "name": "python3"
  },
  "language_info": {
   "codemirror_mode": {
    "name": "ipython",
    "version": 3
   },
   "file_extension": ".py",
   "mimetype": "text/x-python",
   "name": "python",
   "nbconvert_exporter": "python",
   "pygments_lexer": "ipython3",
   "version": "3.7.0"
  }
 },
 "nbformat": 4,
 "nbformat_minor": 2
}
