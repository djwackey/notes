{
 "cells": [
  {
   "cell_type": "code",
   "execution_count": null,
   "metadata": {},
   "outputs": [],
   "source": [
    "# 2.两数相加\n",
    "#\n",
    "# 难度：中\n",
    "#\n",
    "# 给出两个 非空 的链表用来表示两个非负的整数。其中，它们各自的位数是按照 逆序 的方式存储的，并且它们的每个节点只能存储 一位 数字。\n",
    "#\n",
    "# 如果，我们将这两个数相加起来，则会返回一个新的链表来表示它们的和。\n",
    "#\n",
    "# 您可以假设除了数字 0 之外，这两个数都不会以 0 开头。\n",
    "\n",
    "# 示例：\n",
    "\n",
    "# 输入：(2 -> 4 -> 3) + (5 -> 6 -> 4)\n",
    "# 输出：7 -> 0 -> 8\n",
    "# 原因：342 + 465 = 807"
   ]
  },
  {
   "cell_type": "code",
   "execution_count": 1,
   "metadata": {},
   "outputs": [],
   "source": [
    "# Definition for singly-linked list.\n",
    "class ListNode:\n",
    "    def __init__(self, x):\n",
    "        self.val = x\n",
    "        self.next = None"
   ]
  },
  {
   "cell_type": "code",
   "execution_count": 24,
   "metadata": {},
   "outputs": [],
   "source": [
    "def add_two_numbers(l1, l2):\n",
    "    \"\"\"两数相加\n",
    "        复杂度分析：\n",
    "            时间复杂度：O(max(m,n))，假设 m 和 n 分别表示 l1 和 l2 的长度，上面的算法最多重复max(m,n)次。\n",
    "            空间复杂度：O(max(m,n))，新列表的长度最多为max(m,n)+1。\n",
    "    \"\"\"\n",
    "    assert(l1 is None or isinstance(l1, ListNode))\n",
    "    assert(l2 is None or isinstance(l2, ListNode))\n",
    "    p, q, carry = l1, l2, 0\n",
    "    curr = dummy_head = ListNode(0)\n",
    "    while p != None or q != None:\n",
    "        x = p.val if p != None else 0\n",
    "        y = q.val if q != None else 0\n",
    "        s = carry + x + y\n",
    "        carry = s // 10\n",
    "        curr.next = ListNode(s % 10)\n",
    "        curr = curr.next\n",
    "        if p != None:\n",
    "            p = p.next\n",
    "        if q != None:\n",
    "            q = q.next\n",
    "    if carry > 0:\n",
    "        curr.next = ListNode(carry)\n",
    "    return dummy_head.next"
   ]
  },
  {
   "cell_type": "code",
   "execution_count": 36,
   "metadata": {},
   "outputs": [],
   "source": [
    "def make_linked_list(values):\n",
    "    \"\"\"转换列表到链表\n",
    "    \"\"\"\n",
    "    n = None\n",
    "    for v in values:\n",
    "        if n is None:\n",
    "            n = ListNode(v)\n",
    "            t = n\n",
    "        else:\n",
    "            t.next = ListNode(v)\n",
    "            t = t.next\n",
    "    return n"
   ]
  },
  {
   "cell_type": "code",
   "execution_count": 45,
   "metadata": {},
   "outputs": [],
   "source": [
    "def print_linked_list(l):\n",
    "    \"\"\"打印链表\n",
    "    \"\"\"\n",
    "    assert(l is None or isinstance(l, ListNode))\n",
    "    while l is not None:\n",
    "        print(l, l.__dict__)\n",
    "        l = l.next"
   ]
  },
  {
   "cell_type": "code",
   "execution_count": 220,
   "metadata": {},
   "outputs": [],
   "source": [
    "def show_two_numbers(l1, l2):\n",
    "    \"\"\"显示两数相加过程\n",
    "    \"\"\"\n",
    "    print_linked_list(l1)\n",
    "    print('-' * 100)\n",
    "    print_linked_list(l2)\n",
    "    print('-' * 100)\n",
    "    result = add_two_numbers(l1, l2)\n",
    "    print_linked_list(result)\n",
    "    return result"
   ]
  },
  {
   "cell_type": "code",
   "execution_count": 221,
   "metadata": {},
   "outputs": [
    {
     "name": "stdout",
     "output_type": "stream",
     "text": [
      "<__main__.ListNode object at 0x7fa41832d6a0> {'val': 2, 'next': <__main__.ListNode object at 0x7fa41832d630>}\n",
      "<__main__.ListNode object at 0x7fa41832d630> {'val': 4, 'next': <__main__.ListNode object at 0x7fa41832d470>}\n",
      "<__main__.ListNode object at 0x7fa41832d470> {'val': 3, 'next': None}\n",
      "----------------------------------------------------------------------------------------------------\n",
      "<__main__.ListNode object at 0x7fa41832d550> {'val': 5, 'next': <__main__.ListNode object at 0x7fa41832df98>}\n",
      "<__main__.ListNode object at 0x7fa41832df98> {'val': 6, 'next': <__main__.ListNode object at 0x7fa418378f98>}\n",
      "<__main__.ListNode object at 0x7fa418378f98> {'val': 4, 'next': None}\n",
      "----------------------------------------------------------------------------------------------------\n",
      "<__main__.ListNode object at 0x7fa41839ad30> {'val': 7, 'next': <__main__.ListNode object at 0x7fa418378a20>}\n",
      "<__main__.ListNode object at 0x7fa418378a20> {'val': 0, 'next': <__main__.ListNode object at 0x7fa4183e7160>}\n",
      "<__main__.ListNode object at 0x7fa4183e7160> {'val': 8, 'next': None}\n",
      "\n",
      "\n",
      "<__main__.ListNode object at 0x7fa41832d208> {'val': 0, 'next': <__main__.ListNode object at 0x7fa41832d4e0>}\n",
      "<__main__.ListNode object at 0x7fa41832d4e0> {'val': 1, 'next': None}\n",
      "----------------------------------------------------------------------------------------------------\n",
      "<__main__.ListNode object at 0x7fa41832d630> {'val': 0, 'next': <__main__.ListNode object at 0x7fa41832d470>}\n",
      "<__main__.ListNode object at 0x7fa41832d470> {'val': 1, 'next': <__main__.ListNode object at 0x7fa41832d2b0>}\n",
      "<__main__.ListNode object at 0x7fa41832d2b0> {'val': 2, 'next': None}\n",
      "----------------------------------------------------------------------------------------------------\n",
      "<__main__.ListNode object at 0x7fa41832d550> {'val': 0, 'next': <__main__.ListNode object at 0x7fa41832df98>}\n",
      "<__main__.ListNode object at 0x7fa41832df98> {'val': 2, 'next': <__main__.ListNode object at 0x7fa41832d6a0>}\n",
      "<__main__.ListNode object at 0x7fa41832d6a0> {'val': 2, 'next': None}\n",
      "\n",
      "\n",
      "----------------------------------------------------------------------------------------------------\n",
      "<__main__.ListNode object at 0x7fa41832d4e0> {'val': 0, 'next': <__main__.ListNode object at 0x7fa41839ad30>}\n",
      "<__main__.ListNode object at 0x7fa41839ad30> {'val': 1, 'next': None}\n",
      "----------------------------------------------------------------------------------------------------\n",
      "<__main__.ListNode object at 0x7fa41832d470> {'val': 0, 'next': <__main__.ListNode object at 0x7fa41832d2b0>}\n",
      "<__main__.ListNode object at 0x7fa41832d2b0> {'val': 1, 'next': None}\n",
      "\n",
      "\n",
      "<__main__.ListNode object at 0x7fa41832df98> {'val': 9, 'next': <__main__.ListNode object at 0x7fa41832d6a0>}\n",
      "<__main__.ListNode object at 0x7fa41832d6a0> {'val': 9, 'next': None}\n",
      "----------------------------------------------------------------------------------------------------\n",
      "<__main__.ListNode object at 0x7fa41832d630> {'val': 1, 'next': None}\n",
      "----------------------------------------------------------------------------------------------------\n",
      "<__main__.ListNode object at 0x7fa41832d4e0> {'val': 0, 'next': <__main__.ListNode object at 0x7fa41832d550>}\n",
      "<__main__.ListNode object at 0x7fa41832d550> {'val': 0, 'next': <__main__.ListNode object at 0x7fa41832d208>}\n",
      "<__main__.ListNode object at 0x7fa41832d208> {'val': 1, 'next': None}\n",
      "\n",
      "\n"
     ]
    }
   ],
   "source": [
    "testcases = [\n",
    "    ([2, 4, 3], [5, 6, 4]),\n",
    "    ([0, 1], [0, 1, 2]),\n",
    "    ([], [0, 1]),\n",
    "    ([9, 9], [1])\n",
    "]\n",
    "for vs1, vs2 in testcases:\n",
    "    l1 = make_linked_list(vs1)\n",
    "    l2 = make_linked_list(vs2)\n",
    "    _ = show_two_numbers(l1, l2)\n",
    "    print('\\n')"
   ]
  },
  {
   "cell_type": "code",
   "execution_count": null,
   "metadata": {},
   "outputs": [],
   "source": []
  }
 ],
 "metadata": {
  "kernelspec": {
   "display_name": "Python 3",
   "language": "python",
   "name": "python3"
  },
  "language_info": {
   "codemirror_mode": {
    "name": "ipython",
    "version": 3
   },
   "file_extension": ".py",
   "mimetype": "text/x-python",
   "name": "python",
   "nbconvert_exporter": "python",
   "pygments_lexer": "ipython3",
   "version": "3.7.0"
  }
 },
 "nbformat": 4,
 "nbformat_minor": 2
}
