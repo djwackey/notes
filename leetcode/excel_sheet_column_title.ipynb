{
 "cells": [
  {
   "cell_type": "code",
   "execution_count": 1,
   "metadata": {},
   "outputs": [],
   "source": [
    "# 168.Excel表列名称\n",
    "#\n",
    "# 难度：简单\n",
    "#\n",
    "# 给定一个正整数，返回它在 Excel 表中相对应的列名称。\n",
    "#\n",
    "# 例如，\n",
    "#\n",
    "#    1 -> A\n",
    "#    2 -> B\n",
    "#    3 -> C\n",
    "#    ...\n",
    "#    26 -> Z\n",
    "#    27 -> AA\n",
    "#    28 -> AB \n",
    "#    ...\n",
    "#\n",
    "# 示例 1:\n",
    "# 输入: 1\n",
    "# 输出: \"A\"\n",
    "#\n",
    "# 示例 2:\n",
    "# 输入: 28\n",
    "# 输出: \"AB\"\n",
    "#\n",
    "# 示例 3:\n",
    "# 输入: 701\n",
    "# 输出: \"ZY\""
   ]
  },
  {
   "cell_type": "code",
   "execution_count": 2,
   "metadata": {},
   "outputs": [],
   "source": [
    "class Solution:\n",
    "    def convert_to_title(self, n):\n",
    "        s = ''\n",
    "        while n > 0:\n",
    "            c = n % 26\n",
    "            if c == 0:\n",
    "                c = 26\n",
    "                n -= 1\n",
    "            s = '{}{}'.format(chr(65 + c - 1), s)\n",
    "            n //= 26\n",
    "        return s"
   ]
  },
  {
   "cell_type": "code",
   "execution_count": 3,
   "metadata": {},
   "outputs": [
    {
     "name": "stdout",
     "output_type": "stream",
     "text": [
      "1 => A\n",
      "28 => AB\n",
      "701 => ZY\n"
     ]
    }
   ],
   "source": [
    "testcases = [\n",
    "    (1, 'A'),\n",
    "    (28, 'AB'),\n",
    "    (701, 'ZY')\n",
    "]\n",
    "\n",
    "s = Solution()\n",
    "for num, val in testcases:\n",
    "    assert(s.convert_to_title(num) == val)\n",
    "    print('{} => {}'.format(num, val))"
   ]
  }
 ],
 "metadata": {
  "kernelspec": {
   "display_name": "Python 3",
   "language": "python",
   "name": "python3"
  },
  "language_info": {
   "codemirror_mode": {
    "name": "ipython",
    "version": 3
   },
   "file_extension": ".py",
   "mimetype": "text/x-python",
   "name": "python",
   "nbconvert_exporter": "python",
   "pygments_lexer": "ipython3",
   "version": "3.7.0"
  }
 },
 "nbformat": 4,
 "nbformat_minor": 2
}
