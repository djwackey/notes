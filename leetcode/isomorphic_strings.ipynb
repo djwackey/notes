{
 "cells": [
  {
   "cell_type": "code",
   "execution_count": 1,
   "metadata": {},
   "outputs": [],
   "source": [
    "# 205.同构字符串\n",
    "#\n",
    "# 难度：简单\n",
    "#\n",
    "# 给定两个字符串 s 和 t，判断它们是否是同构的。\n",
    "#\n",
    "# 如果 s 中的字符可以被替换得到 t ，那么这两个字符串是同构的。\n",
    "#\n",
    "# 所有出现的字符都必须用另一个字符替换，同时保留字符的顺序。两个字符不能映射到同一个字符上，但字符可以映射自己本身。\n",
    "#\n",
    "# 示例 1:\n",
    "# 输入: s = \"egg\", t = \"add\"\n",
    "# 输出: true\n",
    "#\n",
    "# 示例 2:\n",
    "# 输入: s = \"foo\", t = \"bar\"\n",
    "# 输出: false\n",
    "#\n",
    "# 示例 3:\n",
    "# 输入: s = \"paper\", t = \"title\"\n",
    "# 输出: true\n",
    "# 说明:\n",
    "# 你可以假设 s 和 t 具有相同的长度。"
   ]
  },
  {
   "cell_type": "code",
   "execution_count": 2,
   "metadata": {},
   "outputs": [],
   "source": [
    "class Solution:\n",
    "    def is_isomorphic(self, s, t):\n",
    "        ds, dt = {}, {}\n",
    "        for i, _ in enumerate(s):\n",
    "            if s[i] not in ds and t[i] not in dt:\n",
    "                ds[s[i]] = i\n",
    "                dt[t[i]] = i\n",
    "            else:\n",
    "                if ds.get(s[i]) == None or dt.get(t[i]) == None:\n",
    "                    return False\n",
    "                else:\n",
    "                    if ds.get(s[i]) != dt.get(t[i]):\n",
    "                        return False\n",
    "        return True"
   ]
  },
  {
   "cell_type": "code",
   "execution_count": 3,
   "metadata": {},
   "outputs": [
    {
     "name": "stdout",
     "output_type": "stream",
     "text": [
      "egg, add => True\n",
      "foo, bar => False\n",
      "paper, title => True\n"
     ]
    }
   ],
   "source": [
    "testcases = [\n",
    "    ('egg', 'add', True),\n",
    "    ('foo', 'bar', False),\n",
    "    ('paper', 'title', True)\n",
    "]\n",
    "\n",
    "obj = Solution()\n",
    "for s, t, v in testcases:\n",
    "    assert(obj.is_isomorphic(s, t) == v)\n",
    "    print('{}, {} => {}'.format(s, t, v))"
   ]
  }
 ],
 "metadata": {
  "kernelspec": {
   "display_name": "Python 3",
   "language": "python",
   "name": "python3"
  },
  "language_info": {
   "codemirror_mode": {
    "name": "ipython",
    "version": 3
   },
   "file_extension": ".py",
   "mimetype": "text/x-python",
   "name": "python",
   "nbconvert_exporter": "python",
   "pygments_lexer": "ipython3",
   "version": "3.7.0"
  }
 },
 "nbformat": 4,
 "nbformat_minor": 2
}
