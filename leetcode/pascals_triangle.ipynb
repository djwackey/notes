{
 "cells": [
  {
   "cell_type": "code",
   "execution_count": 1,
   "metadata": {},
   "outputs": [],
   "source": [
    "# 118.杨辉三角\n",
    "#\n",
    "# 难度：简单\n",
    "#\n",
    "# 给定一个非负整数 numRows，生成杨辉三角的前 numRows 行。\n",
    "#\n",
    "# 在杨辉三角中，每个数是它左上方和右上方的数的和。\n",
    "#\n",
    "# 示例:\n",
    "#\n",
    "# 输入: 5\n",
    "# 输出:\n",
    "# [\n",
    "#      [1],\n",
    "#     [1,1],\n",
    "#    [1,2,1],\n",
    "#   [1,3,3,1],\n",
    "#  [1,4,6,4,1]\n",
    "# ]"
   ]
  },
  {
   "cell_type": "code",
   "execution_count": 2,
   "metadata": {},
   "outputs": [],
   "source": [
    "class Solution:\n",
    "    \"\"\"方法：动态规划\n",
    "        复杂度分析：\n",
    "            时间复杂度：O(numRows^2)\n",
    "            空间复杂度：O(numRows^2)，因为我们需要存储我们在triangle中更新的每个数字，所以空间需求与时间复杂度相同。\n",
    "    \"\"\"\n",
    "    def generate(self, nrows):\n",
    "        triangle = []\n",
    "\n",
    "        for n in range(nrows):\n",
    "            # The first and last row elements are always 1.\n",
    "            row = [None for _ in range(n+1)]\n",
    "            row[0], row[-1] = 1, 1\n",
    "\n",
    "            # Each triangle element is equal to the sum of the elements\n",
    "            # above-and-to-the-left and above-and-to-the-right.\n",
    "            for j in range(1, len(row)-1):\n",
    "                row[j] = triangle[n-1][j-1] + triangle[n-1][j]\n",
    "\n",
    "            triangle.append(row)\n",
    "\n",
    "        return triangle"
   ]
  },
  {
   "cell_type": "code",
   "execution_count": 3,
   "metadata": {},
   "outputs": [],
   "source": [
    "def print_pascals_triangle(ns):\n",
    "    print('[')\n",
    "    space = len(ns)\n",
    "    for d in ns:\n",
    "        print('{}{}'.format(' ' * space, d))\n",
    "        space -= 1\n",
    "    print(']')"
   ]
  },
  {
   "cell_type": "code",
   "execution_count": 4,
   "metadata": {},
   "outputs": [
    {
     "name": "stdout",
     "output_type": "stream",
     "text": [
      "[\n",
      "               [1]\n",
      "              [1, 1]\n",
      "             [1, 2, 1]\n",
      "            [1, 3, 3, 1]\n",
      "           [1, 4, 6, 4, 1]\n",
      "          [1, 5, 10, 10, 5, 1]\n",
      "         [1, 6, 15, 20, 15, 6, 1]\n",
      "        [1, 7, 21, 35, 35, 21, 7, 1]\n",
      "       [1, 8, 28, 56, 70, 56, 28, 8, 1]\n",
      "      [1, 9, 36, 84, 126, 126, 84, 36, 9, 1]\n",
      "     [1, 10, 45, 120, 210, 252, 210, 120, 45, 10, 1]\n",
      "    [1, 11, 55, 165, 330, 462, 462, 330, 165, 55, 11, 1]\n",
      "   [1, 12, 66, 220, 495, 792, 924, 792, 495, 220, 66, 12, 1]\n",
      "  [1, 13, 78, 286, 715, 1287, 1716, 1716, 1287, 715, 286, 78, 13, 1]\n",
      " [1, 14, 91, 364, 1001, 2002, 3003, 3432, 3003, 2002, 1001, 364, 91, 14, 1]\n",
      "]\n"
     ]
    }
   ],
   "source": [
    "s = Solution()\n",
    "ns = s.generate(15)\n",
    "print_pascals_triangle(ns)"
   ]
  }
 ],
 "metadata": {
  "kernelspec": {
   "display_name": "Python 3",
   "language": "python",
   "name": "python3"
  },
  "language_info": {
   "codemirror_mode": {
    "name": "ipython",
    "version": 3
   },
   "file_extension": ".py",
   "mimetype": "text/x-python",
   "name": "python",
   "nbconvert_exporter": "python",
   "pygments_lexer": "ipython3",
   "version": "3.7.0"
  }
 },
 "nbformat": 4,
 "nbformat_minor": 2
}
