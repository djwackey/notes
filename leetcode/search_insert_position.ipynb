{
 "cells": [
  {
   "cell_type": "code",
   "execution_count": 1,
   "metadata": {},
   "outputs": [],
   "source": [
    "# 35.搜索插入位置\n",
    "#\n",
    "# 难度：简单\n",
    "#\n",
    "# 给定一个排序数组和一个目标值，在数组中找到目标值，并返回其索引。如果目标值不存在于数组中，返回它将会被按顺序插入的位置。\n",
    "#\n",
    "# 你可以假设数组中无重复元素。\n",
    "#\n",
    "# 示例 1:\n",
    "# 输入: [1,3,5,6], 5\n",
    "# 输出: 2\n",
    "#\n",
    "# 示例 2:\n",
    "# 输入: [1,3,5,6], 2\n",
    "# 输出: 1\n",
    "#\n",
    "# 示例 3:\n",
    "# 输入: [1,3,5,6], 7\n",
    "# 输出: 4\n",
    "#\n",
    "# 示例 4:\n",
    "# 输入: [1,3,5,6], 0\n",
    "# 输出: 0"
   ]
  },
  {
   "cell_type": "code",
   "execution_count": 2,
   "metadata": {},
   "outputs": [],
   "source": [
    "class Solution:\n",
    "    \"\"\"二分查找法\n",
    "        复杂度分析：\n",
    "            时间复杂度：O(logn)\n",
    "            空间复杂度：O(1)\n",
    "    \"\"\"\n",
    "    def search_insert(self, nums, target):\n",
    "        left, right = 0, len(nums) - 1\n",
    "        while left <= right:\n",
    "            mid = (left + right) // 2\n",
    "            if nums[mid] == target:\n",
    "                return mid\n",
    "            elif nums[mid] < target:\n",
    "                left = mid + 1\n",
    "            else:\n",
    "                right = mid - 1\n",
    "        return left"
   ]
  },
  {
   "cell_type": "code",
   "execution_count": 3,
   "metadata": {},
   "outputs": [
    {
     "name": "stdout",
     "output_type": "stream",
     "text": [
      "ok\n"
     ]
    }
   ],
   "source": [
    "s = Solution()\n",
    "\n",
    "testcases = [\n",
    "    ([1,3,5,6], 5, 2),\n",
    "    ([1,3,5,6], 2, 1),\n",
    "    ([1,3,5,6], 7, 4),\n",
    "    ([1,3,5,6], 0, 0)\n",
    "]\n",
    "for nums, target, val in testcases:\n",
    "    ret = s.search_insert(nums, target)\n",
    "    assert(ret == val)\n",
    "\n",
    "print('ok')"
   ]
  }
 ],
 "metadata": {
  "kernelspec": {
   "display_name": "Python 3",
   "language": "python",
   "name": "python3"
  }
 },
 "nbformat": 4,
 "nbformat_minor": 2
}
