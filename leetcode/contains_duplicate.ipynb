{
 "cells": [
  {
   "cell_type": "code",
   "execution_count": 1,
   "metadata": {},
   "outputs": [],
   "source": [
    "# 217.存在重复元素\n",
    "#\n",
    "# 难度：简单\n",
    "#\n",
    "# 给定一个整数数组，判断是否存在重复元素。\n",
    "#\n",
    "# 如果任意一值在数组中出现至少两次，函数返回 true 。如果数组中每个元素都不相同，则返回 false 。\n",
    "#\n",
    "# 示例 1:\n",
    "# 输入: [1,2,3,1]\n",
    "# 输出: true\n",
    "#\n",
    "# 示例 2:\n",
    "# 输入: [1,2,3,4]\n",
    "# 输出: false\n",
    "#\n",
    "# 示例 3:\n",
    "# 输入: [1,1,1,3,3,4,3,2,4,2]\n",
    "# 输出: true"
   ]
  },
  {
   "cell_type": "code",
   "execution_count": 2,
   "metadata": {},
   "outputs": [],
   "source": [
    "class Solution1:\n",
    "    \"\"\"方法一：朴素线性查找\n",
    "        复杂度分析：\n",
    "            时间复杂度: O(n^2)。最坏的情况下，需要检查 n*(n+1)/2 对整数。因此，时间复杂度为 O(n^2)。\n",
    "            空间复杂度: O(1)。只使用了常数额外空间。\n",
    "    \"\"\"\n",
    "    def contains_duplicate(self, nums):\n",
    "        for i, _ in enumerate(nums):\n",
    "            for j in range(i):\n",
    "                if nums[j] == nums[i]:\n",
    "                    return True\n",
    "        return False"
   ]
  },
  {
   "cell_type": "code",
   "execution_count": 3,
   "metadata": {},
   "outputs": [
    {
     "name": "stdout",
     "output_type": "stream",
     "text": [
      "[1, 2, 3, 1] => True\n",
      "[1, 2, 3, 4] => False\n",
      "[1, 1, 1, 3, 3, 4, 3, 2, 4, 2] => True\n"
     ]
    }
   ],
   "source": [
    "testcases = [\n",
    "    ([1, 2, 3, 1], True),\n",
    "    ([1, 2, 3, 4], False),\n",
    "    ([1, 1, 1, 3, 3, 4, 3, 2, 4, 2], True)\n",
    "]\n",
    "\n",
    "s = Solution1()\n",
    "for nums, value in testcases:\n",
    "    assert(s.contains_duplicate(nums) == value)\n",
    "    print('{} => {}'.format(nums, value))"
   ]
  },
  {
   "cell_type": "code",
   "execution_count": 4,
   "metadata": {},
   "outputs": [],
   "source": [
    "class Solution2:\n",
    "    \"\"\"方法二：排序\n",
    "        复杂度分析：\n",
    "            时间复杂度: O(nlogn)。\n",
    "                排序的复杂度是 O(nlogn)，扫描的复杂度是 O(n)。整个算法主要由排序过程决定，因此是 O(nlogn)。\n",
    "            空间复杂度: O(1)。\n",
    "                这取决于具体的排序算法实现，通常而言，使用 堆排序 的话，是 O(1)。\n",
    "    \"\"\"\n",
    "    def contains_duplicate(self, nums):\n",
    "        nums = sorted(nums)\n",
    "        length = len(nums) - 1\n",
    "        for i in range(length):\n",
    "            if nums[i] == nums[i + 1]:\n",
    "                return True\n",
    "        return False"
   ]
  },
  {
   "cell_type": "code",
   "execution_count": 5,
   "metadata": {},
   "outputs": [
    {
     "name": "stdout",
     "output_type": "stream",
     "text": [
      "[1, 2, 3, 1] => True\n",
      "[1, 2, 3, 4] => False\n",
      "[1, 1, 1, 3, 3, 4, 3, 2, 4, 2] => True\n"
     ]
    }
   ],
   "source": [
    "s = Solution2()\n",
    "for nums, value in testcases:\n",
    "    assert(s.contains_duplicate(nums) == value)\n",
    "    print('{} => {}'.format(nums, value))"
   ]
  },
  {
   "cell_type": "code",
   "execution_count": 6,
   "metadata": {},
   "outputs": [],
   "source": [
    "class Solution3:\n",
    "    \"\"\"方法三：哈希表\n",
    "        复杂度分析：\n",
    "            时间复杂度: O(n)。search() 和 insert() 各自使用 n 次，每个操作耗费常数时间。\n",
    "            空间复杂度: O(n)。哈希表占用的空间与元素数量是线性关系。\n",
    "    \"\"\"\n",
    "    def contains_duplicate(self, nums):\n",
    "        d = {}\n",
    "        for n in nums:\n",
    "            if n in d:\n",
    "                return True\n",
    "            d[n] = 0\n",
    "        return False"
   ]
  },
  {
   "cell_type": "code",
   "execution_count": 7,
   "metadata": {},
   "outputs": [
    {
     "name": "stdout",
     "output_type": "stream",
     "text": [
      "[1, 2, 3, 1] => True\n",
      "[1, 2, 3, 4] => False\n",
      "[1, 1, 1, 3, 3, 4, 3, 2, 4, 2] => True\n"
     ]
    }
   ],
   "source": [
    "s = Solution3()\n",
    "for nums, value in testcases:\n",
    "    assert(s.contains_duplicate(nums) == value)\n",
    "    print('{} => {}'.format(nums, value))"
   ]
  }
 ],
 "metadata": {
  "kernelspec": {
   "display_name": "Python 3",
   "language": "python",
   "name": "python3"
  },
  "language_info": {
   "codemirror_mode": {
    "name": "ipython",
    "version": 3
   },
   "file_extension": ".py",
   "mimetype": "text/x-python",
   "name": "python",
   "nbconvert_exporter": "python",
   "pygments_lexer": "ipython3",
   "version": "3.7.0"
  }
 },
 "nbformat": 4,
 "nbformat_minor": 2
}
