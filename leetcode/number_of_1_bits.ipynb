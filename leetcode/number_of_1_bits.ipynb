{
 "cells": [
  {
   "cell_type": "code",
   "execution_count": 1,
   "metadata": {},
   "outputs": [],
   "source": [
    "# 191.位1的个数\n",
    "#\n",
    "# 难度：简单\n",
    "#\n",
    "# 编写一个函数，输入是一个无符号整数，返回其二进制表达式中数字位数为 ‘1’ 的个数（也被称为汉明重量）。\n",
    "#\n",
    "# 示例 1：\n",
    "# 输入：00000000000000000000000000001011\n",
    "# 输出：3\n",
    "# 解释：输入的二进制串 00000000000000000000000000001011 中，共有三位为 '1'。\n",
    "#\n",
    "# 示例 2：\n",
    "# 输入：00000000000000000000000010000000\n",
    "# 输出：1\n",
    "# 解释：输入的二进制串 00000000000000000000000010000000 中，共有一位为 '1'。\n",
    "#\n",
    "# 示例 3：\n",
    "# 输入：11111111111111111111111111111101\n",
    "# 输出：31\n",
    "# 解释：输入的二进制串 11111111111111111111111111111101 中，共有 31 位为 '1'。\n",
    "#\n",
    "# 提示：\n",
    "# 请注意，在某些语言（如 Java）中，没有无符号整数类型。在这种情况下，输入和输出都将被指定为有符号整数类型，\n",
    "# 并且不应影响您的实现，因为无论整数是有符号的还是无符号的，其内部的二进制表示形式都是相同的。\n",
    "# 在 Java 中，编译器使用二进制补码记法来表示有符号整数。因此，在上面的 示例 3 中，输入表示有符号整数 -3。\n",
    "#\n",
    "# 进阶:\n",
    "# 如果多次调用这个函数，你将如何优化你的算法？"
   ]
  },
  {
   "cell_type": "code",
   "execution_count": 2,
   "metadata": {},
   "outputs": [],
   "source": [
    "class Solution1:\n",
    "    \"\"\"方法一：循环和位移动\n",
    "        复杂度分析:\n",
    "            时间复杂度：O(1)。运行时间依赖于数字 n 的位数。由于这题中 n 是一个 32 位数，所以运行时间是 O(1) 的。\n",
    "            空间复杂度：O(1)。没有使用额外空间。\n",
    "    \"\"\"\n",
    "    def hamming_weight(self, n):\n",
    "        bits, mask = 0, 1\n",
    "        for i in range(32):\n",
    "            if (n & mask) != 0:\n",
    "                bits += 1\n",
    "            mask <<= 1\n",
    "        return bits"
   ]
  },
  {
   "cell_type": "code",
   "execution_count": 3,
   "metadata": {},
   "outputs": [
    {
     "data": {
      "text/plain": [
       "3"
      ]
     },
     "execution_count": 4,
     "metadata": {},
     "output_type": "execute_result"
    }
   ],
   "source": [
    "n = 11\n",
    "\n",
    "s = Solution1()\n",
    "s.hamming_weight(n)"
   ]
  },
  {
   "cell_type": "code",
   "execution_count": 5,
   "metadata": {},
   "outputs": [],
   "source": [
    "class Solution2:\n",
    "    \"\"\"方法二：位操作的小技巧\n",
    "        复杂度分析：\n",
    "            时间复杂度：O(1)。运行时间与n中位为1的有关。在最坏情况下，n中所有位都是1。对于32位整数，运行时间是O(1)的。\n",
    "            空间复杂度：O(1)。没有使用额外空间。\n",
    "    \"\"\"\n",
    "    def hamming_weight(self, n):\n",
    "        sums = 0\n",
    "        while n != 0:\n",
    "            sums += 1\n",
    "            n &= (n - 1)\n",
    "        return sums"
   ]
  },
  {
   "cell_type": "code",
   "execution_count": 6,
   "metadata": {},
   "outputs": [
    {
     "data": {
      "text/plain": [
       "3"
      ]
     },
     "execution_count": 7,
     "metadata": {},
     "output_type": "execute_result"
    }
   ],
   "source": [
    "n = 11\n",
    "\n",
    "s = Solution2()\n",
    "s.hamming_weight(n)"
   ]
  }
 ],
 "metadata": {
  "kernelspec": {
   "display_name": "Python 3",
   "language": "python",
   "name": "python3"
  },
  "language_info": {
   "codemirror_mode": {
    "name": "ipython",
    "version": 3
   },
   "file_extension": ".py",
   "mimetype": "text/x-python",
   "name": "python",
   "nbconvert_exporter": "python",
   "pygments_lexer": "ipython3",
   "version": "3.7.0"
  }
 },
 "nbformat": 4,
 "nbformat_minor": 2
}
