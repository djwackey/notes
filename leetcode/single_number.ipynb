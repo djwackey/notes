{
 "cells": [
  {
   "cell_type": "code",
   "execution_count": 1,
   "metadata": {},
   "outputs": [],
   "source": [
    "# 136.只出现一次的数字\n",
    "#\n",
    "# 难度：简单\n",
    "#\n",
    "# 给定一个非空整数数组，除了某个元素只出现一次以外，其余每个元素均出现两次。找出那个只出现了一次的元素。\n",
    "#\n",
    "# 说明：\n",
    "# 你的算法应该具有线性时间复杂度。你可以不使用额外空间来实现吗？\n",
    "#\n",
    "# 示例 1:\n",
    "# 输入: [2,2,1]\n",
    "# 输出: 1\n",
    "#\n",
    "# 示例 2:\n",
    "# 输入: [4,1,2,1,2]\n",
    "# 输出: 4"
   ]
  },
  {
   "cell_type": "code",
   "execution_count": 2,
   "metadata": {},
   "outputs": [],
   "source": [
    "class Solution1:\n",
    "    \"\"\"方法一：列表操作\n",
    "        复杂度分析：\n",
    "            时间复杂度：O(n^2)。我们遍历nums花费O(n)的时间。\n",
    "                我们还要在列表中遍历判断是否存在这个数字，花费O(n)的时间，所以总循环时间为O(n^2)。\n",
    "            空间复杂度：O(n)。我们需要一个大小为n的列表保存所有的nums中元素。\n",
    "    \"\"\"\n",
    "    def single_number(self, nums):\n",
    "        l = []\n",
    "        for i in nums:\n",
    "            if i not in l:\n",
    "                l.append(i)\n",
    "            else:\n",
    "                l.remove(i)\n",
    "        return l.pop()"
   ]
  },
  {
   "cell_type": "code",
   "execution_count": 3,
   "metadata": {},
   "outputs": [
    {
     "name": "stdout",
     "output_type": "stream",
     "text": [
      "[2, 2, 1] => 1\n",
      "[4, 1, 2, 1, 2] => 4\n"
     ]
    }
   ],
   "source": [
    "testcases = [\n",
    "    ([2,2,1], 1),\n",
    "    ([4,1,2,1,2], 4)\n",
    "]\n",
    "\n",
    "s = Solution1()\n",
    "for nums, val in testcases:\n",
    "    assert(s.single_number(nums) == val)\n",
    "    print('{} => {}'.format(nums, val))"
   ]
  },
  {
   "cell_type": "code",
   "execution_count": 4,
   "metadata": {},
   "outputs": [],
   "source": [
    "class Solution2:\n",
    "    \"\"\"方法二：哈希表\n",
    "        复杂度分析：\n",
    "            时间复杂度：O(n⋅1)=O(n)。for循环的时间复杂度是O(n)。Python中哈希表的pop操作时间复杂度为O(1)。\n",
    "            空间复杂度：O(n)。哈希表需要的空间与nums中元素个数相等。\n",
    "    \"\"\"\n",
    "    def single_number(self, nums):\n",
    "        d = {}\n",
    "        for i in nums:\n",
    "            try:\n",
    "                d.pop(i)\n",
    "            except:\n",
    "                d[i] = 1\n",
    "        return d.popitem()[0]"
   ]
  },
  {
   "cell_type": "code",
   "execution_count": 5,
   "metadata": {},
   "outputs": [
    {
     "name": "stdout",
     "output_type": "stream",
     "text": [
      "[2, 2, 1] => 1\n",
      "[4, 1, 2, 1, 2] => 4\n"
     ]
    }
   ],
   "source": [
    "s = Solution2()\n",
    "for nums, val in testcases:\n",
    "    assert(s.single_number(nums) == val)\n",
    "    print('{} => {}'.format(nums, val))"
   ]
  },
  {
   "cell_type": "code",
   "execution_count": 6,
   "metadata": {},
   "outputs": [],
   "source": [
    "class Solution3:\n",
    "    \"\"\"方法三：数学\n",
    "        概念：2∗(a+b+c)−(a+a+b+b+c)=c\n",
    "        复杂度分析：\n",
    "            时间复杂度：O(n+n)=O(n)。sum会调用next将nums中的元素遍历一遍。\n",
    "                我们可以把上述代码看成sum(list(i, for i in nums))，这意味着时间复杂度为O(n)，因为nums中的元素个数是n个。\n",
    "            空间复杂度：O(n+n)=O(n)。set需要的空间跟nums中元素个数相等。\n",
    "    \"\"\"\n",
    "    def single_number(self, nums):\n",
    "        return 2 * sum(set(nums)) - sum(nums)"
   ]
  },
  {
   "cell_type": "code",
   "execution_count": 7,
   "metadata": {},
   "outputs": [
    {
     "name": "stdout",
     "output_type": "stream",
     "text": [
      "[2, 2, 1] => 1\n",
      "[4, 1, 2, 1, 2] => 4\n"
     ]
    }
   ],
   "source": [
    "s = Solution3()\n",
    "for nums, val in testcases:\n",
    "    assert(s.single_number(nums) == val)\n",
    "    print('{} => {}'.format(nums, val))"
   ]
  },
  {
   "cell_type": "code",
   "execution_count": 8,
   "metadata": {},
   "outputs": [],
   "source": [
    "class Solution4:\n",
    "    \"\"\"方法四：位操作\n",
    "        复杂度分析：\n",
    "            时间复杂度：O(n)。我们只需要将nums中的元素遍历一遍，所以时间复杂度就是nums中的元素个数。\n",
    "            空间复杂度：O(1)。\n",
    "    \"\"\"\n",
    "    def single_number(self, nums):\n",
    "        ret = 0\n",
    "        for i in nums:\n",
    "            ret ^= i\n",
    "        return ret"
   ]
  },
  {
   "cell_type": "code",
   "execution_count": 9,
   "metadata": {},
   "outputs": [
    {
     "name": "stdout",
     "output_type": "stream",
     "text": [
      "[2, 2, 1] => 1\n",
      "[4, 1, 2, 1, 2] => 4\n"
     ]
    }
   ],
   "source": [
    "s = Solution4()\n",
    "for nums, val in testcases:\n",
    "    assert(s.single_number(nums) == val)\n",
    "    print('{} => {}'.format(nums, val))"
   ]
  }
 ],
 "metadata": {
  "kernelspec": {
   "display_name": "Python 3",
   "language": "python",
   "name": "python3"
  },
  "language_info": {
   "codemirror_mode": {
    "name": "ipython",
    "version": 3
   },
   "file_extension": ".py",
   "mimetype": "text/x-python",
   "name": "python",
   "nbconvert_exporter": "python",
   "pygments_lexer": "ipython3",
   "version": "3.7.0"
  }
 },
 "nbformat": 4,
 "nbformat_minor": 2
}
