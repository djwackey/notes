{
 "cells": [
  {
   "cell_type": "code",
   "execution_count": 1,
   "metadata": {},
   "outputs": [],
   "source": [
    "# 20.有效的括号\n",
    "#\n",
    "# 难度：简单\n",
    "#\n",
    "# 给定一个只包括 '('，')'，'{'，'}'，'['，']' 的字符串，判断字符串是否有效。\n",
    "#\n",
    "# 有效字符串需满足：\n",
    "# 左括号必须用相同类型的右括号闭合。\n",
    "# 左括号必须以正确的顺序闭合。\n",
    "# 注意空字符串可被认为是有效字符串。\n",
    "#\n",
    "# 示例 1:\n",
    "# 输入: \"()\"\n",
    "# 输出: true\n",
    "#\n",
    "# 示例 2:\n",
    "# 输入: \"()[]{}\"\n",
    "# 输出: true\n",
    "#\n",
    "# 示例 3:\n",
    "# 输入: \"(]\"\n",
    "# 输出: false\n",
    "#\n",
    "# 示例 4:\n",
    "# 输入: \"([)]\"\n",
    "# 输出: false\n",
    "#\n",
    "# 示例 5:\n",
    "# 输入: \"{[]}\"\n",
    "# 输出: true"
   ]
  },
  {
   "cell_type": "code",
   "execution_count": 2,
   "metadata": {},
   "outputs": [],
   "source": [
    "class Solution(object):\n",
    "    \"\"\"栈\n",
    "        复杂度分析：\n",
    "            时间复杂度：O(n)，因为我们一次只遍历给定的字符串中的一个字符并在栈上进行 O(1) 的推入和弹出操作。\n",
    "            空间复杂度：O(n)，当我们将所有的开括号都推到栈上时以及在最糟糕的情况下，我们最终要把所有括号推到栈上。例如 ((((((((((。\n",
    "    \"\"\"\n",
    "    def is_valid(self, s):\n",
    "        \"\"\"\n",
    "        :type s: str\n",
    "        :rtype: bool\n",
    "        \"\"\"\n",
    "        # The stack to keep track of opening brackets.\n",
    "        stack = []\n",
    "\n",
    "        # Hash map for keeping track of mappings. This keeps the code very clean.\n",
    "        # Also makes adding more types of parenthesis easier\n",
    "        mapping = {\")\": \"(\", \"}\": \"{\", \"]\": \"[\"}\n",
    "\n",
    "        # For every bracket in the expression.\n",
    "        for char in s:\n",
    "            # If the character is an closing bracket\n",
    "            if char in mapping:\n",
    "                # Pop the topmost element from the stack, if it is non empty\n",
    "                # Otherwise assign a dummy value of '#' to the top_element variable\n",
    "                top_element = stack.pop() if stack else '#'\n",
    "\n",
    "                # The mapping for the opening bracket in our hash and the top\n",
    "                # element of the stack don't match, return False\n",
    "                if mapping[char] != top_element:\n",
    "                    return False\n",
    "            else:\n",
    "                # We have an opening bracket, simply push it onto the stack.\n",
    "                stack.append(char)\n",
    "\n",
    "        # In the end, if the stack is empty, then we have a valid expression.\n",
    "        # The stack won't be empty for cases like ((()\n",
    "        return not stack"
   ]
  },
  {
   "cell_type": "code",
   "execution_count": 3,
   "metadata": {},
   "outputs": [
    {
     "name": "stdout",
     "output_type": "stream",
     "text": [
      "True\n",
      "False\n",
      "True\n",
      "False\n",
      "True\n"
     ]
    }
   ],
   "source": [
    "testcases = [\n",
    "    (\"()\", True),\n",
    "    (\"(]\", False),\n",
    "    (\"{[]}\", True),\n",
    "    (\"([)]\", False),\n",
    "    (\"()[]{}\", True)\n",
    "]\n",
    "s = Solution()\n",
    "for tc, val in testcases:\n",
    "    assert(s.is_valid(tc) == val)\n",
    "    print(val)"
   ]
  }
 ],
 "metadata": {
  "kernelspec": {
   "display_name": "Python 3",
   "language": "python",
   "name": "python3"
  },
  "language_info": {
   "codemirror_mode": {
    "name": "ipython",
    "version": 3
   },
   "file_extension": ".py",
   "mimetype": "text/x-python",
   "name": "python",
   "nbconvert_exporter": "python",
   "pygments_lexer": "ipython3",
   "version": "3.7.0"
  }
 },
 "nbformat": 4,
 "nbformat_minor": 2
}
