{
 "cells": [
  {
   "cell_type": "code",
   "execution_count": 1,
   "metadata": {},
   "outputs": [],
   "source": [
    "# 53.最大子序和\n",
    "#\n",
    "# 难度：简单\n",
    "#\n",
    "# 给定一个整数数组 nums ，找到一个具有最大和的连续子数组（子数组最少包含一个元素），返回其最大和。\n",
    "#\n",
    "# 示例:\n",
    "# 输入: [-2,1,-3,4,-1,2,1,-5,4],\n",
    "# 输出: 6\n",
    "# 解释: 连续子数组 [4,-1,2,1] 的和最大，为 6。\n",
    "# 进阶:\n",
    "# 如果你已经实现复杂度为 O(n) 的解法，尝试使用更为精妙的分治法求解。"
   ]
  },
  {
   "cell_type": "code",
   "execution_count": 2,
   "metadata": {},
   "outputs": [],
   "source": [
    "class Solution1:\n",
    "    \"\"\"方法一：分治法\n",
    "        复杂度分析：\n",
    "            时间复杂度：O(NlogN)\n",
    "            空间复杂度：O(logN)，递归时栈使用的空间\n",
    "    \"\"\"\n",
    "    def cross_sum(self, nums, left, right, p): \n",
    "        if left == right:\n",
    "            return nums[left]\n",
    "\n",
    "        left_subsum = float('-inf')\n",
    "        curr_sum = 0\n",
    "        for i in range(p, left - 1, -1):\n",
    "            curr_sum += nums[i]\n",
    "            left_subsum = max(left_subsum, curr_sum)\n",
    "\n",
    "        right_subsum = float('-inf')\n",
    "        curr_sum = 0\n",
    "        for i in range(p + 1, right + 1):\n",
    "            curr_sum += nums[i]\n",
    "            right_subsum = max(right_subsum, curr_sum)\n",
    "\n",
    "        return left_subsum + right_subsum   \n",
    "    \n",
    "    def helper(self, nums, left, right): \n",
    "        if left == right:\n",
    "            return nums[left]\n",
    "        \n",
    "        p = (left + right) // 2\n",
    "            \n",
    "        left_sum = self.helper(nums, left, p)\n",
    "        right_sum = self.helper(nums, p + 1, right)\n",
    "        cross_sum = self.cross_sum(nums, left, right, p)\n",
    "        \n",
    "        return max(left_sum, right_sum, cross_sum)\n",
    "        \n",
    "    def max_sub_array(self, nums):\n",
    "        return self.helper(nums, 0, len(nums) - 1)"
   ]
  },
  {
   "cell_type": "code",
   "execution_count": 3,
   "metadata": {},
   "outputs": [
    {
     "data": {
      "text/plain": [
       "6"
      ]
     },
     "execution_count": 4,
     "metadata": {},
     "output_type": "execute_result"
    }
   ],
   "source": [
    "nums = [-2, 1, -3, 4, -1, 2, 1, -5, 4]\n",
    "s = Solution1()\n",
    "s.max_sub_array(nums)"
   ]
  },
  {
   "cell_type": "code",
   "execution_count": 5,
   "metadata": {},
   "outputs": [],
   "source": [
    "class Solution2:\n",
    "    \"\"\"方法二：贪心法\n",
    "        复杂度分析：\n",
    "            时间复杂度：O(N)。只遍历一次数组。\n",
    "            空间复杂度：O(1)，只使用了常数空间。\n",
    "    \"\"\"\n",
    "    def max_sub_array(self, nums):\n",
    "        n = len(nums)\n",
    "        curr_sum = max_sum = nums[0]\n",
    "\n",
    "        for i in range(1, n):\n",
    "            curr_sum = max(nums[i], curr_sum + nums[i])\n",
    "            max_sum = max(max_sum, curr_sum)\n",
    "            \n",
    "        return max_sum"
   ]
  },
  {
   "cell_type": "code",
   "execution_count": 6,
   "metadata": {},
   "outputs": [
    {
     "data": {
      "text/plain": [
       "6"
      ]
     },
     "execution_count": 7,
     "metadata": {},
     "output_type": "execute_result"
    }
   ],
   "source": [
    "nums = [-2, 1, -3, 4, -1, 2, 1, -5, 4]\n",
    "s = Solution2()\n",
    "s.max_sub_array(nums)"
   ]
  },
  {
   "cell_type": "code",
   "execution_count": 8,
   "metadata": {},
   "outputs": [],
   "source": [
    "class Solution3:\n",
    "    \"\"\"方法三：动态规划（Kadane算法）\n",
    "        复杂度分析：\n",
    "            时间复杂度：O(N)。只遍历了一次数组。\n",
    "            空间复杂度：O(1)，使用了常数的空间。\n",
    "    \"\"\"\n",
    "    def max_sub_array(self, nums):\n",
    "        n = len(nums)\n",
    "        max_sum = nums[0]\n",
    "        for i in range(1, n):\n",
    "            if nums[i - 1] > 0:\n",
    "                nums[i] += nums[i - 1] \n",
    "            max_sum = max(nums[i], max_sum)\n",
    "\n",
    "        return max_sum"
   ]
  },
  {
   "cell_type": "code",
   "execution_count": 9,
   "metadata": {},
   "outputs": [
    {
     "data": {
      "text/plain": [
       "6"
      ]
     },
     "execution_count": 10,
     "metadata": {},
     "output_type": "execute_result"
    }
   ],
   "source": [
    "nums = [-2, 1, -3, 4, -1, 2, 1, -5, 4]\n",
    "s = Solution3()\n",
    "s.max_sub_array(nums)"
   ]
  }
 ],
 "metadata": {
  "kernelspec": {
   "display_name": "Python 3",
   "language": "python",
   "name": "python3"
  },
  "language_info": {
   "codemirror_mode": {
    "name": "ipython",
    "version": 3
   },
   "file_extension": ".py",
   "mimetype": "text/x-python",
   "name": "python",
   "nbconvert_exporter": "python",
   "pygments_lexer": "ipython3",
   "version": "3.7.0"
  }
 },
 "nbformat": 4,
 "nbformat_minor": 2
}
