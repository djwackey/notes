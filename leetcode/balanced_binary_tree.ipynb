{
 "cells": [
  {
   "cell_type": "code",
   "execution_count": 1,
   "metadata": {},
   "outputs": [],
   "source": [
    "# 110.平衡二叉树\n",
    "#\n",
    "# 难度：简单\n",
    "#\n",
    "# 给定一个二叉树，判断它是否是高度平衡的二叉树。\n",
    "#\n",
    "# 本题中，一棵高度平衡二叉树定义为：\n",
    "#\n",
    "# 一个二叉树每个节点 的左右两个子树的高度差的绝对值不超过1。\n",
    "#\n",
    "# 示例 1:\n",
    "#\n",
    "# 给定二叉树 [3,9,20,null,null,15,7]\n",
    "#\n",
    "#    3\n",
    "#   / \\\n",
    "#  9  20\n",
    "#    /  \\\n",
    "#   15   7\n",
    "# 返回 true 。\n",
    "#\n",
    "# 示例 2:\n",
    "#\n",
    "# 给定二叉树 [1,2,2,3,3,null,null,4,4]\n",
    "#\n",
    "#       1\n",
    "#      / \\\n",
    "#     2   2\n",
    "#    / \\\n",
    "#   3   3\n",
    "#  / \\\n",
    "# 4   4\n",
    "# 返回 false 。"
   ]
  },
  {
   "cell_type": "code",
   "execution_count": 2,
   "metadata": {},
   "outputs": [],
   "source": [
    "# Definition for a binary tree node.\n",
    "class TreeNode:\n",
    "    def __init__(self, x):\n",
    "        self.val = x\n",
    "        self.left = None\n",
    "        self.right = None"
   ]
  },
  {
   "cell_type": "code",
   "execution_count": 3,
   "metadata": {},
   "outputs": [],
   "source": [
    "class Solution1:\n",
    "    \"\"\"方法一：自顶向下的递归\n",
    "        复杂度分析：\n",
    "            时间复杂度：O(nlogn)。\n",
    "            空间复杂度：O(n)。如果树完全倾斜，递归栈可能包含所有节点。\n",
    "    \"\"\"\n",
    "    # Compute the tree's height via recursion\n",
    "    def height(self, root):\n",
    "        # An empty tree has height -1\n",
    "        if not root:\n",
    "            return -1\n",
    "        return 1 + max(self.height(root.left), self.height(root.right))\n",
    "    \n",
    "    def is_balanced(self, root):\n",
    "        # An empty tree satisfies the definition of a balanced tree\n",
    "        if not root:\n",
    "            return True\n",
    "\n",
    "        # Check if subtrees have height within 1. If they do, check if the\n",
    "        # subtrees are balanced\n",
    "        return abs(self.height(root.left) - self.height(root.right)) < 2 \\\n",
    "            and self.is_balanced(root.left) \\\n",
    "            and self.is_balanced(root.right)"
   ]
  },
  {
   "cell_type": "code",
   "execution_count": 4,
   "metadata": {},
   "outputs": [],
   "source": [
    "class Solution2:\n",
    "    \"\"\"方法二：自底向上的递归\n",
    "        复杂度分析：\n",
    "            时间复杂度：O(n)，计算每棵子树的高度和判断平衡操作都在恒定时间内完成。\n",
    "            空间复杂度：O(n)，如果树不平衡，递归栈可能达到O(n)。\n",
    "    \"\"\"\n",
    "    # Return whether or not the tree at root is balanced while also returning\n",
    "    # the tree's height\n",
    "    def helper(self, root):\n",
    "        # An empty tree is balanced and has height -1\n",
    "        if not root:\n",
    "            return True, -1\n",
    "        \n",
    "        # Check subtrees to see if they are balanced. \n",
    "        leftIsBalanced, leftHeight = self.helper(root.left)\n",
    "        if not leftIsBalanced:\n",
    "            return False, 0\n",
    "        rightIsBalanced, rightHeight = self.helper(root.right)\n",
    "        if not rightIsBalanced:\n",
    "            return False, 0\n",
    "        \n",
    "        # If the subtrees are balanced, check if the current tree is balanced\n",
    "        # using their height\n",
    "        return (abs(leftHeight - rightHeight) < 2), 1 + max(leftHeight, rightHeight)\n",
    "        \n",
    "    def is_balanced(self, root):\n",
    "        return self.helper(root)[0]"
   ]
  }
 ],
 "metadata": {
  "kernelspec": {
   "display_name": "Python 3",
   "language": "python",
   "name": "python3"
  },
  "language_info": {
   "codemirror_mode": {
    "name": "ipython",
    "version": 3
   },
   "file_extension": ".py",
   "mimetype": "text/x-python",
   "name": "python",
   "nbconvert_exporter": "python",
   "pygments_lexer": "ipython3",
   "version": "3.7.0"
  }
 },
 "nbformat": 4,
 "nbformat_minor": 2
}
