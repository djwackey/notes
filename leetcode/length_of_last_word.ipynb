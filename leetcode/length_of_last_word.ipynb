{
 "cells": [
  {
   "cell_type": "code",
   "execution_count": 1,
   "metadata": {},
   "outputs": [],
   "source": [
    "# 58.最后一个单词的长度\n",
    "#\n",
    "# 难度：简单\n",
    "#\n",
    "# 给定一个仅包含大小写字母和空格 ' ' 的字符串 s，返回其最后一个单词的长度。如果字符串从左向右滚动显示，那么最后一个单词就是最后出现的单词。\n",
    "#\n",
    "# 如果不存在最后一个单词，请返回 0 。\n",
    "#\n",
    "# 说明：一个单词是指仅由字母组成、不包含任何空格字符的 最大子字符串。\n",
    "#\n",
    "# 示例:\n",
    "# 输入: \"Hello World\"\n",
    "# 输出: 5"
   ]
  },
  {
   "cell_type": "code",
   "execution_count": 2,
   "metadata": {},
   "outputs": [],
   "source": [
    "class Solution:\n",
    "    \"\"\"\n",
    "        复杂度分析：\n",
    "            时间复杂度：O(n)，n为结尾空格和结尾单词总体长度。\n",
    "    \"\"\"\n",
    "    def length_of_last_word(self, s):\n",
    "        end = len(s) - 1\n",
    "        while end >= 0 and s[end] == ' ':\n",
    "            end -= 1\n",
    "        if end < 0:\n",
    "            return 0\n",
    "        start = end\n",
    "        while start >= 0 and s[start] != ' ':\n",
    "            start -= 1\n",
    "        return end - start"
   ]
  },
  {
   "cell_type": "code",
   "execution_count": 3,
   "metadata": {},
   "outputs": [
    {
     "data": {
      "text/plain": [
       "5"
      ]
     },
     "execution_count": 4,
     "metadata": {},
     "output_type": "execute_result"
    }
   ],
   "source": [
    "sentence = \"Hello World\"\n",
    "s = Solution()\n",
    "s.length_of_last_word(sentence)"
   ]
  }
 ],
 "metadata": {
  "kernelspec": {
   "display_name": "Python 3",
   "language": "python",
   "name": "python3"
  },
  "language_info": {
   "codemirror_mode": {
    "name": "ipython",
    "version": 3
   },
   "file_extension": ".py",
   "mimetype": "text/x-python",
   "name": "python",
   "nbconvert_exporter": "python",
   "pygments_lexer": "ipython3",
   "version": "3.7.0"
  }
 },
 "nbformat": 4,
 "nbformat_minor": 2
}
